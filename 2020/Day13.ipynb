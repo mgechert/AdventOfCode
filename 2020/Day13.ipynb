{
 "cells": [
  {
   "cell_type": "markdown",
   "metadata": {},
   "source": [
    "## --- [Day 13: Shuttle Search](https://adventofcode.com/2020/day/13) ---"
   ]
  },
  {
   "cell_type": "code",
   "execution_count": 1,
   "metadata": {},
   "outputs": [],
   "source": [
    "# Puzzle inputs\n",
    "example_input_a = 939\n",
    "example_input_b = '7,13,x,x,59,x,31,19'\n",
    "\n",
    "input_a = 1013728\n",
    "input_b = '23,x,x,x,x,x,x,x,x,x,x,x,x,41,x,x,x,x,x,x,x,x,x,733,x,x,x,x,x,x,x,x,x,x,x,x,13,17,x,x,x,x,19,x,x,x,x,x,x,x,x,x,29,x,449,x,x,x,x,x,x,x,x,x,x,x,x,x,x,x,x,x,x,x,x,x,x,x,x,x,x,x,x,x,x,x,x,x,x,x,x,37'"
   ]
  },
  {
   "cell_type": "code",
   "execution_count": 2,
   "metadata": {},
   "outputs": [],
   "source": [
    "def parse_id_str(id_str):\n",
    "    '''\n",
    "    :param id_str: comma-delimited string of integer ID numbers, or 'x' for out-of-service (ignored)\n",
    "    :return: a list of in-service routes\n",
    "    '''\n",
    "    ids = []\n",
    "    for id in id_str.split(','):\n",
    "        try:\n",
    "            ids.append(int(id))\n",
    "        except ValueError:\n",
    "            continue\n",
    "    return ids\n",
    "\n",
    "def find_next_departure(start_time, ids):\n",
    "    '''\n",
    "    Part 1: find the next soonest departure on any route\n",
    "    :param start_time: earliest possible departure time\n",
    "    :param ids: IDs of in-service routes\n",
    "    '''\n",
    "    elapsed = 0\n",
    "    while True:\n",
    "        for id in ids:\n",
    "            if (start_time + elapsed) % id == 0:\n",
    "                return (id, elapsed)\n",
    "        elapsed += 1"
   ]
  },
  {
   "cell_type": "code",
   "execution_count": 3,
   "metadata": {},
   "outputs": [],
   "source": [
    "# Test against the example data\n",
    "example_ids = parse_id_str(example_input_b)\n",
    "assert example_ids == [7,13,59,31,19]\n",
    "assert find_next_departure(example_input_a, example_ids) == (59,5)"
   ]
  },
  {
   "cell_type": "code",
   "execution_count": 4,
   "metadata": {},
   "outputs": [
    {
     "name": "stdout",
     "output_type": "stream",
     "text": [
      "Next departure on bus 733 in 11 minutes; solution is 8063\n"
     ]
    }
   ],
   "source": [
    "# Part 1 solution\n",
    "ids = parse_id_str(input_b)\n",
    "next = find_next_departure(input_a, ids)\n",
    "print(f'Next departure on bus {next[0]} in {next[1]} minutes; solution is {next[0] * next[1]}')"
   ]
  },
  {
   "cell_type": "markdown",
   "metadata": {},
   "source": [
    "### Part 2\n",
    "What is the earliest timestamp such that all of the listed bus IDs depart at offsets matching their positions in the list?"
   ]
  },
  {
   "cell_type": "code",
   "execution_count": 5,
   "metadata": {},
   "outputs": [],
   "source": [
    "def parse_id_full(id_str):\n",
    "    '''\n",
    "    Same as parse_id_str above, but keep the 'x' values intact\n",
    "    '''\n",
    "    ids = []\n",
    "    for id in id_str.split(','):\n",
    "        try:\n",
    "            ids.append(int(id))\n",
    "        except ValueError:\n",
    "            ids.append(id)\n",
    "    return ids\n",
    "\n",
    "def find_i_max(ids):\n",
    "    i_max = None\n",
    "    \n",
    "    for i in range(len(ids)):\n",
    "        if isinstance(ids[i], int):\n",
    "            if i_max is None:\n",
    "                i_max = i\n",
    "            elif ids[i] > ids[i_max]:\n",
    "                i_max = i\n",
    "    return i_max\n",
    "\n",
    "def search(id_str):\n",
    "    '''\n",
    "    Brute-force (non)solution to part 2\n",
    "    '''\n",
    "    ids = parse_id_full(id_str)\n",
    "    i_max = find_i_max(ids)\n",
    "    val_max = ids[i_max]\n",
    "    result = None\n",
    "    \n",
    "    # Start below at the first possible occurence, which is val_max - i_max\n",
    "    elapsed = -i_max\n",
    "    \n",
    "    while not result:\n",
    "        elapsed += val_max\n",
    "        result = True\n",
    "        for i in range(len(ids)):\n",
    "            if ids[i] != 'x':\n",
    "                result &= (elapsed + i) % ids[i] == 0\n",
    "    \n",
    "    return elapsed    "
   ]
  },
  {
   "cell_type": "code",
   "execution_count": 6,
   "metadata": {},
   "outputs": [],
   "source": [
    "# Test the example\n",
    "assert search(example_input_b) == 1068781\n",
    "assert search('17,x,13,19') == 3417\n",
    "assert search('67,7,59,61') == 754018\n",
    "assert search('67,7,x,59,61') == 1261476\n",
    "assert search('1789,37,47,1889') == 1202161486"
   ]
  },
  {
   "cell_type": "code",
   "execution_count": 7,
   "metadata": {},
   "outputs": [],
   "source": [
    "# Part 2 solution, take 2: brute force is not realistic for the full input, so we have to use some math.\n",
    "def mod_inv(a, n):\n",
    "    '''\n",
    "    Extended Euclidean Algorithm for computing multiplicative inverse of a modulo n\n",
    "    from here: https://en.wikipedia.org/wiki/Extended_Euclidean_algorithm#Computing_multiplicative_inverses_in_modular_structures\n",
    "    '''\n",
    "    t = 0\n",
    "    tn = 1\n",
    "    r = n\n",
    "    rn = a\n",
    "    \n",
    "    while rn != 0:\n",
    "        quotient = r // rn\n",
    "        t, tn = tn, t - quotient * tn\n",
    "        r, rn = rn, r - quotient * rn\n",
    "    \n",
    "    if r > 1:\n",
    "        print(f'No mod inv of {a} mod {n} = {t}')\n",
    "        return None\n",
    "    if t < 0:\n",
    "        t += n\n",
    "\n",
    "    return t\n",
    "\n",
    "def solve_system(congruencies):\n",
    "    '''\n",
    "    Using Chinese Remainder Theorem as helpfully explained here\n",
    "    https://www.youtube.com/watch?v=2-tdwLqyaKo\n",
    "    https://www.youtube.com/watch?v=OB1OcmVSWLc\n",
    "\n",
    "    Solve a system of congruencies in the format of: x congruent to ai (mod mi)\n",
    "    i.e., x % mi == ai\n",
    "    :param congruencies: List of tuples (ai, mi)\n",
    "    :return: solved value for x\n",
    "    '''\n",
    "    # M is the product of all values of m\n",
    "    M = 1\n",
    "    for _, mi in congruencies:\n",
    "        M *= mi\n",
    "    \n",
    "    # Calculate Mi, which is the product of all *other* m for each i, i.e., M/Mi\n",
    "    Mi = []\n",
    "    # ... and yi, which is the modular inverse of Mi mod mi\n",
    "    yi = []\n",
    "    for _, mi in congruencies:\n",
    "        Mi.append(M//mi)\n",
    "        yi.append(mod_inv(M//mi, mi))\n",
    "    \n",
    "    # Result is (summation of aiMiyi) mod M\n",
    "    result = 0\n",
    "    for i in range(len(congruencies)):\n",
    "        result += congruencies[i][0] * Mi[i] * yi[i]\n",
    "    \n",
    "    return result % M\n",
    "\n",
    "def search_v2(id_str, verbose=False):\n",
    "    '''\n",
    "    Part 2 solution again, feasible for larger values\n",
    "    :param id_str: Input string as described in the puzzle text\n",
    "    :param verbose: Prints the congruencies for debugging\n",
    "    '''\n",
    "    ids = parse_id_full(id_str)\n",
    "    \n",
    "    # Build the system of congruencies from the inputs\n",
    "    congruencies = []\n",
    "    for i in range(len(ids)):\n",
    "        if ids[i] != 'x':\n",
    "            # ai depends on the offset -- elapsed mod id will = 0 when elapsed + i\n",
    "            ai = (ids[i] - i) % ids[i]\n",
    "            congruencies.append((ai, ids[i]))\n",
    "            if verbose:\n",
    "                print(f'[offset {i}] x is congruent to {ai} (mod {ids[i]})')\n",
    "            \n",
    "    return solve_system(congruencies)\n",
    "    \n"
   ]
  },
  {
   "cell_type": "code",
   "execution_count": 8,
   "metadata": {},
   "outputs": [],
   "source": [
    "# Test system of congruencies (not from the puzzle)\n",
    "# x congruent to 6 (mod 7)\n",
    "# x congruent to 4 (mod 8)\n",
    "test_congruencies = [(6,7),(4,8)]\n",
    "assert solve_system(test_congruencies) == 20"
   ]
  },
  {
   "cell_type": "code",
   "execution_count": 9,
   "metadata": {},
   "outputs": [
    {
     "name": "stdout",
     "output_type": "stream",
     "text": [
      "[offset 0] x is congruent to 0 (mod 7)\n",
      "[offset 1] x is congruent to 12 (mod 13)\n",
      "[offset 4] x is congruent to 55 (mod 59)\n",
      "[offset 6] x is congruent to 25 (mod 31)\n",
      "[offset 7] x is congruent to 12 (mod 19)\n"
     ]
    }
   ],
   "source": [
    "# Test against examples\n",
    "assert search_v2(example_input_b, True) == 1068781\n",
    "assert search_v2('17,x,13,19') == 3417\n",
    "assert search_v2('67,7,59,61') == 754018\n",
    "assert search_v2('67,x,7,59,61') == 779210\n",
    "assert search_v2('67,7,x,59,61') == 1261476\n",
    "assert search_v2('1789,37,47,1889') == 1202161486"
   ]
  },
  {
   "cell_type": "code",
   "execution_count": 10,
   "metadata": {},
   "outputs": [
    {
     "data": {
      "text/plain": [
       "775230782877242"
      ]
     },
     "execution_count": 10,
     "metadata": {},
     "output_type": "execute_result"
    }
   ],
   "source": [
    "# Finally, Part 2 solution\n",
    "search_v2(input_b)"
   ]
  }
 ],
 "metadata": {
  "kernelspec": {
   "display_name": "Python 3",
   "language": "python",
   "name": "python3"
  },
  "language_info": {
   "codemirror_mode": {
    "name": "ipython",
    "version": 3
   },
   "file_extension": ".py",
   "mimetype": "text/x-python",
   "name": "python",
   "nbconvert_exporter": "python",
   "pygments_lexer": "ipython3",
   "version": "3.7.4"
  }
 },
 "nbformat": 4,
 "nbformat_minor": 2
}
