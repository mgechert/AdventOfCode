{
 "cells": [
  {
   "cell_type": "markdown",
   "metadata": {},
   "source": [
    "### --- [Day 3: Toboggan Trajectory](https://adventofcode.com/2020/day/3) ---\n",
    "\n",
    "With the toboggan login problems resolved, you set off toward the airport. While travel by toboggan might be easy, it's certainly not safe: there's very minimal steering and the area is covered in trees. You'll need to see which angles will take you near the fewest trees.\n",
    "\n",
    "Due to the local geology, trees in this area only grow on exact integer coordinates in a grid. You make a map (your puzzle input) of the open squares (.) and trees (#) you can see. For example:\n",
    "```\n",
    "..##.......\n",
    "#...#...#..\n",
    ".#....#..#.\n",
    "..#.#...#.#\n",
    ".#...##..#.\n",
    "..#.##.....\n",
    ".#.#.#....#\n",
    ".#........#\n",
    "#.##...#...\n",
    "#...##....#\n",
    ".#..#...#.#\n",
    "```\n",
    "These aren't the only trees, though; due to something you read about once involving arboreal genetics and biome stability, the same pattern repeats to the right many times:\n",
    "```\n",
    "..##.........##.........##.........##.........##.........##.......  --->\n",
    "#...#...#..#...#...#..#...#...#..#...#...#..#...#...#..#...#...#..\n",
    ".#....#..#..#....#..#..#....#..#..#....#..#..#....#..#..#....#..#.\n",
    "..#.#...#.#..#.#...#.#..#.#...#.#..#.#...#.#..#.#...#.#..#.#...#.#\n",
    ".#...##..#..#...##..#..#...##..#..#...##..#..#...##..#..#...##..#.\n",
    "..#.##.......#.##.......#.##.......#.##.......#.##.......#.##.....  --->\n",
    ".#.#.#....#.#.#.#....#.#.#.#....#.#.#.#....#.#.#.#....#.#.#.#....#\n",
    ".#........#.#........#.#........#.#........#.#........#.#........#\n",
    "#.##...#...#.##...#...#.##...#...#.##...#...#.##...#...#.##...#...\n",
    "#...##....##...##....##...##....##...##....##...##....##...##....#\n",
    ".#..#...#.#.#..#...#.#.#..#...#.#.#..#...#.#.#..#...#.#.#..#...#.#  --->\n",
    "```\n",
    "You start on the open square (.) in the top-left corner and need to reach the bottom (below the bottom-most row on your map).\n",
    "\n",
    "The toboggan can only follow a few specific slopes (you opted for a cheaper model that prefers rational numbers); start by counting all the trees you would encounter for the slope right 3, down 1:\n",
    "\n",
    "From your starting position at the top-left, check the position that is right 3 and down 1. Then, check the position that is right 3 and down 1 from there, and so on until you go past the bottom of the map.\n",
    "\n",
    "The locations you'd check in the above example are marked here with O where there was an open square and X where there was a tree:\n",
    "```\n",
    "..##.........##.........##.........##.........##.........##.......  --->\n",
    "#..O#...#..#...#...#..#...#...#..#...#...#..#...#...#..#...#...#..\n",
    ".#....X..#..#....#..#..#....#..#..#....#..#..#....#..#..#....#..#.\n",
    "..#.#...#O#..#.#...#.#..#.#...#.#..#.#...#.#..#.#...#.#..#.#...#.#\n",
    ".#...##..#..X...##..#..#...##..#..#...##..#..#...##..#..#...##..#.\n",
    "..#.##.......#.X#.......#.##.......#.##.......#.##.......#.##.....  --->\n",
    ".#.#.#....#.#.#.#.O..#.#.#.#....#.#.#.#....#.#.#.#....#.#.#.#....#\n",
    ".#........#.#........X.#........#.#........#.#........#.#........#\n",
    "#.##...#...#.##...#...#.X#...#...#.##...#...#.##...#...#.##...#...\n",
    "#...##....##...##....##...#X....##...##....##...##....##...##....#\n",
    ".#..#...#.#.#..#...#.#.#..#...X.#.#..#...#.#.#..#...#.#.#..#...#.#  --->\n",
    "```\n",
    "In this example, traversing the map using this slope would cause you to encounter 7 trees.\n",
    "\n",
    "Starting at the top-left corner of your map and following a slope of right 3 and down 1, how many trees would you encounter?\n"
   ]
  },
  {
   "cell_type": "code",
   "execution_count": 13,
   "metadata": {},
   "outputs": [
    {
     "name": "stdout",
     "output_type": "stream",
     "text": [
      "Encountered 225 trees!\n"
     ]
    }
   ],
   "source": [
    "import csv\n",
    "\n",
    "input_file = 'input_d3.txt'\n",
    "slope = 3\n",
    "\n",
    "with open(input_file) as f:\n",
    "    reader = csv.reader(f)\n",
    "    col_num = 0\n",
    "    row_len = None\n",
    "    trees = 0\n",
    "    \n",
    "    for row in reader:\n",
    "        if not row_len:\n",
    "            row_len = len(row[0])\n",
    "        \n",
    "        if row[0][col_num] == '#':\n",
    "            trees += 1\n",
    "        \n",
    "        # print(f'{row[0][:col_num]}[{row[0][col_num]}]{row[0][col_num+1:]} : c{col_num} -> {row[0][col_num]}{trees}')\n",
    "        col_num = (col_num + slope) % row_len\n",
    "        \n",
    "print(f'Encountered {trees} trees!')"
   ]
  },
  {
   "cell_type": "markdown",
   "metadata": {},
   "source": [
    "#### Part 2\n",
    "Time to check the rest of the slopes - you need to minimize the probability of a sudden arboreal stop, after all.\n",
    "\n",
    "Determine the number of trees you would encounter if, for each of the following slopes, you start at the top-left corner and traverse the map all the way to the bottom:\n",
    "\n",
    "- Right 1, down 1.\n",
    "- Right 3, down 1. (This is the slope you already checked.)\n",
    "- Right 5, down 1.\n",
    "- Right 7, down 1.\n",
    "- Right 1, down 2.\n",
    "\n",
    "In the above example, these slopes would find 2, 7, 3, 4, and 2 tree(s) respectively; multiplied together, these produce the answer 336.\n",
    "\n",
    "What do you get if you multiply together the number of trees encountered on each of the listed slopes?"
   ]
  },
  {
   "cell_type": "code",
   "execution_count": 34,
   "metadata": {},
   "outputs": [],
   "source": [
    "class Slope:\n",
    "    \"\"\"\n",
    "    Simple class to represent an individual slope to check\n",
    "    \"\"\"\n",
    "    def __init__(self, right: int, down: int):\n",
    "        \"\"\"\n",
    "        :param right: The y-value of the slope\n",
    "        :param down: The x-value of the slope\n",
    "        \"\"\"\n",
    "        self.right = right\n",
    "        self.down = down\n",
    "        self.next_col = 0\n",
    "        self.next_row = 0\n",
    "        self.trees = 0\n",
    "    \n",
    "    def set_next_point(self, width):\n",
    "        \"\"\"\n",
    "        Calculates the next point, wrapping around as appropriate\n",
    "        :param width: The width of any row\n",
    "        \"\"\"\n",
    "        # Calculate the next point \n",
    "        self.next_row += self.down\n",
    "        self.next_col = (self.next_col + self.right) % width"
   ]
  },
  {
   "cell_type": "code",
   "execution_count": 35,
   "metadata": {},
   "outputs": [],
   "source": []
  },
  {
   "cell_type": "code",
   "execution_count": 38,
   "metadata": {},
   "outputs": [],
   "source": [
    "def scan_slopes(slopes):\n",
    "    with open(input_file) as f:\n",
    "        reader = csv.reader(f)\n",
    "        row_num = 0\n",
    "        row_len = None\n",
    "\n",
    "        for row in reader:\n",
    "            if not row_len:\n",
    "                row_len = len(row[0])\n",
    "                \n",
    "            # Check each slope to see if the next point is in this row\n",
    "            for slope in slopes:\n",
    "                if slope.next_row == row_num:\n",
    "                    if row[0][slope.next_col] == '#':\n",
    "                        slope.trees += 1\n",
    "                    slope.set_next_point(row_len)\n",
    "                    \n",
    "            row_num += 1\n",
    "        \n",
    "        # Result is a list of num trees encountered by each slope\n",
    "        result = []\n",
    "        for slope in slopes:\n",
    "            result.append(slope.trees)\n",
    "        return result\n",
    "\n",
    "        "
   ]
  },
  {
   "cell_type": "code",
   "execution_count": 43,
   "metadata": {},
   "outputs": [],
   "source": [
    "# test against part 1\n",
    "assert scan_slopes([Slope(3,1)]) == [225]"
   ]
  },
  {
   "cell_type": "code",
   "execution_count": 46,
   "metadata": {},
   "outputs": [
    {
     "name": "stdout",
     "output_type": "stream",
     "text": [
      "Tree counts: [60, 225, 57, 58, 25], product: 1115775000\n"
     ]
    }
   ],
   "source": [
    "# Part 2 inputs\n",
    "slopes = [Slope(1,1), Slope(3,1), Slope(5,1), Slope(7,1), Slope(1,2)]\n",
    "tree_cts = scan_slopes(slopes)\n",
    "\n",
    "prod = 1\n",
    "for c in tree_cts:\n",
    "    prod *= c\n",
    "    \n",
    "print(f'Tree counts: {tree_cts}, product: {prod}')"
   ]
  }
 ],
 "metadata": {
  "kernelspec": {
   "display_name": "Python 3",
   "language": "python",
   "name": "python3"
  },
  "language_info": {
   "codemirror_mode": {
    "name": "ipython",
    "version": 3
   },
   "file_extension": ".py",
   "mimetype": "text/x-python",
   "name": "python",
   "nbconvert_exporter": "python",
   "pygments_lexer": "ipython3",
   "version": "3.7.4"
  }
 },
 "nbformat": 4,
 "nbformat_minor": 2
}
