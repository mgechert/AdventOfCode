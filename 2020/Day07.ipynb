{
 "cells": [
  {
   "cell_type": "markdown",
   "metadata": {},
   "source": [
    "### --- [Day 7: Handy Haversacks](https://adventofcode.com/2020/day/7) ---\n",
    "\n",
    "You land at the regional airport in time for your next flight. In fact, it looks like you'll even have time to grab some food: all flights are currently delayed due to issues in luggage processing.\n",
    "\n",
    "Due to recent aviation regulations, many rules (your puzzle input) are being enforced about bags and their contents; bags must be color-coded and must contain specific quantities of other color-coded bags. Apparently, nobody responsible for these regulations considered how long they would take to enforce!\n",
    "\n",
    "For example, consider the following rules:\n",
    "\n",
    "light red bags contain 1 bright white bag, 2 muted yellow bags.\n",
    "dark orange bags contain 3 bright white bags, 4 muted yellow bags.\n",
    "bright white bags contain 1 shiny gold bag.\n",
    "muted yellow bags contain 2 shiny gold bags, 9 faded blue bags.\n",
    "shiny gold bags contain 1 dark olive bag, 2 vibrant plum bags.\n",
    "dark olive bags contain 3 faded blue bags, 4 dotted black bags.\n",
    "vibrant plum bags contain 5 faded blue bags, 6 dotted black bags.\n",
    "faded blue bags contain no other bags.\n",
    "dotted black bags contain no other bags.\n",
    "\n",
    "These rules specify the required contents for 9 bag types. In this example, every faded blue bag is empty, every vibrant plum bag contains 11 bags (5 faded blue and 6 dotted black), and so on.\n",
    "\n",
    "You have a shiny gold bag. If you wanted to carry it in at least one other bag, how many different bag colors would be valid for the outermost bag? (In other words: how many colors can, eventually, contain at least one shiny gold bag?)\n",
    "\n",
    "In the above rules, the following options would be available to you:\n",
    "\n",
    "    A bright white bag, which can hold your shiny gold bag directly.\n",
    "    A muted yellow bag, which can hold your shiny gold bag directly, plus some other bags.\n",
    "    A dark orange bag, which can hold bright white and muted yellow bags, either of which could then hold your shiny gold bag.\n",
    "    A light red bag, which can hold bright white and muted yellow bags, either of which could then hold your shiny gold bag.\n",
    "\n",
    "So, in this example, the number of bag colors that can eventually contain at least one shiny gold bag is 4.\n",
    "\n",
    "How many bag colors can eventually contain at least one shiny gold bag? (The list of rules is quite long; make sure you get all of it.)\n"
   ]
  },
  {
   "cell_type": "code",
   "execution_count": 1,
   "metadata": {},
   "outputs": [],
   "source": [
    "import re\n",
    "\n",
    "INPUT_FILE = 'input_d7.txt'\n",
    "\n",
    "class Graph:\n",
    "    '''\n",
    "    Graph representation(s) of all bags from rule input.\n",
    "    Each edge represents a bag that can contain 1+ bags of the\n",
    "    vertex bag's color.\n",
    "    '''\n",
    "    \n",
    "    def __init__(self, input_file):\n",
    "        self.contains = {}\n",
    "        self.contained_by = {}\n",
    "        self.read_file(input_file)\n",
    "            \n",
    "    def add_edge(self, outer, bag, qty):\n",
    "        '''\n",
    "        Adds an edge to the graph. Each vertex is a bag color, and its edges\n",
    "        connect to the bag(s) that contain(s) it.\n",
    "        :param outer: string representing the outer bag's color\n",
    "        :param bag: string representing the inner bag's color\n",
    "        :param qty: the quantity of the inner bag that the outer bag may hold\n",
    "        '''\n",
    "        if bag not in self.contained_by:\n",
    "            # Create the vertex\n",
    "            self.contained_by[bag] = []\n",
    "        if outer not in self.contains:\n",
    "            self.contains[outer] = []\n",
    "            \n",
    "        # Add the contained_by graph edge, which is a tuple of (outer, quantity)\n",
    "        self.contained_by[bag].append((outer, int(qty)))\n",
    "        \n",
    "        # Add the contains graph edge\n",
    "        self.contains[outer].append((bag, int(qty))) \n",
    "        \n",
    "\n",
    "    def find_all_containing(self, bag):\n",
    "        '''\n",
    "        Solution to Part 1 - BFS the graph for all vertices that can\n",
    "        contain the specified bag\n",
    "        :param bag: the inner bag to search for\n",
    "        '''\n",
    "        result = set()\n",
    "        queue = [bag]\n",
    "        \n",
    "        while len(queue) > 0:\n",
    "            vertex = queue.pop(0)\n",
    "            if vertex in self.contained_by:\n",
    "                # If there are contained-by edges for this vertex, add all to queue\n",
    "                for edge in self.contained_by[vertex]:\n",
    "                    queue.append(edge[0])\n",
    "\n",
    "            # Don't add the original vertex to the result\n",
    "            if len(result) > 0 or vertex != bag:\n",
    "                result.add(vertex)\n",
    "        return result\n",
    "    \n",
    "    def count_contained(self, bag):\n",
    "        '''\n",
    "        Solution to part 2 - recursive count of all contained bags\n",
    "        :param bag: the color of the containing bag to count\n",
    "        :return: the total number of bags contained by the specified bag\n",
    "        '''\n",
    "        # Base case: bag contains no children\n",
    "        if bag not in self.contains:\n",
    "            return 0\n",
    "        else:\n",
    "            # Contained count is qty of child + (qty of child * count_contained(child)) for all children\n",
    "            tot = 0\n",
    "            for child in self.contains[bag]:\n",
    "                tot += child[1]\n",
    "                tot += child[1] * self.count_contained(child[0])\n",
    "            return tot\n",
    "        \n",
    "    def read_row(self, row):\n",
    "        '''\n",
    "        Takes a text row from the input and extracts the relevant data, adding\n",
    "        edges to the graph as encountered\n",
    "        :param row: string data containing rule\n",
    "        '''\n",
    "        outer_pat = r\"(\\w+ \\w+) bags contain \\d+\"  # Match the outer bag only when it contains 1+ bags\n",
    "        inner_pat = r\"(\\d+) (\\w+ \\w+) bags?[,.]?\"  # Match any inner bag\n",
    "        \n",
    "        outer_match = re.match(outer_pat, row)\n",
    "        if outer_match:\n",
    "            inner_matches = re.finditer(inner_pat, row)\n",
    "            for match in inner_matches:\n",
    "                # match[1] is the quantity, match[2] is the inner bag color\n",
    "                self.add_edge(outer_match[1], match[2], match[1])\n",
    "        \n",
    "    def read_file(self, input_file):\n",
    "        '''\n",
    "        Reads the input file and extracts all rules\n",
    "        :param input_file:\n",
    "        '''\n",
    "        with open(input_file) as f:\n",
    "            for row in f.readlines():\n",
    "                self.read_row(row)"
   ]
  },
  {
   "cell_type": "code",
   "execution_count": 2,
   "metadata": {},
   "outputs": [
    {
     "data": {
      "text/plain": [
       "{'bright white': [('light red', 1), ('dark orange', 3)],\n",
       " 'muted yellow': [('light red', 2), ('dark orange', 4)],\n",
       " 'shiny gold': [('bright white', 1), ('muted yellow', 2)],\n",
       " 'faded blue': [('muted yellow', 9), ('dark olive', 3), ('vibrant plum', 5)],\n",
       " 'dark olive': [('shiny gold', 1)],\n",
       " 'vibrant plum': [('shiny gold', 2)],\n",
       " 'dotted black': [('dark olive', 4), ('vibrant plum', 6)]}"
      ]
     },
     "execution_count": 2,
     "metadata": {},
     "output_type": "execute_result"
    }
   ],
   "source": [
    "# Example input\n",
    "bg_example = Graph('input2_d7.txt')\n",
    "bg_example.contained_by"
   ]
  },
  {
   "cell_type": "code",
   "execution_count": 3,
   "metadata": {},
   "outputs": [
    {
     "name": "stdout",
     "output_type": "stream",
     "text": [
      "{'dark orange', 'muted yellow', 'bright white', 'light red'}\n"
     ]
    }
   ],
   "source": [
    "print(bg_example.find_all_containing('shiny gold'))\n",
    "assert len(bg_example.find_all_containing('shiny gold')) == 4"
   ]
  },
  {
   "cell_type": "code",
   "execution_count": 4,
   "metadata": {},
   "outputs": [
    {
     "name": "stdout",
     "output_type": "stream",
     "text": [
      "Part 1 solution: 151 {'vibrant green', 'dotted black', 'vibrant black', 'posh tan', 'striped coral', 'dull blue', 'dotted magenta', 'vibrant teal', 'dim teal', 'drab fuchsia', 'bright indigo', 'faded lavender', 'clear aqua', 'dotted gray', 'muted tan', 'plaid white', 'mirrored purple', 'pale crimson', 'dark lavender', 'dark cyan', 'dotted fuchsia', 'dull white', 'dull red', 'drab lime', 'bright salmon', 'faded green', 'wavy lime', 'mirrored turquoise', 'clear teal', 'posh teal', 'dim blue', 'dull gold', 'dotted cyan', 'bright red', 'pale green', 'posh white', 'bright chartreuse', 'muted cyan', 'muted lavender', 'dull purple', 'bright green', 'mirrored green', 'shiny cyan', 'dull green', 'mirrored lavender', 'muted gray', 'pale lime', 'posh violet', 'shiny black', 'dark beige', 'light coral', 'mirrored salmon', 'posh silver', 'muted coral', 'plaid coral', 'shiny turquoise', 'posh indigo', 'dull plum', 'posh crimson', 'shiny silver', 'clear fuchsia', 'drab beige', 'plaid gray', 'pale aqua', 'wavy beige', 'dark green', 'dark silver', 'wavy teal', 'drab yellow', 'clear blue', 'drab salmon', 'pale beige', 'bright blue', 'bright brown', 'light maroon', 'vibrant turquoise', 'posh lavender', 'dim black', 'light chartreuse', 'mirrored plum', 'muted black', 'dotted bronze', 'faded crimson', 'shiny beige', 'striped crimson', 'pale purple', 'wavy gray', 'light crimson', 'dull cyan', 'muted maroon', 'wavy salmon', 'mirrored gray', 'bright tomato', 'dotted tan', 'clear maroon', 'shiny orange', 'shiny coral', 'plaid indigo', 'muted violet', 'dotted indigo', 'mirrored yellow', 'clear salmon', 'muted bronze', 'plaid fuchsia', 'wavy yellow', 'wavy blue', 'clear coral', 'clear cyan', 'mirrored red', 'wavy aqua', 'striped white', 'drab violet', 'shiny tan', 'vibrant lavender', 'striped olive', 'drab magenta', 'shiny yellow', 'clear bronze', 'shiny plum', 'plaid gold', 'light olive', 'dark yellow', 'vibrant cyan', 'muted red', 'drab tan', 'mirrored chartreuse', 'dull olive', 'mirrored lime', 'striped silver', 'pale bronze', 'muted white', 'faded purple', 'vibrant olive', 'posh gray', 'mirrored gold', 'posh salmon', 'vibrant aqua', 'vibrant purple', 'mirrored fuchsia', 'dull gray', 'muted indigo', 'dark aqua', 'vibrant tan', 'plaid magenta', 'dotted green', 'dark white', 'light red', 'clear brown', 'faded brown', 'dull tan', 'dark orange'}\n"
     ]
    }
   ],
   "source": [
    "# Part 1 solution **********************************************\n",
    "bg = Graph(INPUT_FILE)\n",
    "result = bg.find_all_containing('shiny gold')\n",
    "print('Part 1 solution:', len(result), result)\n"
   ]
  },
  {
   "cell_type": "markdown",
   "metadata": {},
   "source": [
    "#### Part 2\n",
    "It's getting pretty expensive to fly these days - not because of ticket prices, but because of the ridiculous number of bags you need to buy!\n",
    "\n",
    "Consider again your shiny gold bag and the rules from the above example:\n",
    "\n",
    "    faded blue bags contain 0 other bags.\n",
    "    dotted black bags contain 0 other bags.\n",
    "    vibrant plum bags contain 11 other bags: 5 faded blue bags and 6 dotted black bags.\n",
    "    dark olive bags contain 7 other bags: 3 faded blue bags and 4 dotted black bags.\n",
    "\n",
    "So, a single shiny gold bag must contain 1 dark olive bag (and the 7 bags within it) plus 2 vibrant plum bags (and the 11 bags within each of those): 1 + 1*7 + 2 + 2*11 = 32 bags!\n",
    "\n",
    "Of course, the actual rules have a small chance of going several levels deeper than this example; be sure to count all of the bags, even if the nesting becomes topologically impractical!\n",
    "\n",
    "Here's another example:\n",
    "\n",
    "shiny gold bags contain 2 dark red bags.\n",
    "dark red bags contain 2 dark orange bags.\n",
    "dark orange bags contain 2 dark yellow bags.\n",
    "dark yellow bags contain 2 dark green bags.\n",
    "dark green bags contain 2 dark blue bags.\n",
    "dark blue bags contain 2 dark violet bags.\n",
    "dark violet bags contain no other bags.\n",
    "\n",
    "In this example, a single shiny gold bag must contain 126 other bags.\n",
    "\n",
    "How many individual bags are required inside your single shiny gold bag?"
   ]
  },
  {
   "cell_type": "code",
   "execution_count": 5,
   "metadata": {},
   "outputs": [
    {
     "data": {
      "text/plain": [
       "{'shiny gold': [('dark red', 2)],\n",
       " 'dark red': [('dark orange', 2)],\n",
       " 'dark orange': [('dark yellow', 2)],\n",
       " 'dark yellow': [('dark green', 2)],\n",
       " 'dark green': [('dark blue', 2)],\n",
       " 'dark blue': [('dark violet', 2)]}"
      ]
     },
     "execution_count": 5,
     "metadata": {},
     "output_type": "execute_result"
    }
   ],
   "source": [
    "# Part 2 example\n",
    "bg2 = Graph('input3_d7.txt')\n",
    "bg2.contains"
   ]
  },
  {
   "cell_type": "code",
   "execution_count": 6,
   "metadata": {},
   "outputs": [],
   "source": [
    "assert bg2.count_contained('shiny gold') == 126"
   ]
  },
  {
   "cell_type": "code",
   "execution_count": 7,
   "metadata": {},
   "outputs": [
    {
     "data": {
      "text/plain": [
       "41559"
      ]
     },
     "execution_count": 7,
     "metadata": {},
     "output_type": "execute_result"
    }
   ],
   "source": [
    "# Part 2 solution\n",
    "bg2 = Graph(INPUT_FILE)\n",
    "bg2.count_contained('shiny gold')"
   ]
  }
 ],
 "metadata": {
  "kernelspec": {
   "display_name": "Python 3",
   "language": "python",
   "name": "python3"
  },
  "language_info": {
   "codemirror_mode": {
    "name": "ipython",
    "version": 3
   },
   "file_extension": ".py",
   "mimetype": "text/x-python",
   "name": "python",
   "nbconvert_exporter": "python",
   "pygments_lexer": "ipython3",
   "version": "3.7.4"
  }
 },
 "nbformat": 4,
 "nbformat_minor": 2
}
