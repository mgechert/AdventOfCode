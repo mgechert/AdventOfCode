{
 "cells": [
  {
   "cell_type": "markdown",
   "metadata": {},
   "source": [
    "### --- [Day 10: Adapter Array](https://adventofcode.com/2020/day/10) ---"
   ]
  },
  {
   "cell_type": "code",
   "execution_count": 1,
   "metadata": {},
   "outputs": [],
   "source": [
    "INPUT_FILE = 'input_d10.txt'\n",
    "\n",
    "class Day10:\n",
    "    def __init__(self, input_file=INPUT_FILE, input_list=None):\n",
    "        # Include the outlet, which is input 0\n",
    "        self.inputs = [0]\n",
    "        \n",
    "        if input_list:\n",
    "            self.inputs.extend(input_list)\n",
    "        else:\n",
    "            self.inputs.extend(Day10.read_file(input_file))\n",
    "            \n",
    "        self.inputs.sort()\n",
    "        self.output = max(self.inputs) + 3\n",
    "        self.inputs.append(self.output)\n",
    "        \n",
    "    def count_jumps(self):\n",
    "        '''\n",
    "        Part 1 solution - count the gaps between all elements\n",
    "        in the input, plus 0 to the first element, and 3 from the last.\n",
    "        :return: dict of {gap_size: count}, gap_size always in {1, 2, 3}\n",
    "        '''\n",
    "        jumps = {i: 0 for i in range(1,4)}\n",
    "        for i in range(len(self.inputs)-1):\n",
    "            jump = self.inputs[i+1] - self.inputs[i]\n",
    "            jumps[jump] += 1\n",
    "        return jumps\n",
    "    \n",
    "    def count_perms(self):\n",
    "        '''\n",
    "        Part 2 solution (not a good one!!) -- recursively count the number of possible\n",
    "        permutations of the elements arranged such that each element\n",
    "        is 1, 2, or 3 more than the previous, starting at 0 and ending\n",
    "        at the max input + 3\n",
    "        :return: the number of permutations\n",
    "        '''\n",
    "        self.inputset = set(self.inputs)\n",
    "        return self.rcount_perms(0)\n",
    "        \n",
    "        \n",
    "    \n",
    "    def rcount_perms(self, start_val):\n",
    "        '''\n",
    "        Recursive count called by count_perms()\n",
    "        :param start_val: The point in the chain to search from\n",
    "        :return: the number of valid chains following this point\n",
    "        '''        \n",
    "        # Base case: start_val is 3 less than the output (max element)\n",
    "        if self.output - 3 == start_val:\n",
    "            return 1\n",
    "        \n",
    "        # Recursively count for values in the set of +1, +2, and +3\n",
    "        tot = 0\n",
    "        if start_val + 1 in self.inputset:\n",
    "            tot += self.rcount_perms(start_val+1)\n",
    "        if start_val + 2 in self.inputset:\n",
    "            tot += self.rcount_perms(start_val+2)\n",
    "        if start_val + 3 in self.inputset:\n",
    "            tot += self.rcount_perms(start_val+3)\n",
    "            \n",
    "        return tot\n",
    "                \n",
    "    def graph_count(self):\n",
    "        '''\n",
    "        Part 2, attempt 2: graph-style count\n",
    "        '''\n",
    "        # Count of the number of possible incoming paths for each adapter\n",
    "        counts = {i:0 for i in self.inputs}\n",
    "        counts[0] = 1\n",
    "        \n",
    "        for i in self.inputs:\n",
    "            # node i can connect to any of [i+1, i+2, i+3], so\n",
    "            # any of those that can exist has counts[i] connections\n",
    "            if i+1 in counts:\n",
    "                counts[i+1] += counts[i]\n",
    "            if i+2 in counts:\n",
    "                counts[i+2] += counts[i]\n",
    "            if i+3 in counts:\n",
    "                counts[i+3] += counts[i]\n",
    "        \n",
    "        # solution is the count of unique inputs to the output node\n",
    "        return counts[self.output]\n",
    "        \n",
    "        \n",
    "    @staticmethod\n",
    "    def read_file(input_file):\n",
    "        inputs = []\n",
    "        with open(input_file) as f:\n",
    "            for line in f.readlines():\n",
    "                inputs.append(int(line))\n",
    "        return inputs\n",
    "        "
   ]
  },
  {
   "cell_type": "code",
   "execution_count": 2,
   "metadata": {},
   "outputs": [
    {
     "data": {
      "text/plain": [
       "[0, 1, 4, 5, 6, 7, 10, 11, 12, 15, 16, 19, 22]"
      ]
     },
     "execution_count": 2,
     "metadata": {},
     "output_type": "execute_result"
    }
   ],
   "source": [
    "# example data\n",
    "data = [16,10,15,5,1,11,7,19,6,12,4]\n",
    "ex = Day10(input_list=data)\n",
    "ex.inputs"
   ]
  },
  {
   "cell_type": "code",
   "execution_count": 3,
   "metadata": {},
   "outputs": [
    {
     "data": {
      "text/plain": [
       "{1: 7, 2: 0, 3: 5}"
      ]
     },
     "execution_count": 3,
     "metadata": {},
     "output_type": "execute_result"
    }
   ],
   "source": [
    "ex.count_jumps()"
   ]
  },
  {
   "cell_type": "code",
   "execution_count": 4,
   "metadata": {},
   "outputs": [],
   "source": [
    "# example 2\n",
    "ex2 = Day10(input_file='input2_d10.txt')\n",
    "test2 = ex2.count_jumps()\n",
    "test2\n",
    "assert test2[1] == 22\n",
    "assert test2[3] == 10"
   ]
  },
  {
   "cell_type": "code",
   "execution_count": 5,
   "metadata": {},
   "outputs": [
    {
     "name": "stdout",
     "output_type": "stream",
     "text": [
      "62 * 33 = 2046\n"
     ]
    }
   ],
   "source": [
    "# Part 1 solution: What is the number of 1-jolt differences multiplied by the number of 3-jolt differences?\n",
    "day10 = Day10()\n",
    "result = day10.count_jumps()\n",
    "print(f'{result[1]} * {result[3]} = {result[1] * result[3]}')"
   ]
  },
  {
   "cell_type": "markdown",
   "metadata": {},
   "source": [
    "### Part 2"
   ]
  },
  {
   "cell_type": "code",
   "execution_count": 6,
   "metadata": {},
   "outputs": [
    {
     "data": {
      "text/plain": [
       "8"
      ]
     },
     "execution_count": 6,
     "metadata": {},
     "output_type": "execute_result"
    }
   ],
   "source": [
    "ex.count_perms()"
   ]
  },
  {
   "cell_type": "code",
   "execution_count": 7,
   "metadata": {},
   "outputs": [],
   "source": [
    "# Part 2 solution: What is the total number of distinct ways you can arrange the adapters to connect the charging outlet to your device?\n",
    "# day10.count_perms()\n",
    "# this doesn't run efficiently for the full input... try something else!"
   ]
  },
  {
   "cell_type": "code",
   "execution_count": 8,
   "metadata": {},
   "outputs": [],
   "source": [
    "# Part 2, attempt 2 -- graph count\n",
    "assert ex.graph_count() == 8\n",
    "assert ex.graph_count() == ex.count_perms()"
   ]
  },
  {
   "cell_type": "code",
   "execution_count": 9,
   "metadata": {},
   "outputs": [
    {
     "data": {
      "text/plain": [
       "1157018619904"
      ]
     },
     "execution_count": 9,
     "metadata": {},
     "output_type": "execute_result"
    }
   ],
   "source": [
    "# Part 2 solution for real\n",
    "day10.graph_count()"
   ]
  }
 ],
 "metadata": {
  "kernelspec": {
   "display_name": "Python 3",
   "language": "python",
   "name": "python3"
  },
  "language_info": {
   "codemirror_mode": {
    "name": "ipython",
    "version": 3
   },
   "file_extension": ".py",
   "mimetype": "text/x-python",
   "name": "python",
   "nbconvert_exporter": "python",
   "pygments_lexer": "ipython3",
   "version": "3.7.4"
  }
 },
 "nbformat": 4,
 "nbformat_minor": 2
}
