{
 "cells": [
  {
   "cell_type": "markdown",
   "metadata": {},
   "source": [
    "### --- [Day 2: Password Philosophy](https://adventofcode.com/2020/day/2) ---\n",
    "\n",
    "Your flight departs in a few days from the coastal airport; the easiest way down to the coast from here is via toboggan.\n",
    "\n",
    "The shopkeeper at the North Pole Toboggan Rental Shop is having a bad day. \"Something's wrong with our computers; we can't log in!\" You ask if you can take a look.\n",
    "\n",
    "Their password database seems to be a little corrupted: some of the passwords wouldn't have been allowed by the Official Toboggan Corporate Policy that was in effect when they were chosen.\n",
    "\n",
    "To try to debug the problem, they have created a list (your puzzle input) of passwords (according to the corrupted database) and the corporate policy when that password was set.\n",
    "\n",
    "For example, suppose you have the following list:\n",
    "\n",
    "1-3 a: abcde\n",
    "1-3 b: cdefg\n",
    "2-9 c: ccccccccc\n",
    "\n",
    "Each line gives the password policy and then the password. The password policy indicates the lowest and highest number of times a given letter must appear for the password to be valid. For example, 1-3 a means that the password must contain a at least 1 time and at most 3 times.\n",
    "\n",
    "In the above example, 2 passwords are valid. The middle password, cdefg, is not; it contains no instances of b, but needs at least 1. The first and third passwords are valid: they contain one a or nine c, both within the limits of their respective policies.\n",
    "\n",
    "How many passwords are valid according to their policies?\n"
   ]
  },
  {
   "cell_type": "code",
   "execution_count": 24,
   "metadata": {},
   "outputs": [
    {
     "name": "stdout",
     "output_type": "stream",
     "text": [
      "Number of valid passwords is 625\n"
     ]
    }
   ],
   "source": [
    "from collections import Counter\n",
    "import csv\n",
    "import re\n",
    "\n",
    "def parse_row(row):\n",
    "    # RegEx to extract the required character, min and max appearances, and the pw to check\n",
    "    exp = r\"(\\d+)-(\\d+) (\\w): (\\w*)\"\n",
    "    match = re.match(exp, row)\n",
    "    # Indices 1 and 2 are the low and high   \n",
    "    # 3 is the required character\n",
    "    # 4 is the password itself\n",
    "    if match:\n",
    "        return int(match[1]), int(match[2]), match[3], match[4]\n",
    "    else:\n",
    "        return None\n",
    "    \n",
    "\n",
    "def valid_pw(lo, hi, ltr, pw):\n",
    "    ctr = Counter(list(pw))\n",
    "    return ctr[ltr] >= lo and ctr[ltr] <= hi      \n",
    "\n",
    "num_valid = 0\n",
    "\n",
    "with open('input_d2.txt') as f:\n",
    "    reader = csv.reader(f)\n",
    "    for row in reader:\n",
    "        lo, hi, ltr, pw = parse_row(row[0])\n",
    "        if valid_pw(lo, hi, ltr, pw):\n",
    "            num_valid += 1\n",
    "            \n",
    "print(f'Number of valid passwords is {num_valid}')"
   ]
  },
  {
   "cell_type": "code",
   "execution_count": null,
   "metadata": {},
   "outputs": [],
   "source": []
  }
 ],
 "metadata": {
  "kernelspec": {
   "display_name": "Python 3",
   "language": "python",
   "name": "python3"
  },
  "language_info": {
   "codemirror_mode": {
    "name": "ipython",
    "version": 3
   },
   "file_extension": ".py",
   "mimetype": "text/x-python",
   "name": "python",
   "nbconvert_exporter": "python",
   "pygments_lexer": "ipython3",
   "version": "3.7.4"
  }
 },
 "nbformat": 4,
 "nbformat_minor": 2
}
