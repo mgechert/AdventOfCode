{
 "cells": [
  {
   "cell_type": "markdown",
   "metadata": {},
   "source": [
    "### --- [Day 4: Passport Processing](https://adventofcode.com/2020/day/4) ---\n",
    "\n",
    "You arrive at the airport only to realize that you grabbed your North Pole Credentials instead of your passport. While these documents are extremely similar, North Pole Credentials aren't issued by a country and therefore aren't actually valid documentation for travel in most of the world.\n",
    "\n",
    "It seems like you're not the only one having problems, though; a very long line has formed for the automatic passport scanners, and the delay could upset your travel itinerary.\n",
    "\n",
    "Due to some questionable network security, you realize you might be able to solve both of these problems at the same time.\n",
    "\n",
    "The automatic passport scanners are slow because they're having trouble detecting which passports have all required fields. The expected fields are as follows:\n",
    "\n",
    "    byr (Birth Year)\n",
    "    iyr (Issue Year)\n",
    "    eyr (Expiration Year)\n",
    "    hgt (Height)\n",
    "    hcl (Hair Color)\n",
    "    ecl (Eye Color)\n",
    "    pid (Passport ID)\n",
    "    cid (Country ID)\n",
    "\n",
    "Passport data is validated in batch files (your puzzle input). Each passport is represented as a sequence of key:value pairs separated by spaces or newlines. Passports are separated by blank lines.\n",
    "\n",
    "Here is an example batch file containing four passports:\n",
    "\n",
    "ecl:gry pid:860033327 eyr:2020 hcl:#fffffd\n",
    "byr:1937 iyr:2017 cid:147 hgt:183cm\n",
    "\n",
    "iyr:2013 ecl:amb cid:350 eyr:2023 pid:028048884\n",
    "hcl:#cfa07d byr:1929\n",
    "\n",
    "hcl:#ae17e1 iyr:2013\n",
    "eyr:2024\n",
    "ecl:brn pid:760753108 byr:1931\n",
    "hgt:179cm\n",
    "\n",
    "hcl:#cfa07d eyr:2025 pid:166559648\n",
    "iyr:2011 ecl:brn hgt:59in\n",
    "\n",
    "The first passport is valid - all eight fields are present. The second passport is invalid - it is missing hgt (the Height field).\n",
    "\n",
    "The third passport is interesting; the only missing field is cid, so it looks like data from North Pole Credentials, not a passport at all! Surely, nobody would mind if you made the system temporarily ignore missing cid fields. Treat this \"passport\" as valid.\n",
    "\n",
    "The fourth passport is missing two fields, cid and byr. Missing cid is fine, but missing any other field is not, so this passport is invalid.\n",
    "\n",
    "According to the above rules, your improved system would report 2 valid passports.\n",
    "\n",
    "Count the number of valid passports - those that have all required fields. Treat cid as optional. In your batch file, how many passports are valid?\n"
   ]
  },
  {
   "cell_type": "code",
   "execution_count": 57,
   "metadata": {},
   "outputs": [],
   "source": [
    "import csv\n",
    "import re\n",
    "\n",
    "INPUT_FILE = 'input_d4.txt'\n",
    "\n",
    "def parse_file(file, verbose=False):\n",
    "    records = []\n",
    "    with open(file) as f:\n",
    "        reader = csv.reader(f)\n",
    "        record = {}\n",
    "        rec_num = 1\n",
    "        for row in reader:\n",
    "            # Pull out all values in the row, or [] if blank            \n",
    "            if len(row) > 0:\n",
    "                row_items = re.findall(r\"(\\w+):(\\S+)\", row[0])\n",
    "                if verbose:\n",
    "                    print(row[0])\n",
    "                # Each item is a tuple of (key, val)\n",
    "                for item in row_items:\n",
    "                    record[item[0]] = item[1]\n",
    "            else:\n",
    "                # When line empty, move to the next record\n",
    "                records.append(record)\n",
    "                if verbose:\n",
    "                    print(f'{rec_num}> {record.keys()}')\n",
    "                rec_num += 1\n",
    "                record = {}\n",
    "        # After the file closes, append the last record\n",
    "        records.append(record)\n",
    "    return records\n",
    "\n",
    "def is_valid_record(record, reqd_fields, rules={}, verbose=False):\n",
    "    # Confirm that all required fields are present\n",
    "    provided_fields = set(record.keys())\n",
    "    if not reqd_fields.issubset(provided_fields):\n",
    "        if verbose:\n",
    "            print(f'Invalid, missing fields {reqd_fields.difference(record)}: {record}')\n",
    "        return False\n",
    "\n",
    "    # Validate all fields against rules (when provided)\n",
    "    for field, value in record.items():\n",
    "        if field in rules and not re.fullmatch(rules[field], value):\n",
    "            if verbose:\n",
    "                print(f'Invalid data for field {field}: {value}, must match {rules[field]}')\n",
    "            return False\n",
    "    \n",
    "    return True\n",
    "\n",
    "def count_valid_records(file, reqd_keys, rules={}):\n",
    "    records = parse_file(file)\n",
    "    valid = 0\n",
    "    for record in records:\n",
    "        if is_valid_record(record, reqd_keys, rules):\n",
    "            valid += 1\n",
    "    return valid\n",
    "    "
   ]
  },
  {
   "cell_type": "code",
   "execution_count": 58,
   "metadata": {},
   "outputs": [],
   "source": [
    "required = set(['byr','iyr','eyr','hgt','hcl','ecl','pid'])\n",
    "invalid = {'hcl': '5d90f0', 'cid': '270', 'ecl': '#66dc9c', 'hgt': '62cm', 'byr': '1945', 'pid': '63201172', 'eyr': '2026'}\n",
    "valid = {'byr': '1945', 'iyr': '1999', 'hcl': '5d90f0', 'cid': '270', 'ecl': '#66dc9c', 'hgt': '62cm',  'pid': '63201172', 'eyr': '2026'}\n",
    "\n",
    "assert not is_valid_record(invalid, required)\n",
    "assert is_valid_record(valid, required)"
   ]
  },
  {
   "cell_type": "code",
   "execution_count": 59,
   "metadata": {},
   "outputs": [
    {
     "name": "stdout",
     "output_type": "stream",
     "text": [
      "Number of valid records: 216\n"
     ]
    }
   ],
   "source": [
    "result = count_valid_records(INPUT_FILE, required)\n",
    "print(f'Number of valid records: {result}')"
   ]
  },
  {
   "cell_type": "markdown",
   "metadata": {},
   "source": [
    "### Part 2\n",
    "\n",
    "The line is moving more quickly now, but you overhear airport security talking about how passports with invalid data are getting through. Better add some data validation, quick!\n",
    "\n",
    "You can continue to ignore the cid field, but each other field has strict rules about what values are valid for automatic validation:\n",
    "\n",
    "    byr (Birth Year) - four digits; at least 1920 and at most 2002.\n",
    "    iyr (Issue Year) - four digits; at least 2010 and at most 2020.\n",
    "    eyr (Expiration Year) - four digits; at least 2020 and at most 2030.\n",
    "    hgt (Height) - a number followed by either cm or in:\n",
    "        If cm, the number must be at least 150 and at most 193.\n",
    "        If in, the number must be at least 59 and at most 76.\n",
    "    hcl (Hair Color) - a # followed by exactly six characters 0-9 or a-f.\n",
    "    ecl (Eye Color) - exactly one of: amb blu brn gry grn hzl oth.\n",
    "    pid (Passport ID) - a nine-digit number, including leading zeroes.\n",
    "    cid (Country ID) - ignored, missing or not.\n",
    "\n",
    "Your job is to count the passports where all required fields are both present and valid according to the above rules. Here are some example values:\n",
    "\n",
    "byr valid:   2002\n",
    "byr invalid: 2003\n",
    "\n",
    "hgt valid:   60in\n",
    "hgt valid:   190cm\n",
    "hgt invalid: 190in\n",
    "hgt invalid: 190\n",
    "\n",
    "hcl valid:   #123abc\n",
    "hcl invalid: #123abz\n",
    "hcl invalid: 123abc\n",
    "\n",
    "ecl valid:   brn\n",
    "ecl invalid: wat\n",
    "\n",
    "pid valid:   000000001\n",
    "pid invalid: 0123456789\n",
    "\n",
    "Here are some invalid passports:\n",
    "\n",
    "eyr:1972 cid:100\n",
    "hcl:#18171d ecl:amb hgt:170 pid:186cm iyr:2018 byr:1926\n",
    "\n",
    "iyr:2019\n",
    "hcl:#602927 eyr:1967 hgt:170cm\n",
    "ecl:grn pid:012533040 byr:1946\n",
    "\n",
    "hcl:dab227 iyr:2012\n",
    "ecl:brn hgt:182cm pid:021572410 eyr:2020 byr:1992 cid:277\n",
    "\n",
    "hgt:59cm ecl:zzz\n",
    "eyr:2038 hcl:74454a iyr:2023\n",
    "pid:3556412378 byr:2007\n",
    "\n",
    "Here are some valid passports:\n",
    "\n",
    "pid:087499704 hgt:74in ecl:grn iyr:2012 eyr:2030 byr:1980\n",
    "hcl:#623a2f\n",
    "\n",
    "eyr:2029 ecl:blu cid:129 byr:1989\n",
    "iyr:2014 pid:896056539 hcl:#a97842 hgt:165cm\n",
    "\n",
    "hcl:#888785\n",
    "hgt:164cm byr:2001 iyr:2015 cid:88\n",
    "pid:545766238 ecl:hzl\n",
    "eyr:2022\n",
    "\n",
    "iyr:2010 hgt:158cm hcl:#b6652a ecl:blu byr:1944 eyr:2021 pid:093154719\n",
    "\n",
    "Count the number of valid passports - those that have all required fields and valid values. Continue to treat cid as optional. In your batch file, how many passports are valid?"
   ]
  },
  {
   "cell_type": "code",
   "execution_count": 61,
   "metadata": {},
   "outputs": [],
   "source": [
    "# Dict of regex rules for each field\n",
    "rules = {\n",
    "    'byr': r\"(19[2-9]\\d)|(200[0-2])\",\n",
    "    'iyr': r\"20(1\\d|20)\",\n",
    "    'eyr': r\"20(2\\d|30)\",\n",
    "    'hgt': r\"(1([5-8]\\d|9[0-3])cm|((59|6\\d|7[0-6])in))\",\n",
    "    'hcl': r\"#[0-9a-f]{6}\",\n",
    "    'ecl': r\"(amb|blu|brn|gry|grn|hzl|oth)\",\n",
    "    'pid': r\"\\d{9}\"\n",
    "}\n",
    "\n",
    "required = set(['byr','iyr','eyr','hgt','hcl','ecl','pid'])"
   ]
  },
  {
   "cell_type": "code",
   "execution_count": 67,
   "metadata": {},
   "outputs": [
    {
     "name": "stdout",
     "output_type": "stream",
     "text": [
      "Invalid data for field eyr: 1972, must match 20(2\\d|30)\n",
      "Invalid data for field eyr: 1967, must match 20(2\\d|30)\n"
     ]
    }
   ],
   "source": [
    "# Tests\n",
    "inv1 = {'eyr':'1972', 'cid':'100', \"hcl\":'#18171d', 'ecl':'amb', 'hgt':'170', 'pid':'186cm', 'iyr':'2018', 'byr':'1926'}\n",
    "inv2 = {'iyr':'2019', 'hcl':'#602927', 'eyr':'1967', 'hgt':'170cm', 'ecl':'grn', 'pid':'012533040', 'byr':'1946'}\n",
    "assert not is_valid_record(inv1, required, rules, verbose=True)\n",
    "assert not is_valid_record(inv2, required, rules, verbose=True)\n",
    "val1 = {'pid':'087499704', 'hgt':'74in', 'ecl':'grn', 'iyr':'2012', 'eyr':'2030', 'byr':'1980', 'hcl':'#623a2f'}\n",
    "val2 = {'eyr':'2029', 'ecl':'blu', 'cid':'129', 'byr':'1989', 'iyr':'2014', 'pid':'896056539', 'hcl':'#a97842', 'hgt':'165cm'}\n",
    "assert is_valid_record(val1, required, rules, verbose=True)\n",
    "assert is_valid_record(val2, required, rules, verbose=True)"
   ]
  },
  {
   "cell_type": "code",
   "execution_count": 68,
   "metadata": {},
   "outputs": [
    {
     "name": "stdout",
     "output_type": "stream",
     "text": [
      "Number of valid records: 150\n"
     ]
    }
   ],
   "source": [
    "result = count_valid_records(INPUT_FILE, required, rules)\n",
    "print(f'Number of valid records: {result}')"
   ]
  }
 ],
 "metadata": {
  "kernelspec": {
   "display_name": "Python 3",
   "language": "python",
   "name": "python3"
  },
  "language_info": {
   "codemirror_mode": {
    "name": "ipython",
    "version": 3
   },
   "file_extension": ".py",
   "mimetype": "text/x-python",
   "name": "python",
   "nbconvert_exporter": "python",
   "pygments_lexer": "ipython3",
   "version": "3.7.4"
  }
 },
 "nbformat": 4,
 "nbformat_minor": 2
}
