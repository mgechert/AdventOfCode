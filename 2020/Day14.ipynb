{
 "cells": [
  {
   "cell_type": "markdown",
   "metadata": {},
   "source": [
    "## --- [Day 14: Docking Data](https://adventofcode.com/2020/day/14) ---"
   ]
  },
  {
   "cell_type": "code",
   "execution_count": 1,
   "metadata": {},
   "outputs": [],
   "source": [
    "import re\n",
    "\n",
    "INPUT_FILE = 'input_d14.txt'\n",
    "EXAMPLE_FILE = 'input2_d14.txt'\n",
    "\n",
    "class Bitmask:\n",
    "    def __init__(self, mask: str):\n",
    "        '''\n",
    "        Initialize from a string as described in the puzzle:\n",
    "        A string of 36 bits with the most significant bit on the left.\n",
    "        When the value is 'X' that bit is ignored.\n",
    "        :param mask: the initial mask value\n",
    "        '''\n",
    "        self.ones = None\n",
    "        self.zeroes = None\n",
    "        self.xes = None\n",
    "        self.mask_str = None\n",
    "        self.update(mask)\n",
    "        \n",
    "    def update(self, mask: str):\n",
    "        self.mask_str = mask\n",
    "        self.ones = 0\n",
    "        self.zeroes = 0\n",
    "        self.xes = 0\n",
    "        \n",
    "        # Process each \"bit\" (1, 0, X) left to right\n",
    "        for b in mask:\n",
    "            self.ones <<= 1\n",
    "            self.zeroes <<= 1\n",
    "            self.xes <<= 1\n",
    "            \n",
    "            if b == '1':\n",
    "                self.ones += 1\n",
    "                self.zeroes += 1\n",
    "                self.xes += 1\n",
    "            elif b == '0':\n",
    "                self.xes += 1\n",
    "            elif b == 'X':\n",
    "                self.zeroes += 1\n",
    "    \n",
    "    def apply(self, input_val: int) -> int:\n",
    "        '''\n",
    "        Applies the current mask to the input value\n",
    "        :param input_val: value to be masked\n",
    "        :return: the masked value\n",
    "        '''\n",
    "        return input_val & self.zeroes | self.ones\n",
    "    \n",
    "    def print_mask(self):\n",
    "        '''\n",
    "        Prints the current mask representation\n",
    "        '''\n",
    "        print(f'IN:      {self.mask_str}')\n",
    "        print(f'OR 1\\'s:  {self.ones:036b}')\n",
    "        print(f'AND 0\\'s: {self.zeroes:036b}')\n",
    "        print(f'   X\\'s:  {self.xes:036b}')"
   ]
  },
  {
   "cell_type": "code",
   "execution_count": 2,
   "metadata": {},
   "outputs": [],
   "source": [
    "class Decoder:\n",
    "    '''\n",
    "    Reads and processes input program as defined in puzzle\n",
    "    '''\n",
    "    \n",
    "    def __init__(self, input_file: str=INPUT_FILE):\n",
    "        '''\n",
    "        :param input_file: Input file containing the program\n",
    "        '''\n",
    "        self.memory = {}\n",
    "        self.mask = None\n",
    "        self.input_file = input_file\n",
    "        \n",
    "    def handle_command(self, tokens: dict):\n",
    "        '''\n",
    "        Given a dict representing a single command, updates the\n",
    "        state accordingly. The dict contains 3 keys:\n",
    "        * 'cmd': either 'mask' or 'mem'\n",
    "        * 'addr': memory address (unused when cmd is mask)\n",
    "        * 'val': the value to be assigned\n",
    "        :param tokens: dict as described above\n",
    "        '''\n",
    "        if tokens['cmd']=='mask':\n",
    "            self.mask = Bitmask(tokens['val'])\n",
    "        elif tokens['cmd'] == 'mem':\n",
    "            masked_val = self.mask.apply(int(tokens['val']))\n",
    "            self.memory[int(tokens['addr'])] = masked_val\n",
    "        else:\n",
    "            raise IllegalArgument\n",
    "    \n",
    "    def run(self):\n",
    "        '''\n",
    "        Loads the input file and processes the commands\n",
    "        '''\n",
    "        with open(self.input_file) as fh:\n",
    "            for line in fh.readlines():\n",
    "                pattern = r\"(?P<cmd>mask|mem)\\[?(?P<addr>\\d*)\\]? = (?P<val>.*)\"\n",
    "                tokens = re.match(pattern, line).groupdict()\n",
    "                self.handle_command(tokens)"
   ]
  },
  {
   "cell_type": "code",
   "execution_count": 3,
   "metadata": {},
   "outputs": [],
   "source": [
    "# Bitmask tests\n",
    "mask = Bitmask('XXXXXXXXXXXXXXXXXXXXXXXXXXXXX1XXXX0X')\n",
    "assert mask.ones == 64\n",
    "assert mask.apply(11) == 73\n",
    "assert mask.zeroes == 68719476733"
   ]
  },
  {
   "cell_type": "code",
   "execution_count": 4,
   "metadata": {},
   "outputs": [],
   "source": [
    "# Test against example input\n",
    "ex1 = Decoder(EXAMPLE_FILE)\n",
    "ex1.run()\n",
    "assert ex1.memory == {8:64, 7:101}\n",
    "assert sum(ex1.memory.values()) == 165"
   ]
  },
  {
   "cell_type": "code",
   "execution_count": 5,
   "metadata": {},
   "outputs": [
    {
     "data": {
      "text/plain": [
       "14553106347726"
      ]
     },
     "execution_count": 5,
     "metadata": {},
     "output_type": "execute_result"
    }
   ],
   "source": [
    "# Part 1 solution\n",
    "part1 = Decoder(INPUT_FILE)\n",
    "part1.run()\n",
    "sum(part1.memory.values())"
   ]
  },
  {
   "cell_type": "markdown",
   "metadata": {},
   "source": [
    "### Part 2\n",
    "\n",
    "    If the bitmask bit is 0, the corresponding memory address bit is unchanged.\n",
    "    If the bitmask bit is 1, the corresponding memory address bit is overwritten with 1.\n",
    "    If the bitmask bit is X, the corresponding memory address bit is floating.\n"
   ]
  },
  {
   "cell_type": "code",
   "execution_count": 6,
   "metadata": {},
   "outputs": [],
   "source": [
    "from typing import Set\n",
    "\n",
    "class Floatmask(Bitmask):\n",
    "    def __init__(self, mask: str):\n",
    "        self.update(mask)\n",
    "        \n",
    "    def update(self, mask: str):\n",
    "        super().update(mask)\n",
    "        \n",
    "        # Set the X bits as 0's\n",
    "        for i in range(len(self.mask_str)):\n",
    "            if self.mask_str[i] == 'X':\n",
    "                self.zeroes &= ~(1 << (len(self.mask_str)-i-1))\n",
    "\n",
    "        self.floaters = []\n",
    "        for i in range(len(self.mask_str)):\n",
    "            if self.mask_str[i] == 'X':\n",
    "                self.floaters.append(1 << (len(self.mask_str)-i-1))\n",
    "\n",
    "    def apply(self, value: int) -> Set[str]:\n",
    "        '''\n",
    "        Applies the current 1/0/X mask to the value\n",
    "        :return: set of all masked values\n",
    "        '''\n",
    "        values = set()\n",
    "        \n",
    "        # First append the value with the 1/0 mask applied\n",
    "        values.add(value & self.xes | self.ones)\n",
    "        \n",
    "        # Now create every variant based on the Xes in the string\n",
    "        for fval in self.floaters:\n",
    "            extend_by = []\n",
    "            for val in values:\n",
    "                extend_by.append(val+fval)\n",
    "            values.update(extend_by)\n",
    "        \n",
    "        return values\n",
    "        \n",
    "        \n",
    "        "
   ]
  },
  {
   "cell_type": "code",
   "execution_count": 7,
   "metadata": {},
   "outputs": [],
   "source": [
    "class FloatDecoder(Decoder):\n",
    "\n",
    "    def handle_command(self, tokens: dict):\n",
    "        '''\n",
    "        Updated for part 2: applies Floatmask to memory address and\n",
    "        writes to all possible addresses\n",
    "        Given a dict representing a single command, updates the\n",
    "        state accordingly. The dict contains 3 keys:\n",
    "        * 'cmd': either 'mask' or 'mem'\n",
    "        * 'addr': memory address (unused when cmd is mask)\n",
    "        * 'val': the value to be assigned\n",
    "        :param tokens: dict as described above\n",
    "        '''\n",
    "\n",
    "        if tokens['cmd']=='mask':\n",
    "            self.mask = Floatmask(tokens['val'])\n",
    "        elif tokens['cmd'] == 'mem':\n",
    "            addresses = self.mask.apply(int(tokens['addr']))\n",
    "            for address in addresses:\n",
    "                self.memory[address] = int(tokens['val'])\n",
    "        else:\n",
    "            raise IllegalArgument\n",
    "\n"
   ]
  },
  {
   "cell_type": "code",
   "execution_count": 8,
   "metadata": {},
   "outputs": [],
   "source": [
    "# Floatmask tests\n",
    "fmask = Floatmask('000000000000000000000000000000X1001X')\n",
    "assert fmask.floaters == [32,1]\n",
    "assert fmask.apply(42) == {26,27,58,59}"
   ]
  },
  {
   "cell_type": "code",
   "execution_count": 9,
   "metadata": {},
   "outputs": [],
   "source": [
    "# Example input test\n",
    "ex2 = FloatDecoder('input3_d14.txt')\n",
    "ex2.run()\n",
    "assert sum(ex2.memory.values()) == 208"
   ]
  },
  {
   "cell_type": "code",
   "execution_count": 10,
   "metadata": {},
   "outputs": [
    {
     "data": {
      "text/plain": [
       "2737766154126"
      ]
     },
     "execution_count": 10,
     "metadata": {},
     "output_type": "execute_result"
    }
   ],
   "source": [
    "# Part 2 solution\n",
    "part2 = FloatDecoder(INPUT_FILE)\n",
    "part2.run()\n",
    "sum(part2.memory.values())"
   ]
  }
 ],
 "metadata": {
  "kernelspec": {
   "display_name": "Python 3",
   "language": "python",
   "name": "python3"
  },
  "language_info": {
   "codemirror_mode": {
    "name": "ipython",
    "version": 3
   },
   "file_extension": ".py",
   "mimetype": "text/x-python",
   "name": "python",
   "nbconvert_exporter": "python",
   "pygments_lexer": "ipython3",
   "version": "3.7.4"
  }
 },
 "nbformat": 4,
 "nbformat_minor": 2
}
