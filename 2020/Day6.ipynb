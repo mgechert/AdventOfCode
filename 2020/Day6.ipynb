{
 "cells": [
  {
   "cell_type": "markdown",
   "metadata": {},
   "source": [
    "### --- [Day 6: Custom Customs](https://adventofcode.com/2020/day/6) ---\n",
    "\n",
    "As your flight approaches the regional airport where you'll switch to a much larger plane, customs declaration forms are distributed to the passengers.\n",
    "\n",
    "The form asks a series of 26 yes-or-no questions marked a through z. All you need to do is identify the questions for which anyone in your group answers \"yes\". Since your group is just you, this doesn't take very long.\n",
    "\n",
    "However, the person sitting next to you seems to be experiencing a language barrier and asks if you can help. For each of the people in their group, you write down the questions for which they answer \"yes\", one per line. For example:\n",
    "\n",
    "abcx\n",
    "abcy\n",
    "abcz\n",
    "\n",
    "In this group, there are 6 questions to which anyone answered \"yes\": a, b, c, x, y, and z. (Duplicate answers to the same question don't count extra; each question counts at most once.)\n",
    "\n",
    "Another group asks for your help, then another, and eventually you've collected answers from every group on the plane (your puzzle input). Each group's answers are separated by a blank line, and within each group, each person's answers are on a single line. For example:\n",
    "\n",
    "abc\n",
    "\n",
    "a\n",
    "b\n",
    "c\n",
    "\n",
    "ab\n",
    "ac\n",
    "\n",
    "a\n",
    "a\n",
    "a\n",
    "a\n",
    "\n",
    "b\n",
    "\n",
    "This list represents answers from five groups:\n",
    "\n",
    "    The first group contains one person who answered \"yes\" to 3 questions: a, b, and c.\n",
    "    The second group contains three people; combined, they answered \"yes\" to 3 questions: a, b, and c.\n",
    "    The third group contains two people; combined, they answered \"yes\" to 3 questions: a, b, and c.\n",
    "    The fourth group contains four people; combined, they answered \"yes\" to only 1 question, a.\n",
    "    The last group contains one person who answered \"yes\" to only 1 question, b.\n",
    "\n",
    "In this example, the sum of these counts is 3 + 3 + 3 + 1 + 1 = 11.\n",
    "\n",
    "For each group, count the number of questions to which anyone answered \"yes\". What is the sum of those counts?\n"
   ]
  },
  {
   "cell_type": "code",
   "execution_count": 15,
   "metadata": {},
   "outputs": [],
   "source": [
    "import csv\n",
    "\n",
    "INPUT_FILE = 'input_d6.txt'\n",
    "\n",
    "def read_groups(input_file):\n",
    "    groups = []\n",
    "    with open(input_file) as f:\n",
    "        reader = csv.reader(f)\n",
    "        group = set()\n",
    "        \n",
    "        for row in reader:\n",
    "            if row:\n",
    "                group.update(row[0])\n",
    "            else:\n",
    "                groups.append(group)\n",
    "                group = set()\n",
    "        # Append the last group\n",
    "        groups.append(group)\n",
    "    \n",
    "    return groups\n",
    "\n",
    "def sum_groups(groups):\n",
    "    total = 0\n",
    "    for group in groups:\n",
    "        total += len(group)\n",
    "    return total"
   ]
  },
  {
   "cell_type": "code",
   "execution_count": 16,
   "metadata": {},
   "outputs": [
    {
     "data": {
      "text/plain": [
       "6506"
      ]
     },
     "execution_count": 16,
     "metadata": {},
     "output_type": "execute_result"
    }
   ],
   "source": [
    "groups = read_groups(INPUT_FILE)\n",
    "sum_groups(groups)"
   ]
  },
  {
   "cell_type": "markdown",
   "metadata": {},
   "source": [
    "### --- Part Two ---\n",
    "\n",
    "As you finish the last group's customs declaration, you notice that you misread one word in the instructions:\n",
    "\n",
    "You don't need to identify the questions to which anyone answered \"yes\"; you need to identify the questions to which everyone answered \"yes\"!\n",
    "\n",
    "Using the same example as above:\n",
    "\n",
    "abc\n",
    "\n",
    "a\n",
    "b\n",
    "c\n",
    "\n",
    "ab\n",
    "ac\n",
    "\n",
    "a\n",
    "a\n",
    "a\n",
    "a\n",
    "\n",
    "b\n",
    "\n",
    "This list represents answers from five groups:\n",
    "\n",
    "    In the first group, everyone (all 1 person) answered \"yes\" to 3 questions: a, b, and c.\n",
    "    In the second group, there is no question to which everyone answered \"yes\".\n",
    "    In the third group, everyone answered yes to only 1 question, a. Since some people did not answer \"yes\" to b or c, they don't count.\n",
    "    In the fourth group, everyone answered yes to only 1 question, a.\n",
    "    In the fifth group, everyone (all 1 person) answered \"yes\" to 1 question, b.\n",
    "\n",
    "In this example, the sum of these counts is 3 + 0 + 1 + 1 + 1 = 6.\n",
    "\n",
    "For each group, count the number of questions to which everyone answered \"yes\". What is the sum of those counts?\n"
   ]
  },
  {
   "cell_type": "code",
   "execution_count": 33,
   "metadata": {},
   "outputs": [],
   "source": [
    "# Similar to above, but instead of set.update(), use set.intersection_update()\n",
    "def read_groups_union(input_file):\n",
    "    groups = []\n",
    "    with open(input_file) as f:\n",
    "        reader = csv.reader(f)\n",
    "        group = None\n",
    "        \n",
    "        for row in reader:\n",
    "            if row:\n",
    "                if group is not None:\n",
    "                    # Any response after the first of the group\n",
    "                    group.intersection_update(row[0])\n",
    "\n",
    "                else:\n",
    "                    # If this is the first row in the group, it's a new set\n",
    "                    group = set(row[0])\n",
    "            else:\n",
    "                # Blank row delimits one group from the next\n",
    "                groups.append(group)\n",
    "                group = None\n",
    "        # Append the last group\n",
    "        groups.append(group)\n",
    "    \n",
    "    return groups"
   ]
  },
  {
   "cell_type": "code",
   "execution_count": 34,
   "metadata": {},
   "outputs": [
    {
     "data": {
      "text/plain": [
       "6"
      ]
     },
     "execution_count": 34,
     "metadata": {},
     "output_type": "execute_result"
    }
   ],
   "source": [
    "# Test against the example for troubleshooting\n",
    "groups = read_groups_union('input2_d6.txt')\n",
    "sum_groups(groups)"
   ]
  },
  {
   "cell_type": "code",
   "execution_count": 35,
   "metadata": {},
   "outputs": [
    {
     "data": {
      "text/plain": [
       "3243"
      ]
     },
     "execution_count": 35,
     "metadata": {},
     "output_type": "execute_result"
    }
   ],
   "source": [
    "# Part 2 solution ###################################\n",
    "groups = read_groups_union(INPUT_FILE)\n",
    "sum_groups(groups)"
   ]
  }
 ],
 "metadata": {
  "kernelspec": {
   "display_name": "Python 3",
   "language": "python",
   "name": "python3"
  },
  "language_info": {
   "codemirror_mode": {
    "name": "ipython",
    "version": 3
   },
   "file_extension": ".py",
   "mimetype": "text/x-python",
   "name": "python",
   "nbconvert_exporter": "python",
   "pygments_lexer": "ipython3",
   "version": "3.7.4"
  }
 },
 "nbformat": 4,
 "nbformat_minor": 2
}
