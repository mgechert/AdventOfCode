{
 "cells": [
  {
   "cell_type": "markdown",
   "metadata": {},
   "source": [
    "## 2020 Advent of Code\n",
    "#### --- [Day 1: Report Repair](https://adventofcode.com/2020/day/1) ---\n",
    "\n",
    "After saving Christmas five years in a row, you've decided to take a vacation at a nice resort on a tropical island. Surely, Christmas will go on without you.\n",
    "\n",
    "The tropical island has its own currency and is entirely cash-only. The gold coins used there have a little picture of a starfish; the locals just call them stars. None of the currency exchanges seem to have heard of them, but somehow, you'll need to find fifty of these coins by the time you arrive so you can pay the deposit on your room.\n",
    "\n",
    "To save your vacation, you need to get all fifty stars by December 25th.\n",
    "\n",
    "Collect stars by solving puzzles. Two puzzles will be made available on each day in the Advent calendar; the second puzzle is unlocked when you complete the first. Each puzzle grants one star. Good luck!\n",
    "\n",
    "Before you leave, the Elves in accounting just need you to fix your expense report (your puzzle input); apparently, something isn't quite adding up.\n",
    "\n",
    "Specifically, they need you to find the two entries that sum to 2020 and then multiply those two numbers together.\n",
    "\n",
    "For example, suppose your expense report contained the following:\n",
    "\n",
    "1721\n",
    "979\n",
    "366\n",
    "299\n",
    "675\n",
    "1456\n",
    "\n",
    "In this list, the two entries that sum to 2020 are 1721 and 299. Multiplying them together produces 1721 * 299 = 514579, so the correct answer is 514579.\n",
    "\n",
    "Of course, your expense report is much larger. Find the two entries that sum to 2020; what do you get if you multiply them together?\n",
    "\n",
    "To begin, get your [puzzle input](https://adventofcode.com/2020/day/1/input)."
   ]
  },
  {
   "cell_type": "code",
   "execution_count": 5,
   "metadata": {},
   "outputs": [
    {
     "name": "stdout",
     "output_type": "stream",
     "text": [
      "Values 1187 and 833 add up to 2020, product is 988771\n"
     ]
    }
   ],
   "source": [
    "import csv\n",
    "\n",
    "vals = set()\n",
    "\n",
    "with open('input_d1.txt') as f:\n",
    "    reader = csv.reader(f)\n",
    "    for row in reader:\n",
    "        i = int(row[0])\n",
    "        if 2020-i in vals:\n",
    "            print(f'Values {i} and {2020-i} add up to 2020, product is {i * (2020-i)}')\n",
    "            break\n",
    "        else:\n",
    "            vals.add(i)"
   ]
  },
  {
   "cell_type": "markdown",
   "metadata": {},
   "source": [
    "#### Part 2\n",
    "The Elves in accounting are thankful for your help; one of them even offers you a starfish coin they had left over from a past vacation. They offer you a second one if you can find three numbers in your expense report that meet the same criteria.\n",
    "\n",
    "Using the above example again, the three entries that sum to 2020 are 979, 366, and 675. Multiplying them together produces the answer, 241861950.\n",
    "\n",
    "In your expense report, what is the product of the three entries that sum to 2020?"
   ]
  },
  {
   "cell_type": "code",
   "execution_count": 25,
   "metadata": {},
   "outputs": [],
   "source": [
    "# Read the entire file into a set\n",
    "vals = set()\n",
    "\n",
    "with open('input_d1.txt') as f:\n",
    "    reader = csv.reader(f)\n",
    "    for row in reader:\n",
    "        vals.add(int(row[0]))\n",
    "        \n",
    "\n",
    "# Recursive function for k-sum\n",
    "def k_sum(k, target):\n",
    "    # Base case\n",
    "    if k == 1:\n",
    "        if target in vals:\n",
    "            return [target]\n",
    "        else:\n",
    "            return None\n",
    "    # Otherwise, recurse k-1\n",
    "    else:\n",
    "        for n in vals:\n",
    "            sub_sum = k_sum(k-1, target-n)\n",
    "            if sub_sum:\n",
    "                return [n] + sub_sum\n",
    "        return None"
   ]
  },
  {
   "cell_type": "code",
   "execution_count": 26,
   "metadata": {},
   "outputs": [
    {
     "name": "stdout",
     "output_type": "stream",
     "text": [
      "2-sum: [1187, 833], product is 988771\n"
     ]
    }
   ],
   "source": [
    "# Test against part 1\n",
    "two_sum = k_sum(2, 2020)\n",
    "print(f'2-sum: {two_sum}, product is {two_sum[0] * two_sum[1]}')"
   ]
  },
  {
   "cell_type": "code",
   "execution_count": 27,
   "metadata": {},
   "outputs": [
    {
     "name": "stdout",
     "output_type": "stream",
     "text": [
      "3-sum: [1237, 272, 511], product is 171933104\n"
     ]
    }
   ],
   "source": [
    "three_sum = k_sum(3, 2020)\n",
    "if three_sum:\n",
    "    prod = three_sum[0] * three_sum[1] * three_sum[2]\n",
    "print((f'3-sum: {three_sum}, product is {prod}'))\n"
   ]
  }
 ],
 "metadata": {
  "kernelspec": {
   "display_name": "Python 3",
   "language": "python",
   "name": "python3"
  },
  "language_info": {
   "codemirror_mode": {
    "name": "ipython",
    "version": 3
   },
   "file_extension": ".py",
   "mimetype": "text/x-python",
   "name": "python",
   "nbconvert_exporter": "python",
   "pygments_lexer": "ipython3",
   "version": "3.7.4"
  }
 },
 "nbformat": 4,
 "nbformat_minor": 2
}
