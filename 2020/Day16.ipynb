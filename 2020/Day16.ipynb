{
 "cells": [
  {
   "cell_type": "markdown",
   "metadata": {},
   "source": [
    "## --- [Day 16: Ticket Translation](https://adventofcode.com/2020/day/16) ---"
   ]
  },
  {
   "cell_type": "code",
   "execution_count": 1,
   "metadata": {},
   "outputs": [],
   "source": [
    "import csv\n",
    "import numpy as np\n",
    "import re\n",
    "from typing import List\n",
    "\n",
    "INPUT_RULES = 'input1_d16.txt' # This file contains all the rules for ticket fields\n",
    "INPUT_TIX = 'input2_d16.txt'  # Your ticket on row 0, all other tickets follow\n",
    "EX_RULES = 'input3_d16.txt' # Example rules\n",
    "EX_TIX = 'input4_d16.txt'   # Example tix, yours on row 0\n",
    "\n",
    "\n",
    "class TicketTranslator:\n",
    "    def __init__(self, rules_file: str):\n",
    "        self.all_valid = set()\n",
    "        self.rules = {}\n",
    "        self.load_rules_file(rules_file)\n",
    "        self.valid_tix = []\n",
    "        self.invalid_tix = []\n",
    "        self.error_rate = 0\n",
    "    \n",
    "    def load_rules_file(self, rules_file: str):\n",
    "        '''\n",
    "        Reads and parses a file of rules in the format\n",
    "            field name: low-high or low-high\n",
    "        :param rules_file: filename containing 1+ rules\n",
    "        '''\n",
    "        expr = r\"^(?P<field>[\\w\\s]+): (?P<lo1>\\d+)-(?P<hi1>\\d+) or (?P<lo2>\\d+)-(?P<hi2>\\d+)\"\n",
    "        with open(rules_file) as fh:\n",
    "            for line in fh.readlines():\n",
    "                r = re.match(expr, line).groupdict()\n",
    "                # Create a set with both ranges in it\n",
    "                range1 = range(int(r['lo1']), int(r['hi1'])+1)\n",
    "                range2 = range(int(r['lo2']), int(r['hi2'])+1)\n",
    "                self.rules[r['field']] = set(range1)\n",
    "                self.rules[r['field']].update(range2)\n",
    "                # Also add all of those values to the set of ALL valid values\n",
    "                self.all_valid.update(self.rules[r['field']])\n",
    "    \n",
    "    def scan_ticket(self, ticket: List[int]):\n",
    "        '''\n",
    "        Scans a single ticket\n",
    "        :param ticket: list of int values, fields unknown\n",
    "        '''\n",
    "        # A ticket is valid when all of its fields are within *some* valid range\n",
    "        if self.all_valid.issuperset(ticket):\n",
    "            self.valid_tix.append(ticket)\n",
    "        else:\n",
    "            self.invalid_tix.append(ticket)\n",
    "            self.error_rate += sum(set(ticket).difference(self.all_valid))\n",
    "        \n",
    "    \n",
    "    def load_tix_file(self, tix_file: str):\n",
    "        '''\n",
    "        Loads a file containing tickets and scans each one.\n",
    "        Each ticket is a comma-delimited string of integers\n",
    "        :param tix_file:\n",
    "        '''\n",
    "        with open(tix_file) as fh:\n",
    "            reader = csv.reader(fh)\n",
    "            for row in reader:\n",
    "                self.scan_ticket([int(v) for v in row])\n",
    "                \n",
    "    def possible_fields(self):\n",
    "        '''\n",
    "        Compares the values of each unknown field across all *valid* tickets\n",
    "        to determine which fields each one could be based on the rules defined.\n",
    "        :return: a list where length = total # of fields, element i is set of possible fields for field i\n",
    "        '''\n",
    "        # Each column will get a set of field names such that possible_fields[i]\n",
    "        # is the set of field names that could correspond to field i\n",
    "        possible_fields = []\n",
    "        \n",
    "        for col in np.array(self.valid_tix).transpose():\n",
    "            colset = set(col)\n",
    "            possible = set()\n",
    "            \n",
    "            # Check the set of values for this column against all rules\n",
    "            for field, rule_set in self.rules.items():\n",
    "                if colset.issubset(rule_set):\n",
    "                    possible.update([field])\n",
    "            \n",
    "            possible_fields.append(possible)\n",
    "        \n",
    "        return possible_fields\n",
    "    \n",
    "    def match_fields(self):\n",
    "        '''\n",
    "        Uses set logic to match up each field with exactly 1 descriptor\n",
    "        :return: list of field names such that element i is the name of field i\n",
    "        '''\n",
    "        possible_fields = self.possible_fields()\n",
    "        \n",
    "        # As each field narrowed to exactly 1 possibility, add to solved\n",
    "        solved = set()\n",
    "        last_n_solved = -1\n",
    "        \n",
    "        while len(solved) < len(possible_fields) and len(solved) > last_n_solved:\n",
    "            # solved should grow by at least 1 each iteration if there's a solution\n",
    "            last_n_solved = len(solved)\n",
    "            \n",
    "            for i in range(len(possible_fields)):\n",
    "                if len(possible_fields[i]) > 1:\n",
    "                    # try to narrow this set down by removing fields matched elsewhere\n",
    "                    possible_fields[i].difference_update(solved)\n",
    "                if len(possible_fields[i]) == 1:\n",
    "                    # once the set of possibilities is 1, this field is matched\n",
    "                    solved.update(possible_fields[i])\n",
    "        \n",
    "        return [s.pop() for s in possible_fields]\n",
    "            \n",
    "    def decode_my_ticket(self):\n",
    "        '''\n",
    "        Combines \"my\" ticket (assumed to be the first valid ticket scanned) with the matched\n",
    "        fields\n",
    "        :return: dict of {field: value}\n",
    "        '''\n",
    "        ticket = {}\n",
    "        fields = self.match_fields()\n",
    "        \n",
    "        for i in range(len(fields)):\n",
    "            ticket[fields[i]] = self.valid_tix[0][i]\n",
    "        \n",
    "        return ticket      \n",
    "        "
   ]
  },
  {
   "cell_type": "code",
   "execution_count": 2,
   "metadata": {},
   "outputs": [],
   "source": [
    "# Test example\n",
    "ex = TicketTranslator(EX_RULES)\n",
    "ex.load_tix_file(EX_TIX)\n",
    "assert len(ex.valid_tix) == 2\n",
    "assert len(ex.invalid_tix) == 3\n",
    "assert ex.error_rate == 71"
   ]
  },
  {
   "cell_type": "code",
   "execution_count": 3,
   "metadata": {},
   "outputs": [
    {
     "name": "stdout",
     "output_type": "stream",
     "text": [
      "Ticket scanning error rate was 20013\n"
     ]
    }
   ],
   "source": [
    "# Part 1 solution\n",
    "p1 = TicketTranslator(INPUT_RULES)\n",
    "p1.load_tix_file(INPUT_TIX)\n",
    "print('Ticket scanning error rate was', p1.error_rate)"
   ]
  },
  {
   "cell_type": "markdown",
   "metadata": {},
   "source": [
    "### Part 2\n",
    "\n",
    "Now that you've identified which tickets contain invalid values, discard those tickets entirely. Use the remaining valid tickets to determine which field is which.\n",
    "\n",
    "Using the valid ranges for each field, determine what order the fields appear on the tickets. The order is consistent between all tickets: if seat is the third field, it is the third field on every ticket, including your ticket.\n",
    "\n",
    "Once you work out which field is which, look for the six fields on your ticket that start with the word departure. What do you get if you multiply those six values together?"
   ]
  },
  {
   "cell_type": "code",
   "execution_count": 4,
   "metadata": {},
   "outputs": [
    {
     "name": "stdout",
     "output_type": "stream",
     "text": [
      "[[ 7  1 14]\n",
      " [ 7  3 47]]\n",
      "[7 7]\n",
      "[1 3]\n",
      "[14 47]\n"
     ]
    }
   ],
   "source": [
    "# NumPy is a handy way to transpose an array without iterating\n",
    "vt = np.array(ex.valid_tix)\n",
    "print(vt)\n",
    "for col in vt.transpose():\n",
    "    print(col)"
   ]
  },
  {
   "cell_type": "code",
   "execution_count": 5,
   "metadata": {
    "scrolled": true
   },
   "outputs": [],
   "source": [
    "# Test against part 2 example\n",
    "ex2 = TicketTranslator('input5_d16.txt')\n",
    "ex2.load_tix_file('input6_d16.txt')\n",
    "assert len(ex2.rules) == 3\n",
    "assert len(ex2.valid_tix) == 4\n",
    "# The number of fields matched should be the same as the number of fields on \"my\" ticket\n",
    "assert len(ex2.match_fields()) == len(ex2.valid_tix[0])"
   ]
  },
  {
   "cell_type": "code",
   "execution_count": 6,
   "metadata": {},
   "outputs": [
    {
     "data": {
      "text/plain": [
       "5977293343129"
      ]
     },
     "execution_count": 6,
     "metadata": {},
     "output_type": "execute_result"
    }
   ],
   "source": [
    "# Part 2 solution\n",
    "my_data = p1.decode_my_ticket()\n",
    "\n",
    "# find the keys that start with 'departure'\n",
    "depart_keys = list(filter(lambda f: f[0:10] == 'departure ', my_data))\n",
    "\n",
    "solution = 1\n",
    "for key in depart_keys:\n",
    "    solution *= my_data[key]\n",
    "    \n",
    "solution"
   ]
  }
 ],
 "metadata": {
  "kernelspec": {
   "display_name": "Python 3",
   "language": "python",
   "name": "python3"
  },
  "language_info": {
   "codemirror_mode": {
    "name": "ipython",
    "version": 3
   },
   "file_extension": ".py",
   "mimetype": "text/x-python",
   "name": "python",
   "nbconvert_exporter": "python",
   "pygments_lexer": "ipython3",
   "version": "3.7.4"
  }
 },
 "nbformat": 4,
 "nbformat_minor": 2
}
