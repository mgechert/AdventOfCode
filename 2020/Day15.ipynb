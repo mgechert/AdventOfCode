{
 "cells": [
  {
   "cell_type": "markdown",
   "metadata": {},
   "source": [
    "### --- [Day 15: Rambunctious Recitation](https://adventofcode.com/2020/day/15) ---"
   ]
  },
  {
   "cell_type": "code",
   "execution_count": 45,
   "metadata": {},
   "outputs": [],
   "source": [
    "from typing import List\n",
    "\n",
    "INPUT_FILE = [0,13,16,17,1,10,6]\n",
    "\n",
    "\n",
    "def value_at_turn(turn_no: int, start_nums: List[int]):\n",
    "    '''\n",
    "    Finds the number spoken at the specified turn\n",
    "    '''\n",
    "    current_turn = 0\n",
    "    last_played = {}\n",
    "    this_num = None\n",
    "    last_num = None\n",
    "    \n",
    "    while current_turn < turn_no:\n",
    "        current_turn += 1\n",
    "        last_num = this_num\n",
    "        \n",
    "        # Determine the next number to play based on the previous number\n",
    "        if current_turn <= len(start_nums):\n",
    "            this_num = start_nums[current_turn-1]\n",
    "        elif last_played[last_num] is None:\n",
    "            this_num = 0\n",
    "        else:\n",
    "            this_num = current_turn - last_played[last_num] - 1\n",
    "        \n",
    "        # Add the next number to the dict with None\n",
    "        if this_num not in last_played:\n",
    "            last_played[this_num] = None\n",
    "            \n",
    "        \n",
    "        last_played[last_num] = current_turn - 1\n",
    "            \n",
    "    return this_num\n",
    "    \n",
    "    "
   ]
  },
  {
   "cell_type": "code",
   "execution_count": 44,
   "metadata": {},
   "outputs": [],
   "source": [
    "# Test against examples\n",
    "assert value_at_turn(10, [0,3,6]) == 0\n",
    "assert value_at_turn(2020, [0,3,6]) == 436\n",
    "assert value_at_turn(2020, [1,3,2]) == 1\n",
    "assert value_at_turn(2020, [2,1,3]) == 10\n",
    "assert value_at_turn(2020, [1,2,3]) == 27\n",
    "assert value_at_turn(2020, [2,3,1]) == 78\n",
    "assert value_at_turn(2020, [3,2,1]) == 438\n",
    "assert value_at_turn(2020, [3,1,2]) == 1836"
   ]
  },
  {
   "cell_type": "code",
   "execution_count": 46,
   "metadata": {},
   "outputs": [
    {
     "data": {
      "text/plain": [
       "276"
      ]
     },
     "execution_count": 46,
     "metadata": {},
     "output_type": "execute_result"
    }
   ],
   "source": [
    "# Part 1 solution\n",
    "value_at_turn(2020, INPUT_FILE)"
   ]
  },
  {
   "cell_type": "markdown",
   "metadata": {},
   "source": [
    "### Part 2\n",
    "Given your starting values, what will be the 30000000th number spoken?"
   ]
  },
  {
   "cell_type": "code",
   "execution_count": 49,
   "metadata": {},
   "outputs": [],
   "source": [
    "assert value_at_turn(30000000,[0,3,6]) == 175594\n",
    "assert value_at_turn(30000000, [1,3,2]) == 2578\n",
    "assert value_at_turn(30000000, [2,1,3]) == 3544142\n",
    "assert value_at_turn(30000000, [1,2,3]) == 261214\n",
    "assert value_at_turn(30000000, [2,3,1]) == 6895259\n",
    "assert value_at_turn(30000000, [3,2,1]) == 18\n",
    "assert value_at_turn(30000000, [3,1,2]) == 362"
   ]
  },
  {
   "cell_type": "code",
   "execution_count": 51,
   "metadata": {},
   "outputs": [
    {
     "data": {
      "text/plain": [
       "31916"
      ]
     },
     "execution_count": 51,
     "metadata": {},
     "output_type": "execute_result"
    }
   ],
   "source": [
    "# Part 2 solution... slow, but works eventually.\n",
    "value_at_turn(30000000, INPUT_FILE)"
   ]
  }
 ],
 "metadata": {
  "kernelspec": {
   "display_name": "Python 3",
   "language": "python",
   "name": "python3"
  },
  "language_info": {
   "codemirror_mode": {
    "name": "ipython",
    "version": 3
   },
   "file_extension": ".py",
   "mimetype": "text/x-python",
   "name": "python",
   "nbconvert_exporter": "python",
   "pygments_lexer": "ipython3",
   "version": "3.7.4"
  }
 },
 "nbformat": 4,
 "nbformat_minor": 2
}
