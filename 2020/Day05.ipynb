{
 "cells": [
  {
   "cell_type": "markdown",
   "metadata": {},
   "source": [
    "### --- [Day 5: Binary Boarding](https://adventofcode.com/2020/day/5) ---\n",
    "\n",
    "You board your plane only to discover a new problem: you dropped your boarding pass! You aren't sure which seat is yours, and all of the flight attendants are busy with the flood of people that suddenly made it through passport control.\n",
    "\n",
    "You write a quick program to use your phone's camera to scan all of the nearby boarding passes (your puzzle input); perhaps you can find your seat through process of elimination.\n",
    "\n",
    "Instead of zones or groups, this airline uses binary space partitioning to seat people. A seat might be specified like FBFBBFFRLR, where F means \"front\", B means \"back\", L means \"left\", and R means \"right\".\n",
    "\n",
    "The first 7 characters will either be F or B; these specify exactly one of the 128 rows on the plane (numbered 0 through 127). Each letter tells you which half of a region the given seat is in. Start with the whole list of rows; the first letter indicates whether the seat is in the front (0 through 63) or the back (64 through 127). The next letter indicates which half of that region the seat is in, and so on until you're left with exactly one row.\n",
    "\n",
    "For example, consider just the first seven characters of FBFBBFFRLR:\n",
    "\n",
    "    Start by considering the whole range, rows 0 through 127.\n",
    "    F means to take the lower half, keeping rows 0 through 63.\n",
    "    B means to take the upper half, keeping rows 32 through 63.\n",
    "    F means to take the lower half, keeping rows 32 through 47.\n",
    "    B means to take the upper half, keeping rows 40 through 47.\n",
    "    B keeps rows 44 through 47.\n",
    "    F keeps rows 44 through 45.\n",
    "    The final F keeps the lower of the two, row 44.\n",
    "\n",
    "The last three characters will be either L or R; these specify exactly one of the 8 columns of seats on the plane (numbered 0 through 7). The same process as above proceeds again, this time with only three steps. L means to keep the lower half, while R means to keep the upper half.\n",
    "\n",
    "For example, consider just the last 3 characters of FBFBBFFRLR:\n",
    "\n",
    "    Start by considering the whole range, columns 0 through 7.\n",
    "    R means to take the upper half, keeping columns 4 through 7.\n",
    "    L means to take the lower half, keeping columns 4 through 5.\n",
    "    The final R keeps the upper of the two, column 5.\n",
    "\n",
    "So, decoding FBFBBFFRLR reveals that it is the seat at row 44, column 5.\n",
    "\n",
    "Every seat also has a unique seat ID: multiply the row by 8, then add the column. In this example, the seat has ID 44 * 8 + 5 = 357.\n",
    "\n",
    "Here are some other boarding passes:\n",
    "\n",
    "    BFFFBBFRRR: row 70, column 7, seat ID 567.\n",
    "    FFFBBBFRRR: row 14, column 7, seat ID 119.\n",
    "    BBFFBBFRLL: row 102, column 4, seat ID 820.\n",
    "\n",
    "As a sanity check, look through your list of boarding passes. What is the highest seat ID on a boarding pass?\n"
   ]
  },
  {
   "cell_type": "code",
   "execution_count": 1,
   "metadata": {},
   "outputs": [],
   "source": [
    "import csv\n",
    "import math\n",
    "\n",
    "INPUT_FILE = 'input_d5.txt'\n",
    "NUM_ROWS = 128\n",
    "\n",
    "def str_to_num(s):\n",
    "    n = 0\n",
    "    for c in s:\n",
    "        n <<= 1\n",
    "        if c == 'B' or c == 'R':\n",
    "            n += 1\n",
    "    return n\n",
    "\n",
    "def str_to_seat(s):\n",
    "    row = str_to_num(s[:7])\n",
    "    col = str_to_num(s[7:])\n",
    "    return row, col\n",
    "\n",
    "def get_seat_id(row, col):\n",
    "    return 8 * row + col\n",
    "\n",
    "def scan_str(s):\n",
    "    row, col = str_to_seat(s)\n",
    "    return get_seat_id(row, col)\n",
    "\n",
    "def max_seat_id(input_file):\n",
    "    max_id = 0\n",
    "    with open(input_file) as f:\n",
    "        reader = csv.reader(f)\n",
    "        for row in reader:\n",
    "            max_id = max(max_id, scan_str(row[0]))\n",
    "    return max_id\n",
    "            "
   ]
  },
  {
   "cell_type": "code",
   "execution_count": 2,
   "metadata": {},
   "outputs": [],
   "source": [
    "# Test the examples\n",
    "row = str_to_num('FBFBBFF')\n",
    "col = str_to_num('RLR')\n",
    "assert row == 44\n",
    "assert col == 5\n",
    "\n",
    "assert scan_str('FBFBBFFRLR') == 357\n",
    "assert scan_str('BFFFBBFRRR') == 567\n",
    "assert scan_str('FFFBBBFRRR') == 119\n",
    "assert scan_str('BBFFBBFRLL') == 820"
   ]
  },
  {
   "cell_type": "code",
   "execution_count": 3,
   "metadata": {},
   "outputs": [
    {
     "name": "stdout",
     "output_type": "stream",
     "text": [
      "878\n"
     ]
    }
   ],
   "source": [
    "# Part 1 solution ####################################\n",
    "print(max_seat_id(INPUT_FILE))"
   ]
  },
  {
   "cell_type": "markdown",
   "metadata": {},
   "source": [
    "##### Part 2\n",
    "Ding! The \"fasten seat belt\" signs have turned on. Time to find your seat.\n",
    "\n",
    "It's a completely full flight, so your seat should be the only missing boarding pass in your list. However, there's a catch: some of the seats at the very front and back of the plane don't exist on this aircraft, so they'll be missing from your list as well.\n",
    "\n",
    "Your seat wasn't at the very front or back, though; the seats with IDs +1 and -1 from yours will be in your list."
   ]
  },
  {
   "cell_type": "code",
   "execution_count": 4,
   "metadata": {},
   "outputs": [],
   "source": [
    "def find_empty_seat(input_file, verbose=False):\n",
    "    # Store each row as a bit array of seats, stored in col order 76543210\n",
    "    seat_rows = [0] * NUM_ROWS\n",
    "    min_seat_id = 1024\n",
    "    max_seat_id = 0\n",
    "    \n",
    "    with open(input_file) as f:\n",
    "        reader = csv.reader(f)\n",
    "        for row in reader:\n",
    "            row, col = str_to_seat(row[0])\n",
    "            this_seat_id = get_seat_id(row, col)\n",
    "            min_seat_id = min(min_seat_id, this_seat_id)\n",
    "            max_seat_id = max(max_seat_id, this_seat_id)\n",
    "                \n",
    "            # Store the column encountered as 1 in the bit array\n",
    "            seat_rows[row] = (1 << col) | seat_rows[row]\n",
    "    \n",
    "    if verbose:\n",
    "        print(f'min seat encountered was {min_seat_id}, max was {max_seat_id}')\n",
    "    \n",
    "    for row_num in range(NUM_ROWS):\n",
    "        # Look for rows with at least 1 seat filled, but not all 8\n",
    "        if seat_rows[row_num] ^ 255 > 0 and seat_rows[row_num] > 0:\n",
    "            # Find the highest column number of an empty seat in this row\n",
    "            # i.e., the most significant bit after doing row XOR 255\n",
    "            col_num = math.floor(math.log(seat_rows[row_num] ^ 255, 2))\n",
    "            empty_seat_id = get_seat_id(row_num, col_num)\n",
    "            if verbose:\n",
    "                print(f'row {row_num} contains empty seat in col {col_num}: {seat_rows[row_num]:b} (ID:{get_seat_id(row_num, col_num)})')\n",
    "\n",
    "            # Ignore empty seat numbers outside the range of IDs encountered (they don't exist)\n",
    "            if empty_seat_id > min_seat_id and empty_seat_id < max_seat_id:\n",
    "                return empty_seat_id\n",
    "            "
   ]
  },
  {
   "cell_type": "code",
   "execution_count": 5,
   "metadata": {},
   "outputs": [
    {
     "name": "stdout",
     "output_type": "stream",
     "text": [
      "min seat encountered was 54, max was 878\n",
      "row 6 contains empty seat in col 5: 11000000 (ID:53)\n",
      "row 63 contains empty seat in col 0: 11111110 (ID:504)\n"
     ]
    },
    {
     "data": {
      "text/plain": [
       "504"
      ]
     },
     "execution_count": 5,
     "metadata": {},
     "output_type": "execute_result"
    }
   ],
   "source": [
    "# Part 2 solution #############################################\n",
    "find_empty_seat(INPUT_FILE, True)"
   ]
  }
 ],
 "metadata": {
  "kernelspec": {
   "display_name": "Python 3",
   "language": "python",
   "name": "python3"
  },
  "language_info": {
   "codemirror_mode": {
    "name": "ipython",
    "version": 3
   },
   "file_extension": ".py",
   "mimetype": "text/x-python",
   "name": "python",
   "nbconvert_exporter": "python",
   "pygments_lexer": "ipython3",
   "version": "3.7.4"
  }
 },
 "nbformat": 4,
 "nbformat_minor": 2
}
