{
 "cells": [
  {
   "cell_type": "markdown",
   "source": [
    "## --- Day 9: Smoke Basin ---\r\n",
    "\r\n",
    "These caves seem to be lava tubes. Parts are even still volcanically active; small hydrothermal vents release smoke into the caves that slowly settles like rain.\r\n",
    "\r\n",
    "If you can model how the smoke flows through the caves, you might be able to avoid it and be that much safer. The submarine generates a heightmap of the floor of the nearby caves for you (your puzzle input).\r\n",
    "\r\n",
    "Smoke flows to the lowest point of the area it's in. For example, consider the following heightmap:\r\n",
    "```\r\n",
    "2199943210\r\n",
    "3987894921\r\n",
    "9856789892\r\n",
    "8767896789\r\n",
    "9899965678\r\n",
    "```\r\n",
    "Each number corresponds to the height of a particular location, where 9 is the highest and 0 is the lowest a location can be.\r\n",
    "\r\n",
    "Your first goal is to find the low points - the locations that are lower than any of its adjacent locations. Most locations have four adjacent locations (up, down, left, and right); locations on the edge or corner of the map have three or two adjacent locations, respectively. (Diagonal locations do not count as adjacent.)\r\n",
    "\r\n",
    "In the above example, there are four low points, all highlighted: two are in the first row (a 1 and a 0), one is in the third row (a 5), and one is in the bottom row (also a 5). All other locations on the heightmap have some lower adjacent location, and so are not low points.\r\n",
    "\r\n",
    "The risk level of a low point is 1 plus its height. In the above example, the risk levels of the low points are 2, 1, 6, and 6. The sum of the risk levels of all low points in the heightmap is therefore 15.\r\n",
    "\r\n",
    "Find all of the low points on your heightmap. What is the sum of the risk levels of all low points on your heightmap?\r\n"
   ],
   "metadata": {}
  },
  {
   "cell_type": "code",
   "execution_count": 1,
   "source": [
    "def find_low_points(heightmap):\r\n",
    "    def _min_adjacent(r, c):\r\n",
    "        up, left, right, down = 10, 10, 10, 10\r\n",
    "        if r > 0:\r\n",
    "            up = heightmap[r-1][c]\r\n",
    "        if c > 0:\r\n",
    "            left = heightmap[r][c-1]\r\n",
    "        if c < len(heightmap[r])-1:\r\n",
    "            right = heightmap[r][c+1]\r\n",
    "        if r < len(heightmap)-1:\r\n",
    "            down = heightmap[r+1][c]\r\n",
    "        # print(f\"adjacent to {heightmap[r][c]} {r},{c}:\", up, left, down, right, \"min\", min(up, left, right, down))\r\n",
    "\r\n",
    "        return min(up, left, right, down)\r\n",
    "\r\n",
    "    low_points = []\r\n",
    "\r\n",
    "    for r in range(len(heightmap)):\r\n",
    "        for c in range(len(heightmap[r])):\r\n",
    "            if heightmap[r][c] < _min_adjacent(r, c):\r\n",
    "                low_points.append((r, c))\r\n",
    "    \r\n",
    "    return low_points\r\n",
    "\r\n",
    "def sum_risk_levels(heightmap, low_points):\r\n",
    "    result = 0\r\n",
    "\r\n",
    "    for r, c in low_points:\r\n",
    "        result += heightmap[r][c] + 1\r\n",
    "    \r\n",
    "    return result\r\n",
    "\r\n",
    "def map_risk_levels(heightmap):\r\n",
    "    low_points = find_low_points(heightmap)\r\n",
    "\r\n",
    "    return sum_risk_levels(heightmap, low_points)"
   ],
   "outputs": [],
   "metadata": {}
  },
  {
   "cell_type": "code",
   "execution_count": 2,
   "source": [
    "example1_input = [\r\n",
    "    [2, 1, 9, 9, 9, 4, 3, 2, 1, 0],\r\n",
    "    [3, 9, 8, 7, 8, 9, 4, 9, 2, 1],\r\n",
    "    [9, 8, 5, 6, 7, 8, 9, 8, 9, 2],\r\n",
    "    [8, 7, 6, 7, 8, 9, 6, 7, 8, 9],\r\n",
    "    [9, 8, 9, 9, 9, 6, 5, 6, 7, 8]\r\n",
    "]\r\n",
    "example1_solution = 15\r\n",
    "\r\n",
    "assert example1_solution == map_risk_levels(example1_input)"
   ],
   "outputs": [],
   "metadata": {}
  },
  {
   "cell_type": "code",
   "execution_count": 3,
   "source": [
    "def read_file(filename):\r\n",
    "    rows = []\r\n",
    "\r\n",
    "    with open(filename) as f:\r\n",
    "        for line in f.readlines():\r\n",
    "            str_row = list(line.strip())\r\n",
    "            rows.append([int(s) for s in str_row])\r\n",
    "\r\n",
    "    return rows\r\n",
    "\r\n",
    "problem1_input = read_file(\"./inputs/Day9.txt\")\r\n",
    "\r\n",
    "assert len(problem1_input) == 100\r\n"
   ],
   "outputs": [],
   "metadata": {}
  },
  {
   "cell_type": "code",
   "execution_count": 4,
   "source": [
    "# Problem 1 solution\r\n",
    "map_risk_levels(problem1_input)"
   ],
   "outputs": [
    {
     "output_type": "execute_result",
     "data": {
      "text/plain": [
       "575"
      ]
     },
     "metadata": {},
     "execution_count": 4
    }
   ],
   "metadata": {}
  },
  {
   "cell_type": "markdown",
   "source": [
    "## --- Part Two ---\r\n",
    "\r\n",
    "Next, you need to find the largest basins so you know what areas are most important to avoid.\r\n",
    "\r\n",
    "A basin is all locations that eventually flow downward to a single low point. Therefore, every low point has a basin, although some basins are very small. Locations of height 9 do not count as being in any basin, and all other locations will always be part of exactly one basin.\r\n",
    "\r\n",
    "The size of a basin is the number of locations within the basin, including the low point. The example above has four basins.\r\n",
    "\r\n",
    "The top-left basin, size 3:\r\n",
    "```\r\n",
    "2199943210\r\n",
    "3987894921\r\n",
    "9856789892\r\n",
    "8767896789\r\n",
    "9899965678\r\n",
    "```\r\n",
    "The top-right basin, size 9:\r\n",
    "```\r\n",
    "2199943210\r\n",
    "3987894921\r\n",
    "9856789892\r\n",
    "8767896789\r\n",
    "9899965678\r\n",
    "```\r\n",
    "The middle basin, size 14:\r\n",
    "```\r\n",
    "2199943210\r\n",
    "3987894921\r\n",
    "9856789892\r\n",
    "8767896789\r\n",
    "9899965678\r\n",
    "```\r\n",
    "The bottom-right basin, size 9:\r\n",
    "```\r\n",
    "2199943210\r\n",
    "3987894921\r\n",
    "9856789892\r\n",
    "8767896789\r\n",
    "9899965678\r\n",
    "```\r\n",
    "Find the three largest basins and multiply their sizes together. In the above example, this is 9 * 14 * 9 = 1134.\r\n",
    "\r\n",
    "What do you get if you multiply together the sizes of the three largest basins?\r\n"
   ],
   "metadata": {}
  },
  {
   "cell_type": "code",
   "execution_count": 5,
   "source": [
    "def map_basins(heightmap, low_points):\r\n",
    "    # Map of each low point to a set of all points in the low point's basin\r\n",
    "    basins = {}\r\n",
    "\r\n",
    "    def _add_point_to_basin(point, low_point):\r\n",
    "        # If point (r, c) is a 9 or out of bounds, can't add any more\r\n",
    "        r, c = point\r\n",
    "        if r < 0 or r >= len(heightmap) or c < 0 or c >= len(heightmap[r]) or heightmap[r][c] == 9:\r\n",
    "            return\r\n",
    "        \r\n",
    "        # Add the point to low_point's basin if it has not already been added\r\n",
    "        if low_point not in basins:\r\n",
    "            # Create the set if it's not there\r\n",
    "            basins[low_point] = set()\r\n",
    "        elif point in basins[low_point]:\r\n",
    "            # This point was already added so we're done\r\n",
    "            return\r\n",
    "\r\n",
    "        # Add this point to the set\r\n",
    "        # print(f\"add lp {low_point} update \", r, c)\r\n",
    "        basins[low_point].update([(r, c)])\r\n",
    "\r\n",
    "        # Then try to add adjacent points to the left/right/up/down recursively\r\n",
    "        _add_point_to_basin((r, c-1), low_point)\r\n",
    "        _add_point_to_basin((r, c+1), low_point)\r\n",
    "        _add_point_to_basin((r-1, c), low_point)\r\n",
    "        _add_point_to_basin((r+1, c), low_point)\r\n",
    "\r\n",
    "        return\r\n",
    "\r\n",
    "    for low_point in low_points:\r\n",
    "        _add_point_to_basin(low_point, low_point)\r\n",
    "\r\n",
    "    return basins\r\n",
    "\r\n",
    "def find_basin_sizes(heightmap):\r\n",
    "    low_points = find_low_points(heightmap)\r\n",
    "    basins = map_basins(heightmap, low_points)\r\n",
    "\r\n",
    "    return sorted([len(s) for s in basins.values()])"
   ],
   "outputs": [],
   "metadata": {}
  },
  {
   "cell_type": "code",
   "execution_count": 6,
   "source": [
    "example2_solution = 1134\r\n",
    "ex2_basins = find_basin_sizes(example1_input)\r\n",
    "\r\n",
    "assert example2_solution == ex2_basins[-1] * ex2_basins[-2] * ex2_basins[-3]"
   ],
   "outputs": [],
   "metadata": {}
  },
  {
   "cell_type": "code",
   "execution_count": 7,
   "source": [
    "# Part 2 - same input\r\n",
    "basins = find_basin_sizes(problem1_input)\r\n",
    "basins[-1] * basins[-2] * basins[-3] "
   ],
   "outputs": [
    {
     "output_type": "execute_result",
     "data": {
      "text/plain": [
       "1019700"
      ]
     },
     "metadata": {},
     "execution_count": 7
    }
   ],
   "metadata": {}
  }
 ],
 "metadata": {
  "orig_nbformat": 4,
  "language_info": {
   "name": "python",
   "version": "3.7.6",
   "mimetype": "text/x-python",
   "codemirror_mode": {
    "name": "ipython",
    "version": 3
   },
   "pygments_lexer": "ipython3",
   "nbconvert_exporter": "python",
   "file_extension": ".py"
  },
  "kernelspec": {
   "name": "python3",
   "display_name": "Python 3.7.6 64-bit ('py3r': conda)"
  },
  "interpreter": {
   "hash": "a4d16f272948a56a74322b7d603a05d4f37e6ac5a8ca06c2aaf0ba1c89b36634"
  }
 },
 "nbformat": 4,
 "nbformat_minor": 2
}