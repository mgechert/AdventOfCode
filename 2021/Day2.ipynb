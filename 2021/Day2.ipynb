{
 "cells": [
  {
   "cell_type": "markdown",
   "source": [
    "## --- [Day 2: Dive!](https://adventofcode.com/2021/day/2) ---\r\n",
    "\r\n",
    "Now, you need to figure out how to pilot this thing.\r\n",
    "\r\n",
    "It seems like the submarine can take a series of commands like forward 1, down 2, or up 3:\r\n",
    "\r\n",
    "- forward X increases the horizontal position by X units.\r\n",
    "- down X increases the depth by X units.\r\n",
    "- up X decreases the depth by X units.\r\n",
    "\r\n",
    "Note that since you're on a submarine, down and up affect your depth, and so they have the opposite result of what you might expect.\r\n",
    "\r\n",
    "The submarine seems to already have a planned course (your puzzle input). You should probably figure out where it's going. For example:\r\n",
    "````\r\n",
    "forward 5\r\n",
    "down 5\r\n",
    "forward 8\r\n",
    "up 3\r\n",
    "down 8\r\n",
    "forward 2\r\n",
    "````\r\n",
    "Your horizontal position and depth both start at 0. The steps above would then modify them as follows:\r\n",
    "\r\n",
    "- forward 5 adds 5 to your horizontal position, a total of 5.\r\n",
    "- down 5 adds 5 to your depth, resulting in a value of 5.\r\n",
    "- forward 8 adds 8 to your horizontal position, a total of 13.\r\n",
    "- up 3 decreases your depth by 3, resulting in a value of 2.\r\n",
    "- down 8 adds 8 to your depth, resulting in a value of 10.\r\n",
    "- forward 2 adds 2 to your horizontal position, a total of 15.\r\n",
    "\r\n",
    "After following these instructions, you would have a horizontal position of 15 and a depth of 10. (Multiplying these together produces 150.)\r\n",
    "\r\n",
    "Calculate the horizontal position and depth you would have after following the planned course. What do you get if you multiply your final horizontal position by your final depth?"
   ],
   "metadata": {}
  },
  {
   "cell_type": "code",
   "execution_count": 51,
   "source": [
    "class Submarine:\r\n",
    "    def __init__(self):\r\n",
    "        self._depth = 0\r\n",
    "        self._position = 0\r\n",
    "        self._commands = 0\r\n",
    "\r\n",
    "    def translate(self, direction, units):\r\n",
    "        self._commands += 1\r\n",
    "\r\n",
    "        if direction.strip() == \"forward\":\r\n",
    "            self._position += int(units)\r\n",
    "        elif direction.strip() == \"down\":\r\n",
    "            self._depth += int(units)\r\n",
    "        elif direction.strip() == \"up\":\r\n",
    "            self._depth -= int(units)\r\n",
    "        else:\r\n",
    "            print(f\"Unknown command #{self._commands}: {direction}, {units}\")\r\n",
    "            raise ValueError\r\n",
    "\r\n",
    "    def translate_list(self, command_list):\r\n",
    "        for direction, units in command_list:\r\n",
    "            self.translate(direction, units)\r\n",
    "\r\n",
    "    def translate_file(self, filename):\r\n",
    "        command_list = []\r\n",
    "        with open(filename) as f:\r\n",
    "            for line in f.readlines():\r\n",
    "                command_list.append(tuple(line.split()))\r\n",
    "\r\n",
    "        self.translate_list(command_list)\r\n",
    "\r\n",
    "    def get_pos_depth_product(self):\r\n",
    "        return self._position * self._depth\r\n",
    "\r\n",
    "        "
   ],
   "outputs": [],
   "metadata": {}
  },
  {
   "cell_type": "code",
   "execution_count": 52,
   "source": [
    "example1_input = [\r\n",
    "    (\"forward\", 5),\r\n",
    "    (\"down\", 5),\r\n",
    "    (\"forward\", 8),\r\n",
    "    (\"up\", 3),\r\n",
    "    (\"down\", 8),\r\n",
    "    (\"forward\", 2),\r\n",
    "]\r\n",
    "example1_result = 150\r\n",
    "\r\n",
    "example_sub = Submarine()\r\n",
    "example_sub.translate_list(example1_input)\r\n",
    "assert example1_result is example_sub.get_pos_depth_product()"
   ],
   "outputs": [],
   "metadata": {}
  },
  {
   "cell_type": "code",
   "execution_count": 53,
   "source": [
    "submarine = Submarine()\r\n",
    "submarine.translate_file(\"./inputs/Day2a.txt\")\r\n",
    "print(f\"Processed {submarine._commands} commands, result is {submarine.get_pos_depth_product()}\")"
   ],
   "outputs": [
    {
     "output_type": "stream",
     "name": "stdout",
     "text": [
      "Processed 1000 commands, result is 1692075\n"
     ]
    }
   ],
   "metadata": {}
  },
  {
   "cell_type": "markdown",
   "source": [
    "### Part 2\r\n",
    "\r\n",
    "Based on your calculations, the planned course doesn't seem to make any sense. You find the submarine manual and discover that the process is actually slightly more complicated.\r\n",
    "\r\n",
    "In addition to horizontal position and depth, you'll also need to track a third value, aim, which also starts at 0. The commands also mean something entirely different than you first thought:\r\n",
    "\r\n",
    "- down X increases your aim by X units.\r\n",
    "- up X decreases your aim by X units.\r\n",
    "- forward X does two things:\r\n",
    "    - It increases your horizontal position by X units.\r\n",
    "    - It increases your depth by your aim multiplied by X.\r\n",
    "\r\n",
    "Again note that since you're on a submarine, down and up do the opposite of what you might expect: \"down\" means aiming in the positive direction.\r\n",
    "\r\n",
    "Now, the above example does something different:\r\n",
    "\r\n",
    "-    forward 5 adds 5 to your horizontal position, a total of 5. Because your aim is 0, your depth does not change.\r\n",
    "-    down 5 adds 5 to your aim, resulting in a value of 5.\r\n",
    "-    forward 8 adds 8 to your horizontal position, a total of 13. Because your aim is 5, your depth increases by 8*5=40.\r\n",
    "-    up 3 decreases your aim by 3, resulting in a value of 2.\r\n",
    "-    down 8 adds 8 to your aim, resulting in a value of 10.\r\n",
    "-    forward 2 adds 2 to your horizontal position, a total of 15. Because your aim is 10, your depth increases by 2*10=20 to a total of 60.\r\n",
    "\r\n",
    "After following these new instructions, you would have a horizontal position of `15` and a depth of `60`. (Multiplying these produces `900`.)\r\n",
    "\r\n",
    "Using this new interpretation of the commands, calculate the horizontal position and depth you would have after following the planned course. What do you get if you multiply your final horizontal position by your final depth?"
   ],
   "metadata": {}
  },
  {
   "cell_type": "code",
   "execution_count": 66,
   "source": [
    "class SubmarineV2(Submarine):\r\n",
    "    def __init__(self):\r\n",
    "        Submarine.__init__(self)\r\n",
    "        self._aim = 0\r\n",
    "\r\n",
    "    def translate(self, direction, units):\r\n",
    "        self._commands += 1\r\n",
    "\r\n",
    "        if direction.strip() == \"forward\":\r\n",
    "            self._position += int(units)\r\n",
    "            self._depth += self._aim * int(units)\r\n",
    "        elif direction.strip() == \"down\":\r\n",
    "            self._aim += int(units)\r\n",
    "        elif direction.strip() == \"up\":\r\n",
    "            self._aim -= int(units)\r\n",
    "        else:\r\n",
    "            print(f\"Unknown command #{self._commands}: {direction}, {units}\")\r\n",
    "            raise ValueError\r\n"
   ],
   "outputs": [],
   "metadata": {}
  },
  {
   "cell_type": "code",
   "execution_count": 71,
   "source": [
    "example_sub2 = SubmarineV2()\r\n",
    "example2_input = example1_input\r\n",
    "example2_result = 900\r\n",
    "\r\n",
    "example_sub2.translate_list(example2_input)\r\n",
    "assert example2_result == example_sub2.get_pos_depth_product()"
   ],
   "outputs": [],
   "metadata": {}
  },
  {
   "cell_type": "code",
   "execution_count": 72,
   "source": [
    "submarine2 = SubmarineV2()\r\n",
    "submarine2.translate_file(\"./inputs/Day2a.txt\")\r\n",
    "print(f\"Processed {submarine2._commands} commands, result is {submarine2.get_pos_depth_product()}\")"
   ],
   "outputs": [
    {
     "output_type": "stream",
     "name": "stdout",
     "text": [
      "Processed 1000 commands, result is 1749524700\n"
     ]
    }
   ],
   "metadata": {}
  }
 ],
 "metadata": {
  "orig_nbformat": 4,
  "language_info": {
   "name": "python",
   "version": "3.7.6",
   "mimetype": "text/x-python",
   "codemirror_mode": {
    "name": "ipython",
    "version": 3
   },
   "pygments_lexer": "ipython3",
   "nbconvert_exporter": "python",
   "file_extension": ".py"
  },
  "kernelspec": {
   "name": "python3",
   "display_name": "Python 3.7.6 64-bit ('py3r': conda)"
  },
  "interpreter": {
   "hash": "a4d16f272948a56a74322b7d603a05d4f37e6ac5a8ca06c2aaf0ba1c89b36634"
  }
 },
 "nbformat": 4,
 "nbformat_minor": 2
}