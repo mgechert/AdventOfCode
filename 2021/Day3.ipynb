{
 "cells": [
  {
   "cell_type": "markdown",
   "source": [
    "## --- [Day 3: Binary Diagnostic](https://adventofcode.com/2021/day/3) ---\r\n",
    "\r\n",
    "The submarine has been making some odd creaking noises, so you ask it to produce a diagnostic report just in case.\r\n",
    "\r\n",
    "The diagnostic report (your puzzle input) consists of a list of binary numbers which, when decoded properly, can tell you many useful things about the conditions of the submarine. The first parameter to check is the power consumption.\r\n",
    "\r\n",
    "You need to use the binary numbers in the diagnostic report to generate two new binary numbers (called the gamma rate and the epsilon rate). The power consumption can then be found by multiplying the gamma rate by the epsilon rate.\r\n",
    "\r\n",
    "Each bit in the gamma rate can be determined by finding the most common bit in the corresponding position of all numbers in the diagnostic report. For example, given the following diagnostic report:\r\n",
    "```\r\n",
    "00100\r\n",
    "11110\r\n",
    "10110\r\n",
    "10111\r\n",
    "10101\r\n",
    "01111\r\n",
    "00111\r\n",
    "11100\r\n",
    "10000\r\n",
    "11001\r\n",
    "00010\r\n",
    "01010\r\n",
    "```\r\n",
    "Considering only the first bit of each number, there are five 0 bits and seven 1 bits. Since the most common bit is 1, the first bit of the gamma rate is 1.\r\n",
    "\r\n",
    "The most common second bit of the numbers in the diagnostic report is 0, so the second bit of the gamma rate is 0.\r\n",
    "\r\n",
    "The most common value of the third, fourth, and fifth bits are 1, 1, and 0, respectively, and so the final three bits of the gamma rate are 110.\r\n",
    "\r\n",
    "So, the gamma rate is the binary number 10110, or 22 in decimal.\r\n",
    "\r\n",
    "The epsilon rate is calculated in a similar way; rather than use the most common bit, the least common bit from each position is used. So, the epsilon rate is 01001, or 9 in decimal. Multiplying the gamma rate (22) by the epsilon rate (9) produces the power consumption, 198.\r\n",
    "\r\n",
    "Use the binary numbers in your diagnostic report to calculate the gamma rate and epsilon rate, then multiply them together. What is the power consumption of the submarine? (Be sure to represent your answer in decimal, not binary.)\r\n"
   ],
   "metadata": {}
  },
  {
   "cell_type": "code",
   "execution_count": 1,
   "source": [
    "def count_most_common_bits(values_list):\r\n",
    "    # Count the bits at each position\r\n",
    "    # The ith index of pos_counts contains the count of the 2**i bit\r\n",
    "    pos_counts = [0 for _ in range(len(values_list[0]))]\r\n",
    "\r\n",
    "    for value in values_list:\r\n",
    "        num_value = int(value, 2)\r\n",
    "        for i in range(len(value)):\r\n",
    "            pos_counts[i] += (num_value >> i) & 1\r\n",
    "    \r\n",
    "    # Reverse the counts list so it starts with count of the highest order bits\r\n",
    "    pos_counts.reverse()\r\n",
    "\r\n",
    "    return pos_counts\r\n",
    "\r\n",
    "def get_gamma_epsilon_from_list(values_list):\r\n",
    "    # Assume all values are of same length as the first one\r\n",
    "    bit_length = len(values_list[0])\r\n",
    "\r\n",
    "    pos_counts = count_most_common_bits(values_list)\r\n",
    "    gamma_rate = 0\r\n",
    "\r\n",
    "    for i in range(len(pos_counts)):\r\n",
    "        if pos_counts[i] > len(values_list) / 2.0:\r\n",
    "            gamma_rate += 1\r\n",
    "        gamma_rate = gamma_rate << 1\r\n",
    "\r\n",
    "    gamma_rate = gamma_rate >> 1\r\n",
    "\r\n",
    "    epsilon = gamma_rate ^ (2**bit_length - 1)\r\n",
    "\r\n",
    "    return (gamma_rate, epsilon)\r\n"
   ],
   "outputs": [],
   "metadata": {}
  },
  {
   "cell_type": "code",
   "execution_count": 2,
   "source": [
    "example1_input = [\r\n",
    "    '00100',\r\n",
    "    '11110',\r\n",
    "    '10110',\r\n",
    "    '10111',\r\n",
    "    '10101',\r\n",
    "    '01111',\r\n",
    "    '00111',\r\n",
    "    '11100',\r\n",
    "    '10000',\r\n",
    "    '11001',\r\n",
    "    '00010',\r\n",
    "    '01010',\r\n",
    "]\r\n",
    "example1_solution = 198\r\n",
    "\r\n",
    "gamma, epsilon = get_gamma_epsilon_from_list(example1_input)\r\n",
    "assert example1_solution == gamma * epsilon"
   ],
   "outputs": [],
   "metadata": {}
  },
  {
   "cell_type": "code",
   "execution_count": 3,
   "source": [
    "# Read the file input and test some assumptions\r\n",
    "with open(\"./inputs/Day3.txt\") as f:\r\n",
    "    part1_input = [line.rstrip() for line in f.readlines()]\r\n",
    "\r\n",
    "# all lines from the file are read\r\n",
    "assert 1000 == len(part1_input)\r\n",
    "\r\n",
    "# the length of all inputs is the same\r\n",
    "input_lengths = [len(value) for value in part1_input]\r\n",
    "assert max(input_lengths) == min(input_lengths)"
   ],
   "outputs": [],
   "metadata": {}
  },
  {
   "cell_type": "code",
   "execution_count": 4,
   "source": [
    "# Part 1 solution\r\n",
    "gamma, epsilon = get_gamma_epsilon_from_list(part1_input)\r\n",
    "gamma * epsilon"
   ],
   "outputs": [
    {
     "output_type": "execute_result",
     "data": {
      "text/plain": [
       "2583164"
      ]
     },
     "metadata": {},
     "execution_count": 4
    }
   ],
   "metadata": {}
  },
  {
   "cell_type": "markdown",
   "source": [
    "--- Part Two ---\r\n",
    "\r\n",
    "Next, you should verify the life support rating, which can be determined by multiplying the oxygen generator rating by the CO2 scrubber rating.\r\n",
    "\r\n",
    "Both the oxygen generator rating and the CO2 scrubber rating are values that can be found in your diagnostic report - finding them is the tricky part. Both values are located using a similar process that involves filtering out values until only one remains. Before searching for either rating value, start with the full list of binary numbers from your diagnostic report and consider just the first bit of those numbers. Then:\r\n",
    "\r\n",
    "    Keep only numbers selected by the bit criteria for the type of rating value for which you are searching. Discard numbers which do not match the bit criteria.\r\n",
    "    If you only have one number left, stop; this is the rating value for which you are searching.\r\n",
    "    Otherwise, repeat the process, considering the next bit to the right.\r\n",
    "\r\n",
    "The bit criteria depends on which type of rating value you want to find:\r\n",
    "\r\n",
    "    To find oxygen generator rating, determine the most common value (0 or 1) in the current bit position, and keep only numbers with that bit in that position. If 0 and 1 are equally common, keep values with a 1 in the position being considered.\r\n",
    "    To find CO2 scrubber rating, determine the least common value (0 or 1) in the current bit position, and keep only numbers with that bit in that position. If 0 and 1 are equally common, keep values with a 0 in the position being considered.\r\n",
    "\r\n",
    "For example, to determine the oxygen generator rating value using the same example diagnostic report from above:\r\n",
    "\r\n",
    "    Start with all 12 numbers and consider only the first bit of each number. There are more 1 bits (7) than 0 bits (5), so keep only the 7 numbers with a 1 in the first position: 11110, 10110, 10111, 10101, 11100, 10000, and 11001.\r\n",
    "    Then, consider the second bit of the 7 remaining numbers: there are more 0 bits (4) than 1 bits (3), so keep only the 4 numbers with a 0 in the second position: 10110, 10111, 10101, and 10000.\r\n",
    "    In the third position, three of the four numbers have a 1, so keep those three: 10110, 10111, and 10101.\r\n",
    "    In the fourth position, two of the three numbers have a 1, so keep those two: 10110 and 10111.\r\n",
    "    In the fifth position, there are an equal number of 0 bits and 1 bits (one each). So, to find the oxygen generator rating, keep the number with a 1 in that position: 10111.\r\n",
    "    As there is only one number left, stop; the oxygen generator rating is 10111, or 23 in decimal.\r\n",
    "\r\n",
    "Then, to determine the CO2 scrubber rating value from the same example above:\r\n",
    "\r\n",
    "    Start again with all 12 numbers and consider only the first bit of each number. There are fewer 0 bits (5) than 1 bits (7), so keep only the 5 numbers with a 0 in the first position: 00100, 01111, 00111, 00010, and 01010.\r\n",
    "    Then, consider the second bit of the 5 remaining numbers: there are fewer 1 bits (2) than 0 bits (3), so keep only the 2 numbers with a 1 in the second position: 01111 and 01010.\r\n",
    "    In the third position, there are an equal number of 0 bits and 1 bits (one each). So, to find the CO2 scrubber rating, keep the number with a 0 in that position: 01010.\r\n",
    "    As there is only one number left, stop; the CO2 scrubber rating is 01010, or 10 in decimal.\r\n",
    "\r\n",
    "Finally, to find the life support rating, multiply the oxygen generator rating (23) by the CO2 scrubber rating (10) to get 230.\r\n",
    "\r\n",
    "Use the binary numbers in your diagnostic report to calculate the oxygen generator rating and CO2 scrubber rating, then multiply them together. What is the life support rating of the submarine? (Be sure to represent your answer in decimal, not binary.)\r\n"
   ],
   "metadata": {}
  },
  {
   "cell_type": "code",
   "execution_count": 5,
   "source": [
    "def get_oxygen_rating(input_list):\r\n",
    "    i = 0\r\n",
    "\r\n",
    "    while len(input_list) > 1 and i < len(input_list[0]):\r\n",
    "        count_at_i = sum([int(value[i]) for value in input_list])\r\n",
    "        if count_at_i / len(input_list) >= 0.5:\r\n",
    "            i_value = '1'\r\n",
    "        else:\r\n",
    "            i_value = '0'\r\n",
    "        \r\n",
    "        input_list = list(filter(lambda val: val[i] == i_value, input_list))\r\n",
    "        i += 1\r\n",
    "\r\n",
    "    assert len(input_list) == 1\r\n",
    "\r\n",
    "    return int(input_list[0], 2)"
   ],
   "outputs": [],
   "metadata": {}
  },
  {
   "cell_type": "code",
   "execution_count": 6,
   "source": [
    "def get_dioxide_rating(input_list):\r\n",
    "    i = 0\r\n",
    "\r\n",
    "    while len(input_list) > 1 and i < len(input_list[0]):\r\n",
    "        count_at_i = sum([int(value[i]) for value in input_list])\r\n",
    "        if count_at_i / len(input_list) >= 0.5:\r\n",
    "            i_value = '0'\r\n",
    "        else:\r\n",
    "            i_value = '1'\r\n",
    "        \r\n",
    "        input_list = list(filter(lambda val: val[i] == i_value, input_list))\r\n",
    "        i += 1\r\n",
    "\r\n",
    "    assert len(input_list) == 1\r\n",
    "\r\n",
    "    return int(input_list[0], 2)\r\n"
   ],
   "outputs": [],
   "metadata": {}
  },
  {
   "cell_type": "code",
   "execution_count": 7,
   "source": [
    "# (same input as example 1)\r\n",
    "example2_solution = 230\r\n",
    "oxygen_rating_test = get_oxygen_rating(example1_input)\r\n",
    "dioxide_rating_test = get_dioxide_rating(example1_input)\r\n",
    "\r\n",
    "assert example2_solution == (oxygen_rating_test * dioxide_rating_test)"
   ],
   "outputs": [],
   "metadata": {}
  },
  {
   "cell_type": "code",
   "execution_count": 8,
   "source": [
    "# part 2 input same as part 1\r\n",
    "oxygen_rating = get_oxygen_rating(part1_input)\r\n",
    "dioxide_rating = get_dioxide_rating(part1_input)\r\n",
    "\r\n",
    "part2_solution = oxygen_rating * dioxide_rating\r\n",
    "\r\n",
    "print(part2_solution)"
   ],
   "outputs": [
    {
     "output_type": "stream",
     "name": "stdout",
     "text": [
      "2784375\n"
     ]
    }
   ],
   "metadata": {}
  }
 ],
 "metadata": {
  "orig_nbformat": 4,
  "language_info": {
   "name": "python",
   "version": "3.7.6",
   "mimetype": "text/x-python",
   "codemirror_mode": {
    "name": "ipython",
    "version": 3
   },
   "pygments_lexer": "ipython3",
   "nbconvert_exporter": "python",
   "file_extension": ".py"
  },
  "kernelspec": {
   "name": "python3",
   "display_name": "Python 3.7.6 64-bit ('py3r': conda)"
  },
  "interpreter": {
   "hash": "a4d16f272948a56a74322b7d603a05d4f37e6ac5a8ca06c2aaf0ba1c89b36634"
  }
 },
 "nbformat": 4,
 "nbformat_minor": 2
}