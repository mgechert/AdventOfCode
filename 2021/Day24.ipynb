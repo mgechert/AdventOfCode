{
 "cells": [
  {
   "cell_type": "markdown",
   "source": [
    "## --- Day 24: Arithmetic Logic Unit ---\r\n",
    "\r\n",
    "The ALU is a four-dimensional processing unit: it has integer variables w, x, y, and z. These variables all start with the value 0. The ALU also supports six instructions:\r\n",
    "\r\n",
    "- `inp a` - Read an input value and write it to variable a.\r\n",
    "- `add a b` - Add the value of a to the value of b, then store the result in variable a.\r\n",
    "- `mul a b` - Multiply the value of a by the value of b, then store the result in variable a.\r\n",
    "- `div a b` - Divide the value of a by the value of b, truncate the result to an integer, then store the result in variable a. (Here, \"truncate\" means to round the value toward zero.)\r\n",
    "- `mod a b` - Divide the value of a by the value of b, then store the remainder in variable a. (This is also called the modulo operation.)\r\n",
    "- `eql a b` - If the value of a and b are equal, then store the value 1 in variable a. Otherwise, store the value 0 in variable a.\r\n",
    "\r\n",
    "\r\n",
    "__To enable as many submarine features as possible, find the largest valid fourteen-digit model number that contains no 0 digits. What is the largest model number accepted by MONAD?__\r\n"
   ],
   "metadata": {}
  },
  {
   "cell_type": "code",
   "execution_count": 323,
   "source": [
    "class LogicUnit:\r\n",
    "    def __init__(self, instructions, input):\r\n",
    "        self.instructions = instructions\r\n",
    "        self.reg = {var: 0 for var in [\"w\", \"x\", \"y\", \"z\"]}\r\n",
    "        self.input = input if type(input) == list else list(str(input))\r\n",
    "        self.log = []\r\n",
    "\r\n",
    "    @classmethod\r\n",
    "    def from_list(self, instruction_list, input):\r\n",
    "        instructions = [tuple(inst.split()) for inst in instruction_list]\r\n",
    "\r\n",
    "        return LogicUnit(instructions, input)\r\n",
    "\r\n",
    "    @classmethod\r\n",
    "    def from_file(self, filename, input):\r\n",
    "        with open(filename) as f:\r\n",
    "            lines = [line.strip() for line in f.readlines()]\r\n",
    "\r\n",
    "        return LogicUnit.from_list(lines, input)\r\n",
    "\r\n",
    "    def _read_input(self):\r\n",
    "        return int(self.input.pop(0))\r\n",
    "\r\n",
    "    def _exec(self, instruction, reg=None, inputs=None):\r\n",
    "        \"\"\"Execute a single given instruction\"\"\"\r\n",
    "        \r\n",
    "        # Use object's register values and input queue if none were provided\r\n",
    "        if reg is None:\r\n",
    "            reg = self.reg\r\n",
    "\r\n",
    "        if inputs is None:\r\n",
    "            inputs = self.input\r\n",
    "\r\n",
    "        # Each instruction has 2 or 3 components, per above\r\n",
    "        if len(instruction) == 3:\r\n",
    "            action, var, op = instruction\r\n",
    "            # The operand can be either a variable or a literal\r\n",
    "            op_value = int(reg.get(op, op))\r\n",
    "        else:\r\n",
    "            action, var = instruction\r\n",
    "\r\n",
    "        if action == \"inp\":\r\n",
    "            reg[var] = int(inputs.pop(0))\r\n",
    "        elif action == \"add\":\r\n",
    "            reg[var] += op_value\r\n",
    "        elif action == \"mul\":\r\n",
    "            reg[var] *= op_value\r\n",
    "        elif action == \"div\":\r\n",
    "            reg[var] //= op_value\r\n",
    "        elif action == \"mod\":\r\n",
    "            reg[var] %= op_value\r\n",
    "        elif action == \"eql\":\r\n",
    "            reg[var] = 1 if reg[var] == op_value else 0\r\n",
    "        else:\r\n",
    "            raise ValueError(\"Illegal argument, halting!\")\r\n",
    "\r\n",
    "    def execute(self, verbose=False):\r\n",
    "        \"\"\"Exec all instructions (and keep a log)\"\"\"\r\n",
    "        if verbose:\r\n",
    "            print(\"*\"*5, \"EXECUTE\", \"*\"*50)\r\n",
    "        \r\n",
    "        try:\r\n",
    "            for step_no in range(len(self.instructions)):\r\n",
    "                instruction = self.instructions[step_no]\r\n",
    "                result = self._exec(instruction)\r\n",
    "                # self.reg.update(result)\r\n",
    "                self.log.append(f\"[{step_no}]\\t\" +\r\n",
    "                \"\\t\".join([f\"{k}={v}\" for k, v in self.reg.items()]) +\r\n",
    "                \"\\t\" + \"input:\" + \",\".join(self.input) +\r\n",
    "                \"\\t\" + str(instruction)\r\n",
    "                )\r\n",
    "        except IndexError:\r\n",
    "            self.log.append(\"*****HALTED: input queue empty\"+ \"*\"*50)\r\n",
    "\r\n",
    "        if verbose:\r\n",
    "            for line in self.log[-18:]:\r\n",
    "                print(line)\r\n",
    "            \r\n",
    "        return self\r\n",
    "\r\n",
    "    def execute_from(self, start_line, reg, input_digit):\r\n",
    "        \"\"\"\r\n",
    "        Using supplied values for registers and a single digit input,\r\n",
    "        run instructions from start_line until an inp instruction is read\r\n",
    "        \"\"\"\r\n",
    "        if start_line < 0 or start_line >= len(self.instructions):\r\n",
    "            return reg\r\n",
    "\r\n",
    "        line = start_line\r\n",
    "        in_block = (self.instructions[line][0] == \"inp\")\r\n",
    "\r\n",
    "        while in_block:\r\n",
    "            instruction = self.instructions[line]\r\n",
    "            self._exec(instruction, reg, inputs=[input_digit])         \r\n",
    "            line += 1\r\n",
    "\r\n",
    "            # Stop at the end of the instruction list or when \r\n",
    "            in_block = (line < len(self.instructions) and self.instructions[line][0] != \"inp\")\r\n",
    "\r\n",
    "        return reg\r\n",
    "\r\n",
    "    def registers(self):\r\n",
    "        \"\"\"Convenience method to unpack all registers in order\"\"\"\r\n",
    "        return self.reg[\"w\"], self.reg[\"x\"], self.reg[\"y\"], self.reg[\"z\"]\r\n",
    "\r\n"
   ],
   "outputs": [],
   "metadata": {}
  },
  {
   "cell_type": "code",
   "execution_count": 334,
   "source": [
    "alu.input = list(str(59692994994998))\r\n",
    "alu.execute().reg[\"z\"]\r\n"
   ],
   "outputs": [
    {
     "output_type": "execute_result",
     "data": {
      "text/plain": [
       "0"
      ]
     },
     "metadata": {},
     "execution_count": 334
    }
   ],
   "metadata": {}
  },
  {
   "cell_type": "code",
   "execution_count": 300,
   "source": [
    "# For example, here is an ALU program which takes an input number, negates it, and stores it in x:\r\n",
    "program = \"\"\"\r\n",
    "inp x\r\n",
    "mul x -1\r\n",
    "\"\"\".strip().split(\"\\n\")\r\n",
    "\r\n",
    "assert -5 == LogicUnit.from_list(program, input=\"5\").execute().reg[\"x\"]"
   ],
   "outputs": [],
   "metadata": {}
  },
  {
   "cell_type": "code",
   "execution_count": 280,
   "source": [
    "# Here is an ALU program which takes two input numbers, then sets z to 1 if the second input number is\r\n",
    "# three times larger than the first input number, or sets z to 0 otherwise:\r\n",
    "program = \"\"\"\r\n",
    "inp z\r\n",
    "inp x\r\n",
    "mul z 3\r\n",
    "eql z x\r\n",
    "\"\"\".strip().split(\"\\n\")\r\n",
    "\r\n",
    "assert 1 == LogicUnit.from_list(program, input=39).execute().reg[\"z\"]\r\n",
    "assert 0 == LogicUnit.from_list(program, input=28).execute().reg[\"z\"]\r\n"
   ],
   "outputs": [],
   "metadata": {}
  },
  {
   "cell_type": "code",
   "execution_count": 281,
   "source": [
    "# Here is an ALU program which takes a non-negative integer as input, converts it into binary,\r\n",
    "# and stores the lowest (1's) bit in z, the second-lowest (2's) bit in y, the third-lowest (4's)\r\n",
    "# bit in x, and the fourth-lowest (8's) bit in w:\r\n",
    "program = \"\"\"\r\n",
    "inp w\r\n",
    "add z w\r\n",
    "mod z 2\r\n",
    "div w 2\r\n",
    "add y w\r\n",
    "mod y 2\r\n",
    "div w 2\r\n",
    "add x w\r\n",
    "mod x 2\r\n",
    "div w 2\r\n",
    "mod w 2\r\n",
    "\"\"\".strip().split(\"\\n\")\r\n",
    "\r\n",
    "assert (1, 0, 1, 0) == LogicUnit.from_list(program, input=[10]).execute().registers()"
   ],
   "outputs": [],
   "metadata": {}
  },
  {
   "cell_type": "code",
   "execution_count": 298,
   "source": [
    "p1 = LogicUnit.from_file(\"./inputs/Day24.txt\", input=1)\r\n",
    "p1.execute(verbose=True)"
   ],
   "outputs": [
    {
     "output_type": "stream",
     "name": "stdout",
     "text": [
      "***** EXECUTE **************************************************\n",
      "[1]\tw=1\tx=0\ty=0\tz=0\tinput:\t('mul', 'x', '0')\n",
      "[2]\tw=1\tx=0\ty=0\tz=0\tinput:\t('add', 'x', 'z')\n",
      "[3]\tw=1\tx=0\ty=0\tz=0\tinput:\t('mod', 'x', '26')\n",
      "[4]\tw=1\tx=0\ty=0\tz=0\tinput:\t('div', 'z', '1')\n",
      "[5]\tw=1\tx=14\ty=0\tz=0\tinput:\t('add', 'x', '14')\n",
      "[6]\tw=1\tx=0\ty=0\tz=0\tinput:\t('eql', 'x', 'w')\n",
      "[7]\tw=1\tx=1\ty=0\tz=0\tinput:\t('eql', 'x', '0')\n",
      "[8]\tw=1\tx=1\ty=0\tz=0\tinput:\t('mul', 'y', '0')\n",
      "[9]\tw=1\tx=1\ty=25\tz=0\tinput:\t('add', 'y', '25')\n",
      "[10]\tw=1\tx=1\ty=25\tz=0\tinput:\t('mul', 'y', 'x')\n",
      "[11]\tw=1\tx=1\ty=26\tz=0\tinput:\t('add', 'y', '1')\n",
      "[12]\tw=1\tx=1\ty=26\tz=0\tinput:\t('mul', 'z', 'y')\n",
      "[13]\tw=1\tx=1\ty=0\tz=0\tinput:\t('mul', 'y', '0')\n",
      "[14]\tw=1\tx=1\ty=1\tz=0\tinput:\t('add', 'y', 'w')\n",
      "[15]\tw=1\tx=1\ty=13\tz=0\tinput:\t('add', 'y', '12')\n",
      "[16]\tw=1\tx=1\ty=13\tz=0\tinput:\t('mul', 'y', 'x')\n",
      "[17]\tw=1\tx=1\ty=13\tz=13\tinput:\t('add', 'z', 'y')\n",
      "*****HALTED: input queue empty**************************************************\n"
     ]
    },
    {
     "output_type": "execute_result",
     "data": {
      "text/plain": [
       "<__main__.LogicUnit at 0x2657cb3eec8>"
      ]
     },
     "metadata": {},
     "execution_count": 298
    }
   ],
   "metadata": {}
  },
  {
   "cell_type": "markdown",
   "source": [
    "### Program interpretation\r\n",
    "- 1 Sets z to `D1 + 12`                 (z after step 1 in range 13..21)\r\n",
    "- 2 multiply z * 26, add `D2 + 8`       (z after step 2 in range 347..563)\r\n",
    "- 3 z*26, add D3+7                      (z after step 3 in range 9030..14654)\r\n",
    "- 4 z*26, add D4+4                      (234785..381017)\r\n",
    "\r\n",
    "- 5 z //= 26, z*=0 if (z4%26)-11 == D5, else z*=26, add either D5+4 or 0\r\n",
    "- 6 z *= 26, += d6+1\r\n",
    "- 7 z //=26, if z6%26 - 1 == D7, z *= \r\n",
    "\r\n",
    "- 14 \r\n"
   ],
   "metadata": {}
  },
  {
   "cell_type": "code",
   "execution_count": 224,
   "source": [
    "def find_z(input):\r\n",
    "    d = [int(d) for d in str(input)]\r\n",
    "\r\n",
    "    # 1-4 just add\r\n",
    "    z = d[0] + 12\r\n",
    "    z = z*26 + d[1] + 8\r\n",
    "    z = z*26 + d[2] + 7\r\n",
    "    z = z*26 + d[3] + 4\r\n",
    "\r\n",
    "    # 5\r\n",
    "    x = 0 if z%26 - 11 == d[4] else 1\r\n",
    "    z = (z//26) * (25*x+1)\r\n",
    "    z += x*(d[4]+4)\r\n",
    "\r\n",
    "    return z\r\n",
    "\r\n",
    "z_vals = [find_z(i) for i in range(11111,100000)]\r\n",
    "\r\n",
    "print(min(z_vals), max(z_vals))\r\n"
   ],
   "outputs": [
    {
     "output_type": "stream",
     "name": "stdout",
     "text": [
      "9030 381017\n"
     ]
    }
   ],
   "metadata": {}
  },
  {
   "cell_type": "code",
   "execution_count": 327,
   "source": [
    "from itertools import product\r\n",
    "\r\n",
    "alu = LogicUnit.from_file(\"./inputs/Day24.txt\", input=None)\r\n",
    "blank_reg = {var: 0 for var in [\"w\", \"x\", \"y\", \"z\"]}\r\n",
    "start_line = 0\r\n",
    "\r\n",
    "# Initial possible values of z: only 0\r\n",
    "z_max = {0: 0}\r\n",
    "\r\n",
    "while start_line < len(alu.instructions):\r\n",
    "    next_z_max = {}\r\n",
    "    for input_digit, z_start in product(range(1,10), z_max.keys()):\r\n",
    "        reg = blank_reg.copy()\r\n",
    "        reg[\"z\"] = z_start\r\n",
    "        next_z = alu.execute_from(start_line, reg, input_digit)[\"z\"]\r\n",
    "\r\n",
    "        # Get the previous max and \"append\" the current digit\r\n",
    "        this_perm = z_max[z_start] * 10 + input_digit\r\n",
    "\r\n",
    "        if next_z not in next_z_max:\r\n",
    "            next_z_max[next_z] = this_perm\r\n",
    "        else:\r\n",
    "            next_z_max[next_z] = max(this_perm, next_z_max[next_z])\r\n",
    "        \r\n",
    "    z_max = next_z_max\r\n",
    "    start_line += 18\r\n",
    "    print(f\"Step {start_line//18}, processed z-vals: {len(z_max)}\")\r\n",
    "\r\n",
    "\r\n",
    "if 0 in z_max:\r\n",
    "    print(f\"Max for z=0 is {z_max[0]}\")\r\n",
    "else:\r\n",
    "    print(f\"No 0 in set :(\")"
   ],
   "outputs": [
    {
     "output_type": "stream",
     "name": "stdout",
     "text": [
      "Step 1, processed z-vals: 9\n",
      "Step 2, processed z-vals: 81\n",
      "Step 3, processed z-vals: 729\n",
      "Step 4, processed z-vals: 6561\n",
      "Step 5, processed z-vals: 7290\n",
      "Step 6, processed z-vals: 65610\n",
      "Step 7, processed z-vals: 70713\n",
      "Step 8, processed z-vals: 636417\n",
      "Step 9, processed z-vals: 656100\n",
      "Step 10, processed z-vals: 641844\n",
      "Step 11, processed z-vals: 678771\n",
      "Step 12, processed z-vals: 681264\n",
      "Step 13, processed z-vals: 6131376\n",
      "Step 14, processed z-vals: 6492690\n",
      "Max for z=0 is 59692994994998\n"
     ]
    }
   ],
   "metadata": {}
  },
  {
   "cell_type": "code",
   "execution_count": 329,
   "source": [
    "z_max[0] == 59692994994998"
   ],
   "outputs": [
    {
     "output_type": "execute_result",
     "data": {
      "text/plain": [
       "True"
      ]
     },
     "metadata": {},
     "execution_count": 329
    }
   ],
   "metadata": {}
  },
  {
   "cell_type": "markdown",
   "source": [
    "## Part 2\r\n",
    "\r\n",
    "What is the smallest model number accepted by MONAD?"
   ],
   "metadata": {}
  },
  {
   "cell_type": "code",
   "execution_count": 335,
   "source": [
    "alu = LogicUnit.from_file(\"./inputs/Day24.txt\", input=None)\r\n",
    "blank_reg = {var: 0 for var in [\"w\", \"x\", \"y\", \"z\"]}\r\n",
    "start_line = 0\r\n",
    "\r\n",
    "# Initial possible values of z: only 0\r\n",
    "z_min = {0: 0}\r\n",
    "\r\n",
    "while start_line < len(alu.instructions):\r\n",
    "    next_z_min = {}\r\n",
    "    for input_digit, z_start in product(range(1,10), z_min.keys()):\r\n",
    "        reg = blank_reg.copy()\r\n",
    "        reg[\"z\"] = z_start\r\n",
    "        next_z = alu.execute_from(start_line, reg, input_digit)[\"z\"]\r\n",
    "\r\n",
    "        # Get the previous min and \"append\" the current digit\r\n",
    "        this_perm = z_min[z_start] * 10 + input_digit\r\n",
    "\r\n",
    "        if next_z not in next_z_min:\r\n",
    "            next_z_min[next_z] = this_perm\r\n",
    "        else:\r\n",
    "            next_z_min[next_z] = min(this_perm, next_z_min[next_z])\r\n",
    "        \r\n",
    "    z_min = next_z_min\r\n",
    "    start_line += 18\r\n",
    "    print(f\"Step {start_line//18}, processed z-vals: {len(z_min)}\")\r\n",
    "\r\n",
    "\r\n",
    "if 0 in z_min:\r\n",
    "    print(f\"Min for z=0 is {z_min[0]}\")\r\n",
    "else:\r\n",
    "    print(f\"No 0 in set :(\")"
   ],
   "outputs": [
    {
     "output_type": "stream",
     "name": "stdout",
     "text": [
      "Step 1, processed z-vals: 9\n",
      "Step 2, processed z-vals: 81\n",
      "Step 3, processed z-vals: 729\n",
      "Step 4, processed z-vals: 6561\n",
      "Step 5, processed z-vals: 7290\n",
      "Step 6, processed z-vals: 65610\n",
      "Step 7, processed z-vals: 70713\n",
      "Step 8, processed z-vals: 636417\n",
      "Step 9, processed z-vals: 656100\n",
      "Step 10, processed z-vals: 641844\n",
      "Step 11, processed z-vals: 678771\n",
      "Step 12, processed z-vals: 681264\n",
      "Step 13, processed z-vals: 6131376\n",
      "Step 14, processed z-vals: 6492690\n",
      "Min for z=0 is 16181111641521\n"
     ]
    }
   ],
   "metadata": {}
  },
  {
   "cell_type": "code",
   "execution_count": 336,
   "source": [
    "z_min[0] == 16181111641521"
   ],
   "outputs": [
    {
     "output_type": "execute_result",
     "data": {
      "text/plain": [
       "True"
      ]
     },
     "metadata": {},
     "execution_count": 336
    }
   ],
   "metadata": {}
  }
 ],
 "metadata": {
  "orig_nbformat": 4,
  "language_info": {
   "name": "python",
   "version": "3.7.6",
   "mimetype": "text/x-python",
   "codemirror_mode": {
    "name": "ipython",
    "version": 3
   },
   "pygments_lexer": "ipython3",
   "nbconvert_exporter": "python",
   "file_extension": ".py"
  },
  "kernelspec": {
   "name": "python3",
   "display_name": "Python 3.7.6 64-bit ('py3r': conda)"
  },
  "interpreter": {
   "hash": "a4d16f272948a56a74322b7d603a05d4f37e6ac5a8ca06c2aaf0ba1c89b36634"
  }
 },
 "nbformat": 4,
 "nbformat_minor": 2
}