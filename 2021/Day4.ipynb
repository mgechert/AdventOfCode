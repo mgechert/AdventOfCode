{
 "cells": [
  {
   "cell_type": "markdown",
   "metadata": {},
   "source": [
    "## --- Day 4: Giant Squid ---\n",
    "\n",
    "You're already almost 1.5km (almost a mile) below the surface of the ocean, already so deep that you can't see any sunlight. What you can see, however, is a giant squid that has attached itself to the outside of your submarine.\n",
    "\n",
    "Maybe it wants to play bingo?\n",
    "\n",
    "Bingo is played on a set of boards each consisting of a 5x5 grid of numbers. Numbers are chosen at random, and the chosen number is marked on all boards on which it appears. (Numbers may not appear on all boards.) If all numbers in any row or any column of a board are marked, that board wins. (Diagonals don't count.)\n",
    "\n",
    "The submarine has a bingo subsystem to help passengers (currently, you and the giant squid) pass the time. It automatically generates a random order in which to draw numbers and a random set of boards (your puzzle input). For example:\n",
    "```\n",
    "7,4,9,5,11,17,23,2,0,14,21,24,10,16,13,6,15,25,12,22,18,20,8,19,3,26,1\n",
    "\n",
    "22 13 17 11  0\n",
    " 8  2 23  4 24\n",
    "21  9 14 16  7\n",
    " 6 10  3 18  5\n",
    " 1 12 20 15 19\n",
    "\n",
    " 3 15  0  2 22\n",
    " 9 18 13 17  5\n",
    "19  8  7 25 23\n",
    "20 11 10 24  4\n",
    "14 21 16 12  6\n",
    "\n",
    "14 21 17 24  4\n",
    "10 16 15  9 19\n",
    "18  8 23 26 20\n",
    "22 11 13  6  5\n",
    " 2  0 12  3  7\n",
    " ```\n",
    " After the first five numbers are drawn (7, 4, 9, 5, and 11), there are no winners, but the boards are marked as follows (shown here adjacent to each other to save space):\n",
    "```\n",
    "22 13 17 11  0         3 15  0  2 22        14 21 17 24  4\n",
    " 8  2 23  4 24         9 18 13 17  5        10 16 15  9 19\n",
    "21  9 14 16  7        19  8  7 25 23        18  8 23 26 20\n",
    " 6 10  3 18  5        20 11 10 24  4        22 11 13  6  5\n",
    " 1 12 20 15 19        14 21 16 12  6         2  0 12  3  7\n",
    "```\n",
    "After the next six numbers are drawn (17, 23, 2, 0, 14, and 21), there are still no winners:\n",
    "```\n",
    "22 13 17 11  0         3 15  0  2 22        14 21 17 24  4\n",
    " 8  2 23  4 24         9 18 13 17  5        10 16 15  9 19\n",
    "21  9 14 16  7        19  8  7 25 23        18  8 23 26 20\n",
    " 6 10  3 18  5        20 11 10 24  4        22 11 13  6  5\n",
    " 1 12 20 15 19        14 21 16 12  6         2  0 12  3  7\n",
    "```\n",
    "Finally, 24 is drawn:\n",
    "```\n",
    "22 13 17 11  0         3 15  0  2 22        14 21 17 24  4\n",
    " 8  2 23  4 24         9 18 13 17  5        10 16 15  9 19\n",
    "21  9 14 16  7        19  8  7 25 23        18  8 23 26 20\n",
    " 6 10  3 18  5        20 11 10 24  4        22 11 13  6  5\n",
    " 1 12 20 15 19        14 21 16 12  6         2  0 12  3  7\n",
    "```\n",
    "At this point, the third board wins because it has at least one complete row or column of marked numbers (in this case, the entire top row is marked: 14 21 17 24 4).\n",
    "\n",
    "The score of the winning board can now be calculated. Start by finding the sum of all unmarked numbers on that board; in this case, the sum is 188. Then, multiply that sum by the number that was just called when the board won, 24, to get the final score, 188 * 24 = 4512.\n",
    "\n",
    "To guarantee victory against the giant squid, figure out which board will win first. What will your final score be if you choose that board?"
   ]
  },
  {
   "cell_type": "code",
   "execution_count": 91,
   "metadata": {},
   "outputs": [],
   "source": [
    "class BingoBoard:\n",
    "\n",
    "  def __init__(self, number_strings):\n",
    "    self._numbers = [int(i) for i in number_strings]\n",
    "    self._marked = 0\n",
    "    self._win_lines = [32505856, 1015808, 31744, 992, 31, 17318416, 8659208,\n",
    "                       4329604, 2164802, 1082401]\n",
    "    self._bingo = False\n",
    "\n",
    "  def check_if_bingo(self):    \n",
    "    self._bingo = any([win_line & self._marked == win_line for win_line in self._win_lines])\n",
    "\n",
    "    return self._bingo\n",
    "\n",
    "  def call_and_check_if_bingo(self, called_number):\n",
    "    # Stop marking/checking once Bingo is achieved\n",
    "    if self._bingo:\n",
    "      return False\n",
    "\n",
    "    if called_number in self._numbers:\n",
    "      i = self._numbers.index(called_number)\n",
    "      self._marked = self._marked | (1 << (24-i))\n",
    "    \n",
    "    return self.check_if_bingo()\n",
    "\n",
    "  def get_unmarked_numbers(self):\n",
    "    marked_nums = set()\n",
    "    board_nums = self._numbers.copy()\n",
    "    marked = self._marked\n",
    "\n",
    "    while marked > 0:\n",
    "      if marked & 1 == 1:\n",
    "        marked_nums.add(board_nums.pop())\n",
    "      else:\n",
    "        board_nums.pop()\n",
    "      marked = marked >> 1\n",
    "\n",
    "    return set(self._numbers).difference(marked_nums)\n",
    "\n",
    "  def sum_unmarked_numbers(self):\n",
    "    return sum(self.get_unmarked_numbers())\n"
   ]
  },
  {
   "cell_type": "code",
   "execution_count": 92,
   "metadata": {},
   "outputs": [],
   "source": [
    "class BingoPlayer:\n",
    "  def __init__(self, filename):\n",
    "    self._all_numbers, self._boards = self.read_input(filename)\n",
    "    self.winning_board = None\n",
    "    self._last_called = None\n",
    "\n",
    "  def play(self):\n",
    "    while len(self._all_numbers) > 0 and not self.winning_board:\n",
    "      this_number = self._all_numbers.pop(0)\n",
    "      self._last_called = this_number\n",
    "      for board in self._boards:\n",
    "        if board.call_and_check_if_bingo(this_number):\n",
    "          self.winning_board = board\n",
    "          break\n",
    "\n",
    "  def get_winning_score(self):\n",
    "    if not self.winning_board:\n",
    "      return None\n",
    "\n",
    "    sum_unmarked = self.winning_board.sum_unmarked_numbers()\n",
    "\n",
    "    return sum_unmarked * self._last_called\n",
    "\n",
    "  def read_input(self, filename):\n",
    "    with open(filename) as f:\n",
    "      # First line is the number sequence, followed by a blank line\n",
    "      called_numbers = f.readline().rstrip().split(',')\n",
    "      called_numbers = [int(i) for i in called_numbers]\n",
    "      _ = f.readline()\n",
    "      # subsequent lines are boards\n",
    "      boards = []\n",
    "      board = []\n",
    "\n",
    "      for line in f.readlines():\n",
    "        if line != \"\\n\":\n",
    "          board += (line.split())\n",
    "        else:\n",
    "          boards.append(BingoBoard(board))\n",
    "          board = []\n",
    "      boards.append(BingoBoard(board))\n",
    "\n",
    "    return (called_numbers, boards)"
   ]
  },
  {
   "cell_type": "code",
   "execution_count": 93,
   "metadata": {},
   "outputs": [],
   "source": [
    "example1_player = BingoPlayer(\"./inputs/Day4ex.txt\")\n",
    "example1_solution = 4512\n",
    "\n",
    "example1_player.play()\n",
    "assert example1_solution == example1_player.get_winning_score()"
   ]
  },
  {
   "cell_type": "code",
   "execution_count": 94,
   "metadata": {},
   "outputs": [
    {
     "data": {
      "text/plain": [
       "35711"
      ]
     },
     "execution_count": 94,
     "metadata": {},
     "output_type": "execute_result"
    }
   ],
   "source": [
    "player1 = BingoPlayer(\"./inputs/Day4.txt\")\n",
    "player1.play()\n",
    "player1.get_winning_score()"
   ]
  },
  {
   "cell_type": "markdown",
   "metadata": {},
   "source": [
    "### --- Part Two ---\n",
    "\n",
    "On the other hand, it might be wise to try a different strategy: let the giant squid win.\n",
    "\n",
    "You aren't sure how many bingo boards a giant squid could play at once, so rather than waste time counting its arms, the safe thing to do is to figure out which board will win last and choose that one. That way, no matter which boards it picks, it will win for sure.\n",
    "\n",
    "In the above example, the second board is the last to win, which happens after 13 is eventually called and its middle column is completely marked. If you were to keep playing until this point, the second board would have a sum of unmarked numbers equal to 148 for a final score of 148 * 13 = 1924.\n",
    "\n",
    "Figure out which board will win last. Once it wins, what would its final score be?"
   ]
  },
  {
   "cell_type": "code",
   "execution_count": 95,
   "metadata": {},
   "outputs": [],
   "source": [
    "class BingoLoser(BingoPlayer):\n",
    "  def __init__(self, filename):\n",
    "    BingoPlayer.__init__(self, filename)\n",
    "    self._boards_won = []\n",
    "    self._called_numbers = []\n",
    "\n",
    "  def play(self):\n",
    "    while len(self._boards_won) < len(self._boards) and len(self._all_numbers) > 0:\n",
    "      this_number = self._all_numbers.pop(0)\n",
    "      self._called_numbers.append(this_number)\n",
    "      for board in self._boards:\n",
    "        if board.call_and_check_if_bingo(this_number):\n",
    "          self._boards_won.append(board)\n",
    "  \n",
    "  def get_losing_score(self):\n",
    "    if len(self._boards_won) == 0:\n",
    "      return None\n",
    "\n",
    "    losing_board = self._boards_won[-1]\n",
    "    last_called = self._called_numbers[-1]\n",
    "\n",
    "    return losing_board.sum_unmarked_numbers() * last_called"
   ]
  },
  {
   "cell_type": "code",
   "execution_count": 96,
   "metadata": {},
   "outputs": [],
   "source": [
    "example2_loser = BingoLoser(\"./inputs/Day4ex.txt\")\n",
    "example2_solution = 1924\n",
    "\n",
    "example2_loser.play()\n",
    "\n",
    "assert example2_solution == example2_loser.get_losing_score()"
   ]
  },
  {
   "cell_type": "code",
   "execution_count": 97,
   "metadata": {},
   "outputs": [
    {
     "name": "stdout",
     "output_type": "stream",
     "text": [
      "5586\n"
     ]
    }
   ],
   "source": [
    "part2_loser = BingoLoser(\"./inputs/Day4.txt\")\n",
    "part2_loser.play()\n",
    "print(part2_loser.get_losing_score())"
   ]
  }
 ],
 "metadata": {
  "interpreter": {
   "hash": "70b38d7a306a849643e446cd70466270a13445e5987dfa1344ef2b127438fa4d"
  },
  "kernelspec": {
   "display_name": "Python 3.7.4 64-bit",
   "language": "python",
   "name": "python3"
  },
  "language_info": {
   "codemirror_mode": {
    "name": "ipython",
    "version": 3
   },
   "file_extension": ".py",
   "mimetype": "text/x-python",
   "name": "python",
   "nbconvert_exporter": "python",
   "pygments_lexer": "ipython3",
   "version": "3.7.4"
  },
  "orig_nbformat": 4
 },
 "nbformat": 4,
 "nbformat_minor": 2
}
