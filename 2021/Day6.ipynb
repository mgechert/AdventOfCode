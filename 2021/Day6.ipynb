{
 "cells": [
  {
   "cell_type": "markdown",
   "source": [
    "## --- Day 6: Lanternfish ---\r\n",
    "\r\n",
    "The sea floor is getting steeper. Maybe the sleigh keys got carried this way?\r\n",
    "\r\n",
    "A massive school of glowing lanternfish swims past. They must spawn quickly to reach such large numbers - maybe exponentially quickly? You should model their growth rate to be sure.\r\n",
    "\r\n",
    "Although you know nothing about this specific species of lanternfish, you make some guesses about their attributes. Surely, each lanternfish creates a new lanternfish once every 7 days.\r\n",
    "\r\n",
    "However, this process isn't necessarily synchronized between every lanternfish - one lanternfish might have 2 days left until it creates another lanternfish, while another might have 4. So, you can model each fish as a single number that represents the number of days until it creates a new lanternfish.\r\n",
    "\r\n",
    "Furthermore, you reason, a new lanternfish would surely need slightly longer before it's capable of producing more lanternfish: two more days for its first cycle.\r\n",
    "\r\n",
    "So, suppose you have a lanternfish with an internal timer value of 3:\r\n",
    "\r\n",
    "    After one day, its internal timer would become 2.\r\n",
    "    After another day, its internal timer would become 1.\r\n",
    "    After another day, its internal timer would become 0.\r\n",
    "    After another day, its internal timer would reset to 6, and it would create a new lanternfish with an internal timer of 8.\r\n",
    "    After another day, the first lanternfish would have an internal timer of 5, and the second lanternfish would have an internal timer of 7.\r\n",
    "\r\n",
    "A lanternfish that creates a new fish resets its timer to 6, not 7 (because 0 is included as a valid timer value). The new lanternfish starts with an internal timer of 8 and does not start counting down until the next day.\r\n",
    "\r\n",
    "Realizing what you're trying to do, the submarine automatically produces a list of the ages of several hundred nearby lanternfish (your puzzle input). For example, suppose you were given the following list:\r\n",
    "\r\n",
    "3,4,3,1,2\r\n",
    "\r\n",
    "This list means that the first fish has an internal timer of 3, the second fish has an internal timer of 4, and so on until the fifth fish, which has an internal timer of 2. Simulating these fish over several days would proceed as follows:\r\n",
    "```\r\n",
    "Initial state: 3,4,3,1,2\r\n",
    "After  1 day:  2,3,2,0,1\r\n",
    "After  2 days: 1,2,1,6,0,8\r\n",
    "After  3 days: 0,1,0,5,6,7,8\r\n",
    "After  4 days: 6,0,6,4,5,6,7,8,8\r\n",
    "After  5 days: 5,6,5,3,4,5,6,7,7,8\r\n",
    "After  6 days: 4,5,4,2,3,4,5,6,6,7\r\n",
    "After  7 days: 3,4,3,1,2,3,4,5,5,6\r\n",
    "After  8 days: 2,3,2,0,1,2,3,4,4,5\r\n",
    "After  9 days: 1,2,1,6,0,1,2,3,3,4,8\r\n",
    "After 10 days: 0,1,0,5,6,0,1,2,2,3,7,8\r\n",
    "After 11 days: 6,0,6,4,5,6,0,1,1,2,6,7,8,8,8\r\n",
    "After 12 days: 5,6,5,3,4,5,6,0,0,1,5,6,7,7,7,8,8\r\n",
    "After 13 days: 4,5,4,2,3,4,5,6,6,0,4,5,6,6,6,7,7,8,8\r\n",
    "After 14 days: 3,4,3,1,2,3,4,5,5,6,3,4,5,5,5,6,6,7,7,8\r\n",
    "After 15 days: 2,3,2,0,1,2,3,4,4,5,2,3,4,4,4,5,5,6,6,7\r\n",
    "After 16 days: 1,2,1,6,0,1,2,3,3,4,1,2,3,3,3,4,4,5,5,6,8\r\n",
    "After 17 days: 0,1,0,5,6,0,1,2,2,3,0,1,2,2,2,3,3,4,4,5,7,8\r\n",
    "After 18 days: 6,0,6,4,5,6,0,1,1,2,6,0,1,1,1,2,2,3,3,4,6,7,8,8,8,8\r\n",
    "```\r\n",
    "Each day, a 0 becomes a 6 and adds a new 8 to the end of the list, while each other number decreases by 1 if it was present at the start of the day.\r\n",
    "\r\n",
    "In this example, after 18 days, there are a total of 26 fish. After 80 days, there would be a total of 5934.\r\n",
    "\r\n",
    "Find a way to simulate lanternfish. How many lanternfish would there be after 80 days?\r\n"
   ],
   "metadata": {}
  },
  {
   "cell_type": "code",
   "execution_count": 1,
   "source": [
    "def population_at_day(initial_state, end_day, cycle_length=7):\r\n",
    "    generation_counts = [0 for _ in range(cycle_length)]\r\n",
    "    juvenile_counts = generation_counts.copy()\r\n",
    "\r\n",
    "    for f in initial_state.rstrip().split(\",\"):\r\n",
    "        generation_counts[int(f)] += 1\r\n",
    "\r\n",
    "    for day in range(1, end_day+1):\r\n",
    "        # Juveniles that were \"born yesterday\" will reproduce a week from tomorrow\r\n",
    "        juvenile_counts[(day+1) % cycle_length] += generation_counts[(day-1) % cycle_length]\r\n",
    "\r\n",
    "        # Juveniles too young to reproduce yesterday will be mature in the next cycle\r\n",
    "        generation_counts[(day-1) % cycle_length] +=  juvenile_counts[(day-1) % cycle_length]\r\n",
    "        juvenile_counts[(day-1) % cycle_length] = 0\r\n",
    "\r\n",
    "    return sum(generation_counts) + sum(juvenile_counts)"
   ],
   "outputs": [],
   "metadata": {}
  },
  {
   "cell_type": "code",
   "execution_count": 2,
   "source": [
    "example1_input = \"3,4,3,1,2\"\r\n",
    "\r\n",
    "assert 26 == population_at_day(example1_input, 18)\r\n",
    "assert 5934 == population_at_day(example1_input, 80)"
   ],
   "outputs": [],
   "metadata": {}
  },
  {
   "cell_type": "code",
   "execution_count": 3,
   "source": [
    "problem1_input = \"\"\"\r\n",
    "1,3,4,1,1,1,1,1,1,1,1,2,2,1,4,2,4,1,1,1,1,1,5,4,1,1,2,1,1,1,1,4,1,1,1,4,4,1,1,1,1,1,1,1,2,4,1,3,1,1,2,1,2,1,1,4,1,1,1,4,3,1,3,1,5,1,1,3,4,1,1,1,3,1,1,1,1,1,1,1,1,1,1,1,1,1,5,2,5,5,3,2,1,5,1,1,1,1,1,1,1,1,1,1,1,1,2,1,1,1,1,5,1,1,1,1,5,1,1,1,1,1,4,1,1,1,1,1,3,1,1,1,1,1,1,1,1,1,1,1,3,1,2,4,1,5,5,1,1,5,3,4,4,4,1,1,1,2,1,1,1,1,1,1,2,1,1,1,1,1,1,5,3,1,4,1,1,2,2,1,2,2,5,1,1,1,2,1,1,1,1,3,4,5,1,2,1,1,1,1,1,5,2,1,1,1,1,1,1,5,1,1,1,1,1,1,1,5,1,4,1,5,1,1,1,1,1,1,1,1,1,1,1,1,1,2,1,1,1,1,5,4,5,1,1,1,1,1,1,1,5,1,1,3,1,1,1,3,1,4,2,1,5,1,3,5,5,2,1,3,1,1,1,1,1,3,1,3,1,1,2,4,3,1,4,2,2,1,1,1,1,1,1,1,5,2,1,1,1,2\r\n",
    "\"\"\"\r\n",
    "population_at_day(problem1_input, 80)"
   ],
   "outputs": [
    {
     "output_type": "execute_result",
     "data": {
      "text/plain": [
       "390011"
      ]
     },
     "metadata": {},
     "execution_count": 3
    }
   ],
   "metadata": {}
  },
  {
   "cell_type": "markdown",
   "source": [
    "## --- Part Two ---\r\n",
    "\r\n",
    "Suppose the lanternfish live forever and have unlimited food and space. Would they take over the entire ocean?\r\n",
    "\r\n",
    "After 256 days in the example above, there would be a total of 26984457539 lanternfish!\r\n",
    "\r\n",
    "How many lanternfish would there be after 256 days?\r\n"
   ],
   "metadata": {}
  },
  {
   "cell_type": "code",
   "execution_count": 4,
   "source": [
    "assert 26984457539 == population_at_day(example1_input, 256)"
   ],
   "outputs": [],
   "metadata": {}
  },
  {
   "cell_type": "code",
   "execution_count": 5,
   "source": [
    "population_at_day(problem1_input, 256)"
   ],
   "outputs": [
    {
     "output_type": "execute_result",
     "data": {
      "text/plain": [
       "1746710169834"
      ]
     },
     "metadata": {},
     "execution_count": 5
    }
   ],
   "metadata": {}
  }
 ],
 "metadata": {
  "orig_nbformat": 4,
  "language_info": {
   "name": "python",
   "version": "3.7.6",
   "mimetype": "text/x-python",
   "codemirror_mode": {
    "name": "ipython",
    "version": 3
   },
   "pygments_lexer": "ipython3",
   "nbconvert_exporter": "python",
   "file_extension": ".py"
  },
  "kernelspec": {
   "name": "python3",
   "display_name": "Python 3.7.6 64-bit ('py3r': conda)"
  },
  "interpreter": {
   "hash": "a4d16f272948a56a74322b7d603a05d4f37e6ac5a8ca06c2aaf0ba1c89b36634"
  }
 },
 "nbformat": 4,
 "nbformat_minor": 2
}