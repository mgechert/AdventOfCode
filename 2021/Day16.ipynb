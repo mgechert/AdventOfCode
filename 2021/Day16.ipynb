{
 "cells": [
  {
   "cell_type": "markdown",
   "source": [
    "## --- Day 16: Packet Decoder ---\r\n",
    "\r\n",
    "Decode the structure of your hexadecimal-encoded BITS transmission; what do you get if you add up the version numbers in all packets?"
   ],
   "metadata": {}
  },
  {
   "cell_type": "code",
   "execution_count": 1,
   "source": [
    "class PacketReader:\r\n",
    "    def __init__(self, hex_str):\r\n",
    "        # The bitstring needs to be zero-padded if first bit(s) unset\r\n",
    "        self.bitstring = str(bin(int(hex_str, 16)))[2:].zfill(4 * len(hex_str))\r\n",
    "        self.index = 0\r\n",
    "        self.version_sum = 0\r\n",
    "\r\n",
    "        self.packets = self.read_packets()\r\n",
    "    \r\n",
    "    def read_next_bits(self, n):\r\n",
    "        read = self.bitstring[self.index:self.index + n]\r\n",
    "        self.index += n\r\n",
    "\r\n",
    "        return read\r\n",
    "\r\n",
    "    def read_packets(self, num_packets=None, bit_length=None):\r\n",
    "        if num_packets is not None:\r\n",
    "            # read the next {num_packets} packets\r\n",
    "            packets = [self.read_next_packet() for _ in range(num_packets)]\r\n",
    "        elif bit_length is not None:\r\n",
    "            # Read packets for the next {bit_length} bits\r\n",
    "            end_index = self.index + bit_length\r\n",
    "            packets = []\r\n",
    "            while self.index < end_index:\r\n",
    "                packets.append(self.read_next_packet())\r\n",
    "        else:\r\n",
    "            # Read packet (and all its subpackets)\r\n",
    "            packets = [self.read_next_packet()]\r\n",
    "\r\n",
    "        return packets\r\n",
    "\r\n",
    "    def read_next_packet(self):\r\n",
    "        packet = {}\r\n",
    "\r\n",
    "        # First 3 bits are packet version, next 3 are packet type\r\n",
    "        packet[\"version\"] = int(self.read_next_bits(3), 2)\r\n",
    "        packet[\"type\"] = int(self.read_next_bits(3), 2)\r\n",
    "        if packet[\"type\"] == 4:\r\n",
    "            # Packet contains a literal\r\n",
    "            packet[\"literal\"] = self.read_literal()\r\n",
    "        else:\r\n",
    "            # Packet contains an operator\r\n",
    "            packet[\"length_type\"] = self.read_next_bits(1)\r\n",
    "            if packet[\"length_type\"] == \"0\":\r\n",
    "                sp_bit_len = int(self.read_next_bits(15), 2)\r\n",
    "                packet[\"sub_packet_bit_len\"] = sp_bit_len\r\n",
    "                packet[\"subpackets\"] = self.read_packets(bit_length=sp_bit_len)\r\n",
    "            else:\r\n",
    "                sp_count = int(self.read_next_bits(11), 2)\r\n",
    "                packet[\"sub_packet_count\"] = sp_count\r\n",
    "                packet[\"subpackets\"] = self.read_packets(num_packets=sp_count)\r\n",
    "\r\n",
    "        self.version_sum += packet[\"version\"]\r\n",
    "        \r\n",
    "        return packet\r\n",
    "\r\n",
    "    def read_literal(self):\r\n",
    "        # First bit of each group of 5 is the continue bit,\r\n",
    "        # if continue bit set, read and append the next group.\r\n",
    "        literal = 0\r\n",
    "        continue_bit = \"1\"\r\n",
    "\r\n",
    "        while continue_bit == \"1\":\r\n",
    "            group = self.read_next_bits(5)\r\n",
    "            literal = (literal << 4) + int(group[1:], 2)\r\n",
    "            continue_bit = group[0]\r\n",
    "\r\n",
    "        return literal\r\n",
    "\r\n",
    "    def evaluate(self):\r\n",
    "        def _eval(packet):\r\n",
    "            ptype = packet[\"type\"]\r\n",
    "            if ptype == 4:\r\n",
    "                return packet[\"literal\"]\r\n",
    "            elif ptype == 0:    # sum\r\n",
    "                return sum(_eval(sp) for sp in packet[\"subpackets\"])\r\n",
    "            elif ptype == 1:    # product if 2+ subpackets, else the subpacket\r\n",
    "                if len(packet[\"subpackets\"]) >= 2:\r\n",
    "                    prod = 1\r\n",
    "                    for subpacket in packet[\"subpackets\"]:\r\n",
    "                        prod *= _eval(subpacket)\r\n",
    "                    return prod\r\n",
    "                else:\r\n",
    "                    return _eval(packet[\"subpackets\"][0])\r\n",
    "            elif ptype == 2:    # min\r\n",
    "                return min(_eval(sp) for sp in packet[\"subpackets\"])\r\n",
    "            elif ptype == 3:    # max\r\n",
    "                return max(_eval(sp) for sp in packet[\"subpackets\"])\r\n",
    "            elif ptype == 5:    # greater than\r\n",
    "                a, b = packet[\"subpackets\"]\r\n",
    "                return 1 if _eval(a) > _eval(b) else 0\r\n",
    "            elif ptype == 6:    # less than\r\n",
    "                a, b = packet[\"subpackets\"]\r\n",
    "                return 1 if _eval(a) < _eval(b) else 0\r\n",
    "            elif ptype == 7:    # equal to\r\n",
    "                a, b = packet[\"subpackets\"]\r\n",
    "                return 1 if _eval(a) == _eval(b) else 0\r\n",
    "            else:\r\n",
    "                raise KeyError(f\"Illegal operator type {ptype}\")\r\n",
    "\r\n",
    "        return _eval(self.packets[0])\r\n"
   ],
   "outputs": [],
   "metadata": {}
  },
  {
   "cell_type": "code",
   "execution_count": 2,
   "source": [
    "ex1_input = \"D2FE28\"\r\n",
    "ex1_reader = PacketReader(ex1_input)\r\n",
    "ex1_packets = ex1_reader.packets\r\n",
    "\r\n",
    "assert ex1_reader.bitstring == '110100101111111000101000'\r\n",
    "assert 6 == ex1_packets[0][\"version\"]\r\n",
    "assert 4 == ex1_packets[0][\"type\"]\r\n",
    "assert 2021 == ex1_packets[0][\"literal\"]"
   ],
   "outputs": [],
   "metadata": {}
  },
  {
   "cell_type": "code",
   "execution_count": 3,
   "source": [
    "ex1b_reader = PacketReader(\"38006F45291200\")\r\n",
    "ex1b_packets = ex1b_reader.packets\r\n",
    "\r\n",
    "assert 1 == ex1b_packets[0][\"version\"]\r\n",
    "assert 6 == ex1b_packets[0][\"type\"]\r\n",
    "assert 27 == ex1b_packets[0][\"sub_packet_bit_len\"]\r\n",
    "assert 2 == len(ex1b_packets[0][\"subpackets\"])"
   ],
   "outputs": [],
   "metadata": {}
  },
  {
   "cell_type": "code",
   "execution_count": 4,
   "source": [
    "ex1c_input = \"EE00D40C823060\"\r\n",
    "ex1c_reader = PacketReader(ex1c_input)\r\n",
    "\r\n",
    "ex1c_packets = ex1c_reader.packets\r\n",
    "\r\n",
    "assert 7 == ex1c_packets[0][\"version\"]\r\n",
    "assert 3 == ex1c_packets[0][\"type\"]\r\n",
    "assert 3 == ex1c_packets[0][\"sub_packet_count\"]\r\n",
    "assert 3 == len(ex1c_packets[0][\"subpackets\"])"
   ],
   "outputs": [],
   "metadata": {}
  },
  {
   "cell_type": "code",
   "execution_count": 5,
   "source": [
    "# Version Sum examples\r\n",
    "\r\n",
    "assert 16 == PacketReader(\"8A004A801A8002F478\").version_sum\r\n",
    "assert 12 == PacketReader(\"620080001611562C8802118E34\").version_sum\r\n",
    "assert 23 == PacketReader(\"C0015000016115A2E0802F182340\").version_sum\r\n",
    "assert 31 == PacketReader(\"A0016C880162017C3686B18A3D4780\").version_sum\r\n"
   ],
   "outputs": [],
   "metadata": {}
  },
  {
   "cell_type": "code",
   "execution_count": 6,
   "source": [
    "# Part 1 solution\r\n",
    "with open(\"./inputs/Day16.txt\") as f:\r\n",
    "    p1_input = f.read().strip()\r\n",
    "\r\n",
    "p1_reader = PacketReader(p1_input)\r\n",
    "\r\n",
    "p1_reader.version_sum"
   ],
   "outputs": [
    {
     "output_type": "execute_result",
     "data": {
      "text/plain": [
       "917"
      ]
     },
     "metadata": {},
     "execution_count": 6
    }
   ],
   "metadata": {}
  },
  {
   "cell_type": "markdown",
   "source": [
    "## --- Part Two ---\r\n",
    "\r\n",
    "Now that you have the structure of your transmission decoded, you can calculate the value of the expression it represents.\r\n",
    "\r\n",
    "Literal values (type ID 4) represent a single number as described above. The remaining type IDs are more interesting:\r\n",
    "\r\n",
    "- Packets with type ID 0 are sum packets - their value is the sum of the values of their sub-packets. If they only have a single sub-packet, their value is the value of the sub-packet.\r\n",
    "- Packets with type ID 1 are product packets - their value is the result of multiplying together the values of their sub-packets. If they only have a single sub-packet, their value is the value of the sub-packet.\r\n",
    "- Packets with type ID 2 are minimum packets - their value is the minimum of the values of their sub-packets.\r\n",
    "- Packets with type ID 3 are maximum packets - their value is the maximum of the values of their sub-packets.\r\n",
    "- Packets with type ID 5 are greater than packets - their value is 1 if the value of the first sub-packet is greater than the value of the second sub-packet; otherwise, their value is 0. These packets always have exactly two sub-packets.\r\n",
    "- Packets with type ID 6 are less than packets - their value is 1 if the value of the first sub-packet is less than the value of the second sub-packet; otherwise, their value is 0. These packets always have exactly two sub-packets.\r\n",
    "- Packets with type ID 7 are equal to packets - their value is 1 if the value of the first sub-packet is equal to the value of the second sub-packet; otherwise, their value is 0. These packets always have exactly two sub-packets.\r\n"
   ],
   "metadata": {}
  },
  {
   "cell_type": "code",
   "execution_count": 7,
   "source": [
    "# Part 2 examples\r\n",
    "\r\n",
    "assert 3 == PacketReader(\"C200B40A82\").evaluate()\r\n",
    "assert 54 == PacketReader(\"04005AC33890\").evaluate() # finds the product of 6 and 9, resulting in the value 54.\r\n",
    "assert 7 == PacketReader(\"880086C3E88112\").evaluate() # finds the minimum of 7, 8, and 9, resulting in the value 7.\r\n",
    "assert 9 == PacketReader(\"CE00C43D881120\").evaluate() # finds the maximum of 7, 8, and 9, resulting in the value 9.\r\n",
    "assert 1 == PacketReader(\"D8005AC2A8F0\").evaluate() # produces 1, because 5 is less than 15.\r\n",
    "assert 0 == PacketReader(\"F600BC2D8F\").evaluate() # produces 0, because 5 is not greater than 15.\r\n",
    "assert 0 == PacketReader(\"9C005AC2F8F0\").evaluate() # produces 0, because 5 is not equal to 15.\r\n",
    "assert 1 == PacketReader(\"9C0141080250320F1802104A08\").evaluate() # produces 1, because 1 + 3 = 2 * 2."
   ],
   "outputs": [],
   "metadata": {}
  },
  {
   "cell_type": "code",
   "execution_count": 8,
   "source": [
    "# Part 2 solution\r\n",
    "p2_reader = PacketReader(p1_input)\r\n",
    "p2_reader.evaluate() # == 2532669989335\r\n"
   ],
   "outputs": [
    {
     "output_type": "execute_result",
     "data": {
      "text/plain": [
       "2536453523344"
      ]
     },
     "metadata": {},
     "execution_count": 8
    }
   ],
   "metadata": {}
  }
 ],
 "metadata": {
  "orig_nbformat": 4,
  "language_info": {
   "name": "python",
   "version": "3.7.6",
   "mimetype": "text/x-python",
   "codemirror_mode": {
    "name": "ipython",
    "version": 3
   },
   "pygments_lexer": "ipython3",
   "nbconvert_exporter": "python",
   "file_extension": ".py"
  },
  "kernelspec": {
   "name": "python3",
   "display_name": "Python 3.7.6 64-bit ('py3r': conda)"
  },
  "interpreter": {
   "hash": "a4d16f272948a56a74322b7d603a05d4f37e6ac5a8ca06c2aaf0ba1c89b36634"
  }
 },
 "nbformat": 4,
 "nbformat_minor": 2
}