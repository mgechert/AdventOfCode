{
 "cells": [
  {
   "cell_type": "markdown",
   "source": [
    "## --- Day 14: Extended Polymerization ---\r\n",
    "\r\n",
    "Apply 10 steps of pair insertion to the polymer template and find the most and least common elements in the result. What do you get if you take the quantity of the most common element and subtract the quantity of the least common element?"
   ],
   "metadata": {}
  },
  {
   "cell_type": "code",
   "execution_count": 1,
   "source": [
    "from collections import Counter\r\n",
    "\r\n",
    "class Polymerizer:\r\n",
    "    def __init__(self, filename):\r\n",
    "        self._rules = {}\r\n",
    "\r\n",
    "        with open(filename) as f:\r\n",
    "            # First line is template\r\n",
    "            self._template = f.readline().strip()\r\n",
    "\r\n",
    "            # Skip blank line, then read all pair insertion rules\r\n",
    "            _ = f.readline()\r\n",
    "\r\n",
    "            for line in f.readlines():\r\n",
    "                elements, insert = line.strip().split(\" -> \")\r\n",
    "                self._rules[(elements[0], elements[1])] = insert\r\n",
    "\r\n",
    "        self._polymer = self._template\r\n",
    "        self._steps = 0\r\n",
    "\r\n",
    "    def do_steps(self, num_steps, verbose=False):\r\n",
    "        if verbose:\r\n",
    "            print(\"Template:\\t\", self._template)\r\n",
    "        for _ in range(num_steps):\r\n",
    "            self.do_step()\r\n",
    "            if verbose:\r\n",
    "                print(f\"After step {self._steps}:\\t\", self._polymer)\r\n",
    "\r\n",
    "        return self.get_score()\r\n",
    "\r\n",
    "    def do_step(self):\r\n",
    "        self._steps += 1\r\n",
    "        new_polymer = []\r\n",
    "\r\n",
    "        for i in range(len(self._polymer)-1):\r\n",
    "            new_polymer.append(self._polymer[i])\r\n",
    "            if (self._polymer[i], self._polymer[i+1]) in self._rules:\r\n",
    "                insert_element = self._rules[(self._polymer[i], self._polymer[i+1])]\r\n",
    "                new_polymer.append(insert_element)\r\n",
    "        new_polymer.append(self._polymer[-1])\r\n",
    "        self._polymer = \"\".join(new_polymer)\r\n",
    "\r\n",
    "    def get_score(self):\r\n",
    "        counts = Counter(self._polymer).most_common()\r\n",
    "        most, least = counts[0][1], counts[-1][1]\r\n",
    "        \r\n",
    "        return most - least\r\n",
    "\r\n"
   ],
   "outputs": [],
   "metadata": {}
  },
  {
   "cell_type": "code",
   "execution_count": 2,
   "source": [
    "ex1_polymerizer = Polymerizer(\"./inputs/Day14ex.txt\")\r\n",
    "ex1_solution = 1588\r\n",
    "\r\n",
    "assert ex1_solution == ex1_polymerizer.do_steps(10)"
   ],
   "outputs": [],
   "metadata": {}
  },
  {
   "cell_type": "code",
   "execution_count": 3,
   "source": [
    "# Part 1 solution\r\n",
    "p1_polymerizer = Polymerizer(\"./inputs/Day14.txt\")\r\n",
    "p1_polymerizer.do_steps(10)"
   ],
   "outputs": [
    {
     "output_type": "execute_result",
     "data": {
      "text/plain": [
       "2027"
      ]
     },
     "metadata": {},
     "execution_count": 3
    }
   ],
   "metadata": {}
  },
  {
   "cell_type": "markdown",
   "source": [
    "## --- Part Two ---\r\n",
    "Apply 40 steps of pair insertion to the polymer template and find the most and least common elements in the result. What do you get if you take the quantity of the most common element and subtract the quantity of the least common element?"
   ],
   "metadata": {}
  },
  {
   "cell_type": "code",
   "execution_count": 4,
   "source": [
    "class BigPolymerizer:\r\n",
    "    def __init__(self, filename):\r\n",
    "        self._rules = {}\r\n",
    "        self._pairs = {}\r\n",
    "        self._steps = 0\r\n",
    "\r\n",
    "        with open(filename) as f:\r\n",
    "            # First line is template\r\n",
    "            self._template = f.readline().strip()\r\n",
    "\r\n",
    "            # Skip blank line, then read all pair insertion rules\r\n",
    "            _ = f.readline()\r\n",
    "\r\n",
    "            for line in f.readlines():\r\n",
    "                elements, insert = line.strip().split(\" -> \")\r\n",
    "                self._rules[elements[0:2]] = insert\r\n",
    "\r\n",
    "        for i in range(len(self._template)-1):\r\n",
    "            pair = self._template[i:i+2]\r\n",
    "            if pair in self._pairs:\r\n",
    "                self._pairs[pair] += 1\r\n",
    "            else:\r\n",
    "                self._pairs[pair] = 1\r\n",
    "    \r\n",
    "    def do_step(self):\r\n",
    "        new_pairs = []\r\n",
    "        drop_pairs = []\r\n",
    "\r\n",
    "        for pair, insert in self._rules.items():\r\n",
    "            if pair in self._pairs:\r\n",
    "                # Number of times this pair exists\r\n",
    "                count = self._pairs[pair]\r\n",
    "\r\n",
    "                # Split pair(s) no longer exist (after all rules applied)\r\n",
    "                drop_pairs.append(pair)\r\n",
    "\r\n",
    "                # (count) of 2 newly created pairs created (after rules applied)\r\n",
    "                new_pairs.append((pair[0]+insert, count))\r\n",
    "                new_pairs.append((insert+pair[1], count))\r\n",
    "\r\n",
    "        # After all rules are processed, apply changes\r\n",
    "        for pair in drop_pairs:\r\n",
    "            del(self._pairs[pair])\r\n",
    "\r\n",
    "        for new_pair in new_pairs:\r\n",
    "            pair, count = new_pair\r\n",
    "            if pair in self._pairs:\r\n",
    "                self._pairs[pair] += count\r\n",
    "            else:\r\n",
    "                self._pairs[pair] = count\r\n",
    "\r\n",
    "    def do_steps(self, num_steps):\r\n",
    "        for _ in range(num_steps):\r\n",
    "            self.do_step()\r\n",
    "\r\n",
    "        return self.get_score()\r\n",
    "    \r\n",
    "    def count_elements(self):\r\n",
    "        counts = {}\r\n",
    "        for pair, count in self._pairs.items():\r\n",
    "            if pair[0] in counts:\r\n",
    "                counts[pair[0]] += count\r\n",
    "            else:\r\n",
    "                counts[pair[0]] = count\r\n",
    "        \r\n",
    "        # The last element of the input is never the left of a pair so add it manually\r\n",
    "        if self._template[-1] in counts:\r\n",
    "            counts[self._template[-1]] += 1\r\n",
    "        else:\r\n",
    "            counts[self._template[-1]] = 1\r\n",
    "\r\n",
    "        \r\n",
    "        return counts\r\n",
    "\r\n",
    "    def get_score(self):\r\n",
    "        el_counts = self.count_elements()\r\n",
    "        most = max(el_counts.values())\r\n",
    "        least = min(el_counts.values())\r\n",
    "\r\n",
    "        return most - least"
   ],
   "outputs": [],
   "metadata": {}
  },
  {
   "cell_type": "code",
   "execution_count": 5,
   "source": [
    "# Rerun example 1 with BigPolymerizer\r\n",
    "ex1a_bigpoly = BigPolymerizer(\"./inputs/Day14ex.txt\")\r\n",
    "ex1a_solution = 1588\r\n",
    "\r\n",
    "assert ex1a_solution == ex1a_bigpoly.do_steps(10)"
   ],
   "outputs": [],
   "metadata": {}
  },
  {
   "cell_type": "code",
   "execution_count": 6,
   "source": [
    "# Rerun part 1 with BigPolymerizer\r\n",
    "p1a_bigpoly = BigPolymerizer(\"./inputs/Day14.txt\")\r\n",
    "p1_solution = 2027\r\n",
    "\r\n",
    "p1a_bigpoly.do_steps(10)\r\n",
    "\r\n",
    "assert p1_solution == p1_solution"
   ],
   "outputs": [],
   "metadata": {}
  },
  {
   "cell_type": "code",
   "execution_count": 7,
   "source": [
    "# Example 2\r\n",
    "ex2_polymerizer = BigPolymerizer(\"./inputs/Day14ex.txt\")\r\n",
    "ex2_solution = 2188189693529\r\n",
    "\r\n",
    "assert ex2_solution == ex2_polymerizer.do_steps(40)"
   ],
   "outputs": [],
   "metadata": {}
  },
  {
   "cell_type": "code",
   "execution_count": 8,
   "source": [
    "# Part 2 solution\r\n",
    "p2_polymerizer = BigPolymerizer(\"./inputs/Day14.txt\")\r\n",
    "\r\n",
    "p2_polymerizer.do_steps(40)"
   ],
   "outputs": [
    {
     "output_type": "execute_result",
     "data": {
      "text/plain": [
       "2265039461737"
      ]
     },
     "metadata": {},
     "execution_count": 8
    }
   ],
   "metadata": {}
  }
 ],
 "metadata": {
  "orig_nbformat": 4,
  "language_info": {
   "name": "python",
   "version": "3.7.6",
   "mimetype": "text/x-python",
   "codemirror_mode": {
    "name": "ipython",
    "version": 3
   },
   "pygments_lexer": "ipython3",
   "nbconvert_exporter": "python",
   "file_extension": ".py"
  },
  "kernelspec": {
   "name": "python3",
   "display_name": "Python 3.7.6 64-bit ('py3r': conda)"
  },
  "interpreter": {
   "hash": "a4d16f272948a56a74322b7d603a05d4f37e6ac5a8ca06c2aaf0ba1c89b36634"
  }
 },
 "nbformat": 4,
 "nbformat_minor": 2
}