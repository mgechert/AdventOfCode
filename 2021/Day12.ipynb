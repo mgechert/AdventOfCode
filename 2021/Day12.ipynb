{
 "cells": [
  {
   "cell_type": "markdown",
   "source": [
    "## --- Day 12: Passage Pathing ---\r\n",
    "\r\n",
    "How many paths through this cave system are there that visit small caves at most once?"
   ],
   "metadata": {}
  },
  {
   "cell_type": "code",
   "execution_count": 1,
   "source": [
    "class CaveGraph:\r\n",
    "    def __init__(self, edges_str):\r\n",
    "        self._edges = {}\r\n",
    "\r\n",
    "        for edge in edges_str.split():\r\n",
    "            node_a, node_b = edge.split(\"-\")\r\n",
    "\r\n",
    "            if node_a in self._edges:\r\n",
    "                self._edges[node_a].append(node_b)\r\n",
    "            else:\r\n",
    "                self._edges[node_a] = [node_b]\r\n",
    "\r\n",
    "            if node_b in self._edges:\r\n",
    "                self._edges[node_b].append(node_a)\r\n",
    "            else:\r\n",
    "                self._edges[node_b] = [node_a]\r\n",
    "\r\n",
    "    @classmethod\r\n",
    "    def is_big_cave(cls, cave):\r\n",
    "        return cave == cave.upper()\r\n",
    "\r\n",
    "    def find_paths(self):\r\n",
    "        complete_paths = []\r\n",
    "\r\n",
    "        def _find_path(node, path):\r\n",
    "            if node == \"end\":\r\n",
    "                path.append(node)\r\n",
    "                complete_paths.append(path)\r\n",
    "                return\r\n",
    "            elif node in path and not CaveGraph.is_big_cave(node):\r\n",
    "                # Do not revisit small caves (or \"start\")\r\n",
    "                return\r\n",
    "            else:\r\n",
    "                # Recursively search all nodes reachable from this node\r\n",
    "                path.append(node)\r\n",
    "                for next_node in self._edges[node]:\r\n",
    "                    _find_path(next_node, path.copy())\r\n",
    "\r\n",
    "        _find_path(\"start\", [])\r\n",
    "\r\n",
    "        return complete_paths\r\n",
    "\r\n",
    "    def count_complete_paths(self):\r\n",
    "        complete_paths = self.find_paths()\r\n",
    "\r\n",
    "        return len(complete_paths)"
   ],
   "outputs": [],
   "metadata": {}
  },
  {
   "cell_type": "code",
   "execution_count": 2,
   "source": [
    "example1a_input = \"\"\"\r\n",
    "start-A\r\n",
    "start-b\r\n",
    "A-c\r\n",
    "A-b\r\n",
    "b-d\r\n",
    "A-end\r\n",
    "b-end\r\n",
    "\"\"\".strip()\r\n",
    "example1a_solution = 10\r\n",
    "\r\n",
    "ex1a_graph = CaveGraph(example1a_input)\r\n",
    "assert example1a_solution == ex1a_graph.count_complete_paths()\r\n",
    "\r\n",
    "example1b_input = \"\"\"\r\n",
    "dc-end\r\n",
    "HN-start\r\n",
    "start-kj\r\n",
    "dc-start\r\n",
    "dc-HN\r\n",
    "LN-dc\r\n",
    "HN-end\r\n",
    "kj-sa\r\n",
    "kj-HN\r\n",
    "kj-dc\r\n",
    "\"\"\".strip()\r\n",
    "example1b_solution = 19\r\n",
    "\r\n",
    "ex1b_graph = CaveGraph(example1b_input)\r\n",
    "assert example1b_solution == ex1b_graph.count_complete_paths()\r\n",
    "\r\n",
    "example1c_input = \"\"\"\r\n",
    "fs-end\r\n",
    "he-DX\r\n",
    "fs-he\r\n",
    "start-DX\r\n",
    "pj-DX\r\n",
    "end-zg\r\n",
    "zg-sl\r\n",
    "zg-pj\r\n",
    "pj-he\r\n",
    "RW-he\r\n",
    "fs-DX\r\n",
    "pj-RW\r\n",
    "zg-RW\r\n",
    "start-pj\r\n",
    "he-WI\r\n",
    "zg-he\r\n",
    "pj-fs\r\n",
    "start-RW\r\n",
    "\"\"\".strip()\r\n",
    "example1c_solution = 226\r\n",
    "\r\n",
    "ex1c_graph = CaveGraph(example1c_input)\r\n",
    "assert example1c_solution == ex1c_graph.count_complete_paths()"
   ],
   "outputs": [],
   "metadata": {}
  },
  {
   "cell_type": "code",
   "execution_count": 3,
   "source": [
    "problem_input = \"\"\"\r\n",
    "xx-xh\r\n",
    "vx-qc\r\n",
    "cu-wf\r\n",
    "ny-LO\r\n",
    "cu-DR\r\n",
    "start-xx\r\n",
    "LO-vx\r\n",
    "cu-LO\r\n",
    "xx-cu\r\n",
    "cu-ny\r\n",
    "xh-start\r\n",
    "qc-DR\r\n",
    "vx-AP\r\n",
    "end-LO\r\n",
    "ny-DR\r\n",
    "vx-end\r\n",
    "DR-xx\r\n",
    "start-DR\r\n",
    "end-ny\r\n",
    "ny-xx\r\n",
    "xh-DR\r\n",
    "cu-xh\r\n",
    "\"\"\".strip()\r\n",
    "\r\n",
    "p1_graph = CaveGraph(problem_input)\r\n",
    "p1_graph.count_complete_paths()"
   ],
   "outputs": [
    {
     "output_type": "execute_result",
     "data": {
      "text/plain": [
       "4167"
      ]
     },
     "metadata": {},
     "execution_count": 3
    }
   ],
   "metadata": {}
  },
  {
   "cell_type": "markdown",
   "source": [
    "## Part 2\r\n",
    "Given these new rules, how many paths through this cave system are there?"
   ],
   "metadata": {}
  },
  {
   "cell_type": "code",
   "execution_count": 4,
   "source": [
    "class CaveGraphV2(CaveGraph):\r\n",
    "    def find_paths(self):\r\n",
    "        complete_paths = []\r\n",
    "\r\n",
    "        def _find_path(node, path, can_revisit):\r\n",
    "            if node == \"end\":\r\n",
    "                path.append(node)\r\n",
    "                complete_paths.append(path)\r\n",
    "                return\r\n",
    "            elif node in path and not CaveGraph.is_big_cave(node):\r\n",
    "                if node == \"start\" or not can_revisit:\r\n",
    "                    # Do not revisit small caves more than 1x (or \"start\")\r\n",
    "                    return\r\n",
    "                else:\r\n",
    "                    # Will revisit node this one time\r\n",
    "                    can_revisit = False\r\n",
    "\r\n",
    "            # Recursively search all nodes reachable from this node\r\n",
    "            path.append(node)\r\n",
    "            for next_node in self._edges[node]:\r\n",
    "                _find_path(next_node, path.copy(), can_revisit)\r\n",
    "\r\n",
    "        _find_path(\"start\", [], True)\r\n",
    "\r\n",
    "        return complete_paths"
   ],
   "outputs": [],
   "metadata": {}
  },
  {
   "cell_type": "code",
   "execution_count": 5,
   "source": [
    "ex2a_solution = 36\r\n",
    "ex2a_graph = CaveGraphV2(example1a_input)\r\n",
    "assert ex2a_solution == ex2a_graph.count_complete_paths()\r\n",
    "\r\n",
    "ex2b_solution = 103\r\n",
    "ex2b_graph = CaveGraphV2(example1b_input)\r\n",
    "assert ex2b_solution == ex2b_graph.count_complete_paths()\r\n",
    "\r\n",
    "ex2c_solution = 3509\r\n",
    "ex2c_graph = CaveGraphV2(example1c_input)\r\n",
    "assert ex2c_solution == ex2c_graph.count_complete_paths()"
   ],
   "outputs": [],
   "metadata": {}
  },
  {
   "cell_type": "code",
   "execution_count": 6,
   "source": [
    "# Part 2 solution\r\n",
    "p2_graph = CaveGraphV2(problem_input)\r\n",
    "p2_graph.count_complete_paths()"
   ],
   "outputs": [
    {
     "output_type": "execute_result",
     "data": {
      "text/plain": [
       "98441"
      ]
     },
     "metadata": {},
     "execution_count": 6
    }
   ],
   "metadata": {}
  }
 ],
 "metadata": {
  "orig_nbformat": 4,
  "language_info": {
   "name": "python",
   "version": "3.7.6",
   "mimetype": "text/x-python",
   "codemirror_mode": {
    "name": "ipython",
    "version": 3
   },
   "pygments_lexer": "ipython3",
   "nbconvert_exporter": "python",
   "file_extension": ".py"
  },
  "kernelspec": {
   "name": "python3",
   "display_name": "Python 3.7.6 64-bit ('py3r': conda)"
  },
  "interpreter": {
   "hash": "a4d16f272948a56a74322b7d603a05d4f37e6ac5a8ca06c2aaf0ba1c89b36634"
  }
 },
 "nbformat": 4,
 "nbformat_minor": 2
}