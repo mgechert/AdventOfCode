{
 "cells": [
  {
   "cell_type": "markdown",
   "metadata": {},
   "source": [
    "## --- Day 11: Dumbo Octopus ---"
   ]
  },
  {
   "cell_type": "code",
   "execution_count": 1,
   "metadata": {},
   "outputs": [],
   "source": [
    "from aoc_utils import str_to_2d_array\n",
    "\n",
    "example1_raw = \"\"\"\n",
    "5483143223\n",
    "2745854711\n",
    "5264556173\n",
    "6141336146\n",
    "6357385478\n",
    "4167524645\n",
    "2176841721\n",
    "6882881134\n",
    "4846848554\n",
    "5283751526\n",
    "\"\"\""
   ]
  },
  {
   "cell_type": "code",
   "execution_count": 2,
   "metadata": {},
   "outputs": [],
   "source": [
    "class DumboMap:\n",
    "    def __init__(self, initial_state):\n",
    "        self._map = str_to_2d_array(initial_state)\n",
    "        self._height = len(self._map)\n",
    "        self._width = len(self._map[0])\n",
    "        self._row_range = range(self._height)\n",
    "        self._col_range = range(self._width)\n",
    "        self._size = self._height * self._width\n",
    "        self._flash_queue = []\n",
    "        self._flash_count = 0\n",
    "        self._steps_completed = 0\n",
    "        self._sync_step = None\n",
    "\n",
    "    def _increment_point(self, row, col):\n",
    "        self._map[row][col] += 1\n",
    "        if self._map[row][col] == 10:\n",
    "            self._flash_queue.append((row, col))\n",
    "\n",
    "    def _increment_adjacent(self, row, col):\n",
    "        for adj_row in range(row-1, row+2):\n",
    "            for adj_col in range(col-1, col+2):\n",
    "                if adj_row in self._row_range\\\n",
    "                    and adj_col in self._col_range\\\n",
    "                    and (adj_row, adj_col) != (row, col):\n",
    "                    self._increment_point(adj_row, adj_col)\n",
    "\n",
    "    def _do_step(self):\n",
    "        # Increment energy for all points in the map\n",
    "        for row in self._row_range:\n",
    "            for col in self._col_range:\n",
    "                self._increment_point(row, col)\n",
    "\n",
    "        # Everything in the queue \"flashes\", which may grow the queue\n",
    "        i = 0\n",
    "        while i < len(self._flash_queue):\n",
    "            row, col = self._flash_queue[i]\n",
    "            self._increment_adjacent(row, col)\n",
    "            self._flash_count += 1\n",
    "            i += 1\n",
    "\n",
    "        # Everything that flashed in this step is a 0 for the next step\n",
    "        for row, col in self._flash_queue:\n",
    "            self._map[row][col] = 0\n",
    "\n",
    "        # Increment step counter\n",
    "        self._steps_completed += 1\n",
    "\n",
    "        # If every octopus flashed in this step, this is a \"sync\"\n",
    "        if len(self._flash_queue) == self._size:\n",
    "            self._sync_step = self._steps_completed \n",
    "\n",
    "        # Finally, clear the queue\n",
    "        self._flash_queue.clear()\n",
    "\n",
    "    def simulate_steps(self, num_steps):\n",
    "        for _ in range(num_steps):\n",
    "            self._do_step()\n",
    "\n",
    "    def find_sync_step(self):\n",
    "        while self._sync_step is None:\n",
    "            self._do_step()\n",
    "        \n",
    "        return self._sync_step\n",
    "\n",
    "    def flash_count(self):\n",
    "        return self._flash_count"
   ]
  },
  {
   "cell_type": "code",
   "execution_count": 3,
   "metadata": {},
   "outputs": [],
   "source": [
    "ex1 = DumboMap(example1_raw)\n",
    "ex1_solution = 1656\n",
    "\n",
    "ex1.simulate_steps(100)\n",
    "\n",
    "assert ex1_solution == ex1.flash_count()"
   ]
  },
  {
   "cell_type": "code",
   "execution_count": 4,
   "metadata": {},
   "outputs": [],
   "source": [
    "problem_input = \"\"\"\n",
    "1254117228\n",
    "4416873224\n",
    "8354381553\n",
    "1372637614\n",
    "5586538553\n",
    "7213333427\n",
    "3571362825\n",
    "1681126243\n",
    "8718312138\n",
    "5254266347\n",
    "\"\"\"\n",
    "p1_map = DumboMap(problem_input)"
   ]
  },
  {
   "cell_type": "code",
   "execution_count": 5,
   "metadata": {},
   "outputs": [
    {
     "name": "stdout",
     "output_type": "stream",
     "text": [
      "1773\n"
     ]
    }
   ],
   "source": [
    "p1_map.simulate_steps(100)\n",
    "print(p1_map.flash_count())"
   ]
  },
  {
   "cell_type": "markdown",
   "metadata": {},
   "source": [
    "## Part 2\n",
    "What is the first step during which all octopuses flash?"
   ]
  },
  {
   "cell_type": "code",
   "execution_count": 6,
   "metadata": {},
   "outputs": [],
   "source": [
    "ex2 = DumboMap(example1_raw)\n",
    "ex2_solution = 195\n",
    "\n",
    "assert ex2_solution == ex2.find_sync_step()"
   ]
  },
  {
   "cell_type": "code",
   "execution_count": 7,
   "metadata": {},
   "outputs": [
    {
     "data": {
      "text/plain": [
       "494"
      ]
     },
     "execution_count": 7,
     "metadata": {},
     "output_type": "execute_result"
    }
   ],
   "source": [
    "p2_map = DumboMap(problem_input)\n",
    "p2_map.find_sync_step()"
   ]
  }
 ],
 "metadata": {
  "interpreter": {
   "hash": "a4d16f272948a56a74322b7d603a05d4f37e6ac5a8ca06c2aaf0ba1c89b36634"
  },
  "kernelspec": {
   "display_name": "Python 3.7.6 64-bit ('py3r': conda)",
   "name": "python3"
  },
  "language_info": {
   "codemirror_mode": {
    "name": "ipython",
    "version": 3
   },
   "file_extension": ".py",
   "mimetype": "text/x-python",
   "name": "python",
   "nbconvert_exporter": "python",
   "pygments_lexer": "ipython3",
   "version": "3.7.4"
  },
  "orig_nbformat": 4
 },
 "nbformat": 4,
 "nbformat_minor": 2
}
