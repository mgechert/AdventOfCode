{
 "cells": [
  {
   "cell_type": "markdown",
   "source": [
    "## --- Day 10: Syntax Scoring ---\r\n",
    "\r\n",
    "You ask the submarine to determine the best route out of the deep-sea cave, but it only replies:\r\n",
    "\r\n",
    "Syntax error in navigation subsystem on line: all of them\r\n",
    "\r\n",
    "All of them?! The damage is worse than you thought. You bring up a copy of the navigation subsystem (your puzzle input).\r\n",
    "\r\n",
    "The navigation subsystem syntax is made of several lines containing chunks. There are one or more chunks on each line, and chunks contain zero or more other chunks. Adjacent chunks are not separated by any delimiter; if one chunk stops, the next chunk (if any) can immediately start. Every chunk must open and close with one of four legal pairs of matching characters:\r\n",
    "\r\n",
    "    If a chunk opens with (, it must close with ).\r\n",
    "    If a chunk opens with [, it must close with ].\r\n",
    "    If a chunk opens with {, it must close with }.\r\n",
    "    If a chunk opens with <, it must close with >.\r\n",
    "\r\n",
    "So, () is a legal chunk that contains no other chunks, as is []. More complex but valid chunks include ([]), {()()()}, <([{}])>, [<>({}){}[([])<>]], and even (((((((((()))))))))).\r\n",
    "\r\n",
    "Some lines are incomplete, but others are corrupted. Find and discard the corrupted lines first.\r\n",
    "\r\n",
    "A corrupted line is one where a chunk closes with the wrong character - that is, where the characters it opens and closes with do not form one of the four legal pairs listed above.\r\n",
    "\r\n",
    "Examples of corrupted chunks include (], {()()()>, (((()))}, and <([]){()}[{}]). Such a chunk can appear anywhere within a line, and its presence causes the whole line to be considered corrupted.\r\n",
    "\r\n",
    "For example, consider the following navigation subsystem:\r\n",
    "````\r\n",
    "[({(<(())[]>[[{[]{<()<>>\r\n",
    "[(()[<>])]({[<{<<[]>>(\r\n",
    "{([(<{}[<>[]}>{[]{[(<()>\r\n",
    "(((({<>}<{<{<>}{[]{[]{}\r\n",
    "[[<[([]))<([[{}[[()]]]\r\n",
    "[{[{({}]{}}([{[{{{}}([]\r\n",
    "{<[[]]>}<{[{[{[]{()[[[]\r\n",
    "[<(<(<(<{}))><([]([]()\r\n",
    "<{([([[(<>()){}]>(<<{{\r\n",
    "<{([{{}}[<[[[<>{}]]]>[]]\r\n",
    "````\r\n",
    "Some of the lines aren't corrupted, just incomplete; you can ignore these lines for now. The remaining five lines are corrupted:\r\n",
    "\r\n",
    "    {([(<{}[<>[]}>{[]{[(<()> - Expected ], but found } instead.\r\n",
    "    [[<[([]))<([[{}[[()]]] - Expected ], but found ) instead.\r\n",
    "    [{[{({}]{}}([{[{{{}}([] - Expected ), but found ] instead.\r\n",
    "    [<(<(<(<{}))><([]([]() - Expected >, but found ) instead.\r\n",
    "    <{([([[(<>()){}]>(<<{{ - Expected ], but found > instead.\r\n",
    "\r\n",
    "Stop at the first incorrect closing character on each corrupted line.\r\n",
    "\r\n",
    "Did you know that syntax checkers actually have contests to see who can get the high score for syntax errors in a file? It's true! To calculate the syntax error score for a line, take the first illegal character on the line and look it up in the following table:\r\n",
    "\r\n",
    "    ): 3 points.\r\n",
    "    ]: 57 points.\r\n",
    "    }: 1197 points.\r\n",
    "    >: 25137 points.\r\n",
    "\r\n",
    "In the above example, an illegal ) was found twice (2*3 = 6 points), an illegal ] was found once (57 points), an illegal } was found once (1197 points), and an illegal > was found once (25137 points). So, the total syntax error score for this file is 6+57+1197+25137 = 26397 points!\r\n",
    "\r\n",
    "Find the first illegal character in each corrupted line of the navigation subsystem. What is the total syntax error score for those errors?\r\n"
   ],
   "metadata": {}
  },
  {
   "cell_type": "code",
   "execution_count": 1,
   "source": [
    "def evaluate_line(line, verbose=False):\r\n",
    "    # Parse a line to find the illegal delimiter (if any) and return either:\r\n",
    "    # A) the illegal delimiter, when the line is \"corrupt\" OR\r\n",
    "    # B) the stack (list) of unclosed delimiters when the line is incomplete OR\r\n",
    "    # C) empty list if the line is both complete and uncorrupt\r\n",
    "    delimiters = { \")\": \"(\", \"]\": \"[\", \"}\": \"{\", \">\": \"<\"}\r\n",
    "    stack = []\r\n",
    "\r\n",
    "    for c in line:\r\n",
    "        if c in delimiters.values():\r\n",
    "            # Opening delimiter: add to stack\r\n",
    "            stack.append(c)\r\n",
    "        elif c in delimiters:\r\n",
    "            if stack[-1] != delimiters[c]:\r\n",
    "                # Unexpected closing delimiter, stop and return\r\n",
    "                expected = next(k for k, v in delimiters.items() if v == stack[-1])\r\n",
    "                if verbose:\r\n",
    "                    print(f\"{line} - Expected {expected} but found {c} instead\")\r\n",
    "                return c\r\n",
    "            elif len(stack) > 0:\r\n",
    "                # Expected delimiter, pop the corresponding opener and continue\r\n",
    "                stack.pop()\r\n",
    "            else:\r\n",
    "                # Shouldn't get here in theory\r\n",
    "                print(f\"Illegal delimiter {c} without opening delimiter!\")\r\n",
    "                raise ValueError\r\n",
    "    \r\n",
    "    return stack\r\n",
    "            \r\n",
    "def evaluate_lines(lines):\r\n",
    "    illegal_character_score = {\")\": 3, \"]\": 57, \"}\": 1197, \">\": 25137}\r\n",
    "    error_score = 0\r\n",
    "    autocomplete_scores = []\r\n",
    "\r\n",
    "    for line in lines:\r\n",
    "        result = evaluate_line(line)\r\n",
    "        if type(result) == str:\r\n",
    "            # Illegal character found\r\n",
    "            error_score += illegal_character_score[result]\r\n",
    "        elif type(result) == list and len(result) > 0:\r\n",
    "            # Incomplete line found\r\n",
    "            line_score = get_completion_score(result)\r\n",
    "            autocomplete_scores.append(line_score)\r\n",
    "        else:\r\n",
    "            print(\"Legal line\", line)\r\n",
    "\r\n",
    "    return (error_score, autocomplete_scores)\r\n",
    "\r\n",
    "def get_completion_score(stack):\r\n",
    "    delimiter_score = {\"(\": 1, \"[\": 2, \"{\": 3, \"<\": 4}\r\n",
    "    score = 0\r\n",
    "\r\n",
    "    while len(stack) > 0:\r\n",
    "        score = 5 * score + delimiter_score[stack.pop()]\r\n",
    "    \r\n",
    "    return score"
   ],
   "outputs": [],
   "metadata": {}
  },
  {
   "cell_type": "code",
   "execution_count": 2,
   "source": [
    "example1_input = \"\"\"\r\n",
    "[({(<(())[]>[[{[]{<()<>>\r\n",
    "[(()[<>])]({[<{<<[]>>(\r\n",
    "{([(<{}[<>[]}>{[]{[(<()>\r\n",
    "(((({<>}<{<{<>}{[]{[]{}\r\n",
    "[[<[([]))<([[{}[[()]]]\r\n",
    "[{[{({}]{}}([{[{{{}}([]\r\n",
    "{<[[]]>}<{[{[{[]{()[[[]\r\n",
    "[<(<(<(<{}))><([]([]()\r\n",
    "<{([([[(<>()){}]>(<<{{\r\n",
    "<{([{{}}[<[[[<>{}]]]>[]]\r\n",
    "\"\"\".strip().split(\"\\n\")\r\n",
    "example1_solution = 26397\r\n",
    "\r\n",
    "ex1_error_score, _ = evaluate_lines(example1_input)\r\n",
    "\r\n",
    "assert example1_solution == ex1_error_score"
   ],
   "outputs": [],
   "metadata": {}
  },
  {
   "cell_type": "code",
   "execution_count": 3,
   "source": [
    "with open(\"./inputs/Day10.txt\") as f:\r\n",
    "    problem_input = [line.strip() for line in f.readlines()]\r\n",
    "\r\n",
    "assert 102 == len(problem_input)"
   ],
   "outputs": [],
   "metadata": {}
  },
  {
   "cell_type": "code",
   "execution_count": 4,
   "source": [
    "p1_error_score, _ = evaluate_lines(problem_input)\r\n",
    "p1_error_score"
   ],
   "outputs": [
    {
     "output_type": "execute_result",
     "data": {
      "text/plain": [
       "464991"
      ]
     },
     "metadata": {},
     "execution_count": 4
    }
   ],
   "metadata": {}
  },
  {
   "cell_type": "markdown",
   "source": [
    "## --- Part Two ---\r\n",
    "\r\n",
    "Now, discard the corrupted lines. The remaining lines are incomplete.\r\n",
    "\r\n",
    "Incomplete lines don't have any incorrect characters - instead, they're missing some closing characters at the end of the line. To repair the navigation subsystem, you just need to figure out the sequence of closing characters that complete all open chunks in the line.\r\n",
    "\r\n",
    "You can only use closing characters (), ], }, or >), and you must add them in the correct order so that only legal pairs are formed and all chunks end up closed.\r\n",
    "\r\n",
    "In the example above, there are five incomplete lines:\r\n",
    "\r\n",
    "    [({(<(())[]>[[{[]{<()<>> - Complete by adding }}]])})].\r\n",
    "    [(()[<>])]({[<{<<[]>>( - Complete by adding )}>]}).\r\n",
    "    (((({<>}<{<{<>}{[]{[]{} - Complete by adding }}>}>)))).\r\n",
    "    {<[[]]>}<{[{[{[]{()[[[] - Complete by adding ]]}}]}]}>.\r\n",
    "    <{([{{}}[<[[[<>{}]]]>[]] - Complete by adding ])}>.\r\n",
    "    \r\n",
    "Did you know that autocomplete tools also have contests? It's true! The score is determined by considering the completion string character-by-character. Start with a total score of 0. Then, for each character, multiply the total score by 5 and then increase the total score by the point value given for the character in the following table:\r\n",
    "\r\n",
    "    ): 1 point.\r\n",
    "    ]: 2 points.\r\n",
    "    }: 3 points.\r\n",
    "    >: 4 points.\r\n",
    "\r\n",
    "So, the last completion string above - ])}> - would be scored as follows:\r\n",
    "\r\n",
    "    Start with a total score of 0.\r\n",
    "    Multiply the total score by 5 to get 0, then add the value of ] (2) to get a new total score of 2.\r\n",
    "    Multiply the total score by 5 to get 10, then add the value of ) (1) to get a new total score of 11.\r\n",
    "    Multiply the total score by 5 to get 55, then add the value of } (3) to get a new total score of 58.\r\n",
    "    Multiply the total score by 5 to get 290, then add the value of > (4) to get a new total score of 294.\r\n",
    "\r\n",
    "The five lines' completion strings have total scores as follows:\r\n",
    "\r\n",
    "    }}]])})] - 288957 total points.\r\n",
    "    )}>]}) - 5566 total points.\r\n",
    "    }}>}>)))) - 1480781 total points.\r\n",
    "    ]]}}]}]}> - 995444 total points.\r\n",
    "    ])}> - 294 total points.\r\n",
    "\r\n",
    "Autocomplete tools are an odd bunch: the winner is found by sorting all of the scores and then taking the middle score. (There will always be an odd number of scores to consider.) In this example, the middle score is 288957 because there are the same number of scores smaller and larger than it.\r\n",
    "\r\n",
    "Find the completion string for each incomplete line, score the completion strings, and sort the scores. What is the middle score?\r\n"
   ],
   "metadata": {}
  },
  {
   "cell_type": "code",
   "execution_count": 5,
   "source": [
    "example2_solution = 288957\r\n",
    "\r\n",
    "_, completion_scores = evaluate_lines(example1_input)\r\n",
    "assert example2_solution == sorted(completion_scores)[(len(completion_scores)-1)//2]"
   ],
   "outputs": [],
   "metadata": {}
  },
  {
   "cell_type": "code",
   "execution_count": 6,
   "source": [
    "_, p2_completion_scores = evaluate_lines(problem_input)\r\n",
    "sorted(p2_completion_scores)[(len(p2_completion_scores)-1)//2]"
   ],
   "outputs": [
    {
     "output_type": "execute_result",
     "data": {
      "text/plain": [
       "3662008566"
      ]
     },
     "metadata": {},
     "execution_count": 6
    }
   ],
   "metadata": {}
  }
 ],
 "metadata": {
  "orig_nbformat": 4,
  "language_info": {
   "name": "python",
   "version": "3.7.6",
   "mimetype": "text/x-python",
   "codemirror_mode": {
    "name": "ipython",
    "version": 3
   },
   "pygments_lexer": "ipython3",
   "nbconvert_exporter": "python",
   "file_extension": ".py"
  },
  "kernelspec": {
   "name": "python3",
   "display_name": "Python 3.7.6 64-bit ('py3r': conda)"
  },
  "interpreter": {
   "hash": "a4d16f272948a56a74322b7d603a05d4f37e6ac5a8ca06c2aaf0ba1c89b36634"
  }
 },
 "nbformat": 4,
 "nbformat_minor": 2
}