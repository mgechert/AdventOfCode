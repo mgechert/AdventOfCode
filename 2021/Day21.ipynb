{
 "cells": [
  {
   "cell_type": "markdown",
   "source": [
    "## --- Day 21: Dirac Dice ---\r\n",
    "\r\n",
    "Play a practice game using the deterministic 100-sided die. The moment either player wins, what do you get if you multiply the score of the losing player by the number of times the die was rolled during the game?"
   ],
   "metadata": {}
  },
  {
   "cell_type": "code",
   "execution_count": 1,
   "source": [
    "class DiracDice:\r\n",
    "    def __init__(self, start_positions, dice_size=100, board_size=10):\r\n",
    "        self.DICE = dice_size\r\n",
    "        self.BOARD = board_size\r\n",
    "        self.positions = start_positions\r\n",
    "        self.scores = [0] * len(self.positions)\r\n",
    "        self.turn = 0\r\n",
    "\r\n",
    "    def play_round(self, verbose=False):\r\n",
    "        self.turn += 1\r\n",
    "        rolled_count = 3 * self.turn - 2\r\n",
    "        rolls = tuple(self.DICE if (rolled_count+i)%self.DICE==0 else (rolled_count+i)%self.DICE for i in range(3))\r\n",
    "\r\n",
    "        player = 1 if self.turn%2 == 1 else 2\r\n",
    "        next_pos = (self.positions[player-1] + sum(rolls)) % 10\r\n",
    "        next_pos = self.BOARD if next_pos%self.BOARD == 0 else next_pos\r\n",
    "        self.positions[player-1] = next_pos\r\n",
    "        self.scores[player-1] += next_pos\r\n",
    "        if verbose:\r\n",
    "            print(f\"Player {player} rolls {'+'.join(str(r) for r in rolls)} and moves to space {next_pos} for a total score of {self.scores[player-1]}\")\r\n",
    "\r\n",
    "    def play(self, verbose=False):\r\n",
    "        while max(self.scores) < 1000:\r\n",
    "            self.play_round(verbose=verbose)\r\n",
    "\r\n",
    "        losing_score = min(self.scores)\r\n",
    "        roll_count = 3 * self.turn\r\n",
    "\r\n",
    "        return losing_score * roll_count"
   ],
   "outputs": [],
   "metadata": {}
  },
  {
   "cell_type": "code",
   "execution_count": 2,
   "source": [
    "ex1 = DiracDice(start_positions=[4,8], dice_size=10)\r\n",
    "ex1.play()\r\n"
   ],
   "outputs": [
    {
     "output_type": "execute_result",
     "data": {
      "text/plain": [
       "739785"
      ]
     },
     "metadata": {},
     "execution_count": 2
    }
   ],
   "metadata": {}
  },
  {
   "cell_type": "code",
   "execution_count": 3,
   "source": [
    "# Part 1 solution\r\n",
    "p1 = DiracDice(start_positions=[1,3])\r\n",
    "p1.play()"
   ],
   "outputs": [
    {
     "output_type": "execute_result",
     "data": {
      "text/plain": [
       "897798"
      ]
     },
     "metadata": {},
     "execution_count": 3
    }
   ],
   "metadata": {}
  },
  {
   "cell_type": "markdown",
   "source": [
    "## --- Part Two ---\r\n",
    "\r\n",
    "Using your given starting positions, determine every possible outcome. Find the player that wins in more universes; in how many universes does that player win?\r\n",
    "\r\n",
    "__Got unstuck with a useful assist from [/r/adventofcode](https://www.reddit.com/r/adventofcode/comments/rl6p8y/comment/hpinq8a/?utm_source=share&utm_medium=web2x&context=3)!__"
   ],
   "metadata": {}
  },
  {
   "cell_type": "code",
   "execution_count": 4,
   "source": [
    "from itertools import product\r\n",
    "from collections import Counter, defaultdict\r\n",
    "\r\n",
    "class QuantumDirac:\r\n",
    "    def __init__(self, start_positions):\r\n",
    "        p1_start, p2_start = start_positions\r\n",
    "        self.states = {((p1_start, p2_start), (0, 0)): 1}\r\n",
    "        self.wins = [0, 0]\r\n",
    "        self.moves = Counter([sum(roll) for roll in product((1,2,3), repeat=3)])\r\n",
    "        self.turn = 0\r\n",
    "\r\n",
    "    def play_turn(self):\r\n",
    "        next_states = defaultdict(int)\r\n",
    "        for ((positions, scores), state_count), (move, multiplier) in product(self.states.items(), self.moves.items()):\r\n",
    "            next_pos = (positions[self.turn%2] + move) % 10 or 10\r\n",
    "            next_score = scores[self.turn%2] + next_pos\r\n",
    "\r\n",
    "            if next_score >= 21:\r\n",
    "                self.wins[self.turn%2] += state_count * multiplier\r\n",
    "            elif self.turn%2 == 0:\r\n",
    "                new_positions = (next_pos, positions[1])\r\n",
    "                new_scores = (next_score, scores[1])\r\n",
    "                next_states[(new_positions, new_scores)] += state_count * multiplier\r\n",
    "            else:\r\n",
    "                new_positions = (positions[0], next_pos)\r\n",
    "                new_scores = (scores[0], next_score)\r\n",
    "                next_states[(new_positions, new_scores)] += state_count * multiplier\r\n",
    "\r\n",
    "\r\n",
    "        self.turn += 1\r\n",
    "        self.states = next_states\r\n",
    "\r\n",
    "    def play(self, verbose=False):\r\n",
    "        # Play until all possible outcomes have been reached\r\n",
    "        while self.states:\r\n",
    "            self.play_turn()\r\n",
    "            if verbose:\r\n",
    "                print(f\"{self.turn} turns, {len(self.states)} states, wins {self.wins}\")\r\n",
    "\r\n"
   ],
   "outputs": [],
   "metadata": {}
  },
  {
   "cell_type": "code",
   "execution_count": 5,
   "source": [
    "# Example\r\n",
    "ex2 = QuantumDirac(start_positions=(4, 8))\r\n",
    "ex2.play(verbose=True)\r\n",
    "assert 444356092776315 == max(ex2.wins)"
   ],
   "outputs": [
    {
     "output_type": "stream",
     "name": "stdout",
     "text": [
      "1 turns, 7 states, wins [0, 0]\n",
      "2 turns, 49 states, wins [0, 0]\n",
      "3 turns, 343 states, wins [0, 0]\n",
      "4 turns, 2401 states, wins [0, 0]\n",
      "5 turns, 5439 states, wins [3359232, 0]\n",
      "6 turns, 12210 states, wins [3359232, 26079750]\n",
      "7 turns, 10120 states, wins [4483386758, 26079750]\n",
      "8 turns, 8464 states, wins [4483386758, 36354415673]\n",
      "9 turns, 6440 states, wins [822385675458, 36354415673]\n",
      "10 turns, 4900 states, wins [822385675458, 5662240503840]\n",
      "11 turns, 3430 states, wins [35964236460742, 5662240503840]\n",
      "12 turns, 2401 states, wins [35964236460742, 108506624132684]\n",
      "13 turns, 1225 states, wins [310533628712037, 108506624132684]\n",
      "14 turns, 625 states, wins [310533628712037, 323600927041598]\n",
      "15 turns, 250 states, wins [442449169460193, 323600927041598]\n",
      "16 turns, 100 states, wins [442449169460193, 341948699931462]\n",
      "17 turns, 10 states, wins [444356028596613, 341948699931462]\n",
      "18 turns, 1 states, wins [444356028596613, 341960390180808]\n",
      "19 turns, 0 states, wins [444356092776315, 341960390180808]\n"
     ]
    }
   ],
   "metadata": {}
  },
  {
   "cell_type": "code",
   "execution_count": 6,
   "source": [
    "# Part 2 solution\r\n",
    "p2 = QuantumDirac(start_positions=[1,3])\r\n",
    "p2.play(verbose=True)\r\n",
    "print(\"Solution:\", max(p2.wins))"
   ],
   "outputs": [
    {
     "output_type": "stream",
     "name": "stdout",
     "text": [
      "1 turns, 7 states, wins [0, 0]\n",
      "2 turns, 49 states, wins [0, 0]\n",
      "3 turns, 343 states, wins [0, 0]\n",
      "4 turns, 2401 states, wins [0, 0]\n",
      "5 turns, 4704 states, wins [2877363, 0]\n",
      "6 turns, 9984 states, wins [2877363, 84990136]\n",
      "7 turns, 8216 states, wins [3738205925, 84990136]\n",
      "8 turns, 7268 states, wins [3738205925, 43741733126]\n",
      "9 turns, 4784 states, wins [442832062105, 43741733126]\n",
      "10 turns, 3640 states, wins [442832062105, 1842440371926]\n",
      "11 turns, 2170 states, wins [11660881466544, 1842440371926]\n",
      "12 turns, 1519 states, wins [11660881466544, 14467838452485]\n",
      "13 turns, 735 states, wins [42905421787488, 14467838452485]\n",
      "14 turns, 375 states, wins [42905421787488, 22307603586685]\n",
      "15 turns, 75 states, wins [48851319610912, 22307603586685]\n",
      "16 turns, 30 states, wins [48851319610912, 22432440913119]\n",
      "17 turns, 0 states, wins [48868319769358, 22432440913119]\n",
      "Solution: 48868319769358\n"
     ]
    }
   ],
   "metadata": {}
  }
 ],
 "metadata": {
  "orig_nbformat": 4,
  "language_info": {
   "name": "python",
   "version": "3.7.6",
   "mimetype": "text/x-python",
   "codemirror_mode": {
    "name": "ipython",
    "version": 3
   },
   "pygments_lexer": "ipython3",
   "nbconvert_exporter": "python",
   "file_extension": ".py"
  },
  "kernelspec": {
   "name": "python3",
   "display_name": "Python 3.7.6 64-bit ('py3r': conda)"
  },
  "interpreter": {
   "hash": "a4d16f272948a56a74322b7d603a05d4f37e6ac5a8ca06c2aaf0ba1c89b36634"
  }
 },
 "nbformat": 4,
 "nbformat_minor": 2
}