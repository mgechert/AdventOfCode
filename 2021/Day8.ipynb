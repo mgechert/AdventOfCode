{
 "cells": [
  {
   "cell_type": "markdown",
   "source": [
    "## --- Day 8: Seven Segment Search ---\n",
    "\n",
    "You barely reach the safety of the cave when the whale smashes into the cave mouth, collapsing it. Sensors indicate another exit to this cave at a much greater depth, so you have no choice but to press on.\n",
    "\n",
    "As your submarine slowly makes its way through the cave system, you notice that the four-digit seven-segment displays in your submarine are malfunctioning; they must have been damaged during the escape. You'll be in a lot of trouble without them, so you'd better figure out what's wrong.\n",
    "\n",
    "Each digit of a seven-segment display is rendered by turning on or off any of seven segments named a through g:\n",
    "```\n",
    "  0:      1:      2:      3:      4:\n",
    " aaaa    ....    aaaa    aaaa    ....\n",
    "b    c  .    c  .    c  .    c  b    c\n",
    "b    c  .    c  .    c  .    c  b    c\n",
    " ....    ....    dddd    dddd    dddd\n",
    "e    f  .    f  e    .  .    f  .    f\n",
    "e    f  .    f  e    .  .    f  .    f\n",
    " gggg    ....    gggg    gggg    ....\n",
    "\n",
    "  5:      6:      7:      8:      9:\n",
    " aaaa    aaaa    aaaa    aaaa    aaaa\n",
    "b    .  b    .  .    c  b    c  b    c\n",
    "b    .  b    .  .    c  b    c  b    c\n",
    " dddd    dddd    ....    dddd    dddd\n",
    ".    f  e    f  .    f  e    f  .    f\n",
    ".    f  e    f  .    f  e    f  .    f\n",
    " gggg    gggg    ....    gggg    gggg\n",
    " ```\n",
    " So, to render a 1, only segments c and f would be turned on; the rest would be off. To render a 7, only segments a, c, and f would be turned on.\n",
    "\n",
    "The problem is that the signals which control the segments have been mixed up on each display. The submarine is still trying to display numbers by producing output on signal wires a through g, but those wires are connected to segments randomly. Worse, the wire/segment connections are mixed up separately for each four-digit display! (All of the digits within a display use the same connections, though.)\n",
    "\n",
    "So, you might know that only signal wires b and g are turned on, but that doesn't mean segments b and g are turned on: the only digit that uses two segments is 1, so it must mean segments c and f are meant to be on. With just that information, you still can't tell which wire (b/g) goes to which segment (c/f). For that, you'll need to collect more information.\n",
    "\n",
    "For each display, you watch the changing signals for a while, make a note of all ten unique signal patterns you see, and then write down a single four digit output value (your puzzle input). Using the signal patterns, you should be able to work out which pattern corresponds to which digit.\n",
    "\n",
    "For example, here is what you might see in a single entry in your notes:\n",
    "```\n",
    "acedgfb cdfbe gcdfa fbcad dab cefabd cdfgeb eafb cagedb ab |\n",
    "cdfeb fcadb cdfeb cdbaf\n",
    "```\n",
    "(The entry is wrapped here to two lines so it fits; in your notes, it will all be on a single line.)\n",
    "\n",
    "Each entry consists of ten unique signal patterns, a | delimiter, and finally the four digit output value. Within an entry, the same wire/segment connections are used (but you don't know what the connections actually are). The unique signal patterns correspond to the ten different ways the submarine tries to render a digit using the current wire/segment connections. Because 7 is the only digit that uses three segments, dab in the above example means that to render a 7, signal lines d, a, and b are on. Because 4 is the only digit that uses four segments, eafb means that to render a 4, signal lines e, a, f, and b are on.\n",
    "\n",
    "Using this information, you should be able to work out which combination of signal wires corresponds to each of the ten digits. Then, you can decode the four digit output value. Unfortunately, in the above example, all of the digits in the output value (cdfeb fcadb cdfeb cdbaf) use five segments and are more difficult to deduce.\n",
    "For now, focus on the easy digits. Consider this larger example:\n",
    "```\n",
    "be cfbegad cbdgef fgaecd cgeb fdcge agebfd fecdb fabcd edb |\n",
    "fdgacbe cefdb cefbgd gcbe\n",
    "edbfga begcd cbg gc gcadebf fbgde acbgfd abcde gfcbed gfec |\n",
    "fcgedb cgb dgebacf gc\n",
    "fgaebd cg bdaec gdafb agbcfd gdcbef bgcad gfac gcb cdgabef |\n",
    "cg cg fdcagb cbg\n",
    "fbegcd cbd adcefb dageb afcb bc aefdc ecdab fgdeca fcdbega |\n",
    "efabcd cedba gadfec cb\n",
    "aecbfdg fbg gf bafeg dbefa fcge gcbea fcaegb dgceab fcbdga |\n",
    "gecf egdcabf bgf bfgea\n",
    "fgeab ca afcebg bdacfeg cfaedg gcfdb baec bfadeg bafgc acf |\n",
    "gebdcfa ecba ca fadegcb\n",
    "dbcfg fgd bdegcaf fgec aegbdf ecdfab fbedc dacgb gdcebf gf |\n",
    "cefg dcbef fcge gbcadfe\n",
    "bdfegc cbegaf gecbf dfcage bdacg ed bedf ced adcbefg gebcd |\n",
    "ed bcgafe cdgba cbgef\n",
    "egadfb cdbfeg cegd fecab cgb gbdefca cg fgcdab egfdb bfceg |\n",
    "gbdfcae bgc cg cgb\n",
    "gcafb gcf dcaebfg ecagb gf abcdeg gaef cafbge fdbac fegbdc |\n",
    "fgae cfgab fg bagce\n",
    "```\n",
    "Because the digits 1, 4, 7, and 8 each use a unique number of segments, you should be able to tell which combinations of signals correspond to those digits. Counting only digits in the output values (the part after | on each line), in the above example, there are 26 instances of digits that use a unique number of segments (highlighted above).\n",
    "\n",
    "In the output values, how many times do digits 1, 4, 7, or 8 appear?"
   ],
   "metadata": {}
  },
  {
   "cell_type": "code",
   "execution_count": 1,
   "source": [
    "def read_input(filename):\r\n",
    "  output = []\r\n",
    "  with open(filename) as f:\r\n",
    "    for line in f.readlines():\r\n",
    "      output.extend(line.split(\"|\")[1].strip().split())\r\n",
    "  return output\r\n",
    "\r\n",
    "def count_unique_segment_nos(signals):\r\n",
    "  uniques = 0\r\n",
    "  for signal in signals:\r\n",
    "    if len(signal) in [2, 3, 4, 7]:\r\n",
    "      uniques += 1\r\n",
    "\r\n",
    "  return uniques"
   ],
   "outputs": [],
   "metadata": {}
  },
  {
   "cell_type": "code",
   "execution_count": 2,
   "source": [
    "example1_input = read_input(\"./inputs/Day8ex.txt\")\r\n",
    "count_unique_segment_nos(example1_input)"
   ],
   "outputs": [
    {
     "output_type": "execute_result",
     "data": {
      "text/plain": [
       "26"
      ]
     },
     "metadata": {},
     "execution_count": 2
    }
   ],
   "metadata": {}
  },
  {
   "cell_type": "code",
   "execution_count": 3,
   "source": [
    "problem1_input = read_input(\"./inputs/Day8.txt\")\r\n",
    "count_unique_segment_nos(problem1_input)"
   ],
   "outputs": [
    {
     "output_type": "execute_result",
     "data": {
      "text/plain": [
       "412"
      ]
     },
     "metadata": {},
     "execution_count": 3
    }
   ],
   "metadata": {}
  },
  {
   "cell_type": "markdown",
   "source": [
    "### --- Part Two ---\r\n",
    "\r\n",
    "Through a little deduction, you should now be able to determine the remaining digits. Consider again the first example above:\r\n",
    "\r\n",
    "acedgfb cdfbe gcdfa fbcad dab cefabd cdfgeb eafb cagedb ab |\r\n",
    "cdfeb fcadb cdfeb cdbaf\r\n",
    "\r\n",
    "After some careful analysis, the mapping between signal wires and segments only make sense in the following configuration:\r\n",
    "```\r\n",
    " dddd\r\n",
    "e    a\r\n",
    "e    a\r\n",
    " ffff\r\n",
    "g    b\r\n",
    "g    b\r\n",
    " cccc\r\n",
    "```\r\n",
    "So, the unique signal patterns would correspond to the following digits:\r\n",
    "```\r\n",
    "    acedgfb: 8\r\n",
    "    cdfbe: 5\r\n",
    "    gcdfa: 2\r\n",
    "    fbcad: 3\r\n",
    "    dab: 7\r\n",
    "    cefabd: 9\r\n",
    "    cdfgeb: 6\r\n",
    "    eafb: 4\r\n",
    "    cagedb: 0\r\n",
    "    ab: 1\r\n",
    "```\r\n",
    "Then, the four digits of the output value can be decoded:\r\n",
    "```\r\n",
    "    cdfeb: 5\r\n",
    "    fcadb: 3\r\n",
    "    cdfeb: 5\r\n",
    "    cdbaf: 3\r\n",
    "```\r\n",
    "Therefore, the output value for this entry is 5353.\r\n",
    "\r\n",
    "Following this same process for each entry in the second, larger example above, the output value of each entry can be determined:\r\n",
    "```\r\n",
    "    fdgacbe cefdb cefbgd gcbe: 8394\r\n",
    "    fcgedb cgb dgebacf gc: 9781\r\n",
    "    cg cg fdcagb cbg: 1197\r\n",
    "    efabcd cedba gadfec cb: 9361\r\n",
    "    gecf egdcabf bgf bfgea: 4873\r\n",
    "    gebdcfa ecba ca fadegcb: 8418\r\n",
    "    cefg dcbef fcge gbcadfe: 4548\r\n",
    "    ed bcgafe cdgba cbgef: 1625\r\n",
    "    gbdfcae bgc cg cgb: 8717\r\n",
    "    fgae cfgab fg bagce: 4315\r\n",
    "```\r\n",
    "Adding all of the output values in this larger example produces 61229.\r\n",
    "\r\n",
    "For each entry, determine all of the wire/segment connections and decode the four-digit output values. What do you get if you add up all of the output values?"
   ],
   "metadata": {}
  },
  {
   "cell_type": "code",
   "execution_count": 4,
   "source": [
    "def solve_file(filename):\r\n",
    "    rows = read_rows(filename)\r\n",
    "    result = 0\r\n",
    "\r\n",
    "    for row in rows:\r\n",
    "        signals, reading = row\r\n",
    "        solution = decode_signals(signals)\r\n",
    "        result += unscramble_reading(reading, solution)\r\n",
    "    \r\n",
    "    return result\r\n",
    "\r\n",
    "def read_rows(filename):\r\n",
    "    rows = []\r\n",
    "    with open(filename) as f:\r\n",
    "        for line in f.readlines():\r\n",
    "            line = line.strip().split(\"|\")\r\n",
    "            row = (line[0].split(), line[1].strip())\r\n",
    "            rows.append(row)\r\n",
    "    return rows\r\n",
    "\r\n",
    "def decode_signals(signals):\r\n",
    "    solved = [None for _ in range(10)]\r\n",
    "    unsolved = [set(signal) for signal in signals]\r\n",
    "\r\n",
    "    # Identify \"1\", \"4\", \"7\", \"8\" by unique set size\r\n",
    "    solved[1] = next(num for num in unsolved if len(num) == 2)\r\n",
    "    solved[4] = next(num for num in unsolved if len(num) == 4)\r\n",
    "    solved[7] = next(num for num in unsolved if len(num) == 3)\r\n",
    "    solved[8] = next(num for num in unsolved if len(num) == 7)\r\n",
    "\r\n",
    "    # \"2\" has length 5, 2 segment intersection with \"4\"\r\n",
    "    solved[2] = next(num for num in unsolved if len(num) == 5\r\n",
    "                     and len(num.intersection(solved[4])) == 2)\r\n",
    "    \r\n",
    "    # \"3\" has length 5, 3 segment intersection with \"7\"\r\n",
    "    solved[3] = next(num for num in unsolved if len(num) == 5\r\n",
    "                     and len(num.intersection(solved[7])) == 3)\r\n",
    "\r\n",
    "    # \"5\" is the remaining digit with length 5 after finding \"2\" and \"3\"\r\n",
    "    solved[5] = next(num for num in unsolved if len(num) == 5\r\n",
    "                     and num not in solved)\r\n",
    "\r\n",
    "    # \"0\" has length 6, 4 segment intersection with \"5\"\r\n",
    "    solved[0] = next(num for num in unsolved if len(num) == 6\r\n",
    "                     and len(num.intersection(solved[5])) == 4)\r\n",
    "\r\n",
    "    # \"9\" has length 6, 5 segment intersection with \"3\"\r\n",
    "    solved[9] = next(num for num in unsolved if len(num) == 6\r\n",
    "                     and len(num.intersection(solved[3])) == 5)\r\n",
    "\r\n",
    "    # \"6\" is the last remaining unsolved digit\r\n",
    "    solved[6] = next(num for num in unsolved if num not in solved)\r\n",
    "\r\n",
    "    # Quick check - every input set should appear in the solution\r\n",
    "    for unsolved_set in unsolved:\r\n",
    "        assert unsolved_set in solved\r\n",
    "\r\n",
    "    return solved\r\n",
    "\r\n",
    "def unscramble_reading(reading, solution):\r\n",
    "    digits = reading.split()\r\n",
    "    result = 0\r\n",
    "    for i in range(len(digits)):\r\n",
    "        digit = solution.index(set(digits[i]))\r\n",
    "        result += digit * 10**(len(digits)-i-1)\r\n",
    "\r\n",
    "    return result\r\n"
   ],
   "outputs": [],
   "metadata": {}
  },
  {
   "cell_type": "code",
   "execution_count": 5,
   "source": [
    "# Part 2 example\r\n",
    "signals = 'acedgfb cdfbe gcdfa fbcad dab cefabd cdfgeb eafb cagedb ab'.split()\r\n",
    "reading = 'cdfeb fcadb cdfeb cdbaf'\r\n",
    "solution = decode_signals(signals)\r\n",
    "assert 5353 == unscramble_reading(reading, solution)"
   ],
   "outputs": [],
   "metadata": {}
  },
  {
   "cell_type": "code",
   "execution_count": 6,
   "source": [
    "example2_solution = 61229\r\n",
    "\r\n",
    "assert example2_solution == solve_file(\"./inputs/Day8ex.txt\")"
   ],
   "outputs": [],
   "metadata": {}
  },
  {
   "cell_type": "code",
   "execution_count": 7,
   "source": [
    "# Part 2 solution\r\n",
    "solve_file(\"./inputs/Day8.txt\")"
   ],
   "outputs": [
    {
     "output_type": "execute_result",
     "data": {
      "text/plain": [
       "978171"
      ]
     },
     "metadata": {},
     "execution_count": 7
    }
   ],
   "metadata": {}
  }
 ],
 "metadata": {
  "interpreter": {
   "hash": "a4d16f272948a56a74322b7d603a05d4f37e6ac5a8ca06c2aaf0ba1c89b36634"
  },
  "kernelspec": {
   "name": "python3",
   "display_name": "Python 3.7.6 64-bit ('py3r': conda)"
  },
  "language_info": {
   "codemirror_mode": {
    "name": "ipython",
    "version": 3
   },
   "file_extension": ".py",
   "mimetype": "text/x-python",
   "name": "python",
   "nbconvert_exporter": "python",
   "pygments_lexer": "ipython3",
   "version": "3.7.6"
  },
  "orig_nbformat": 4
 },
 "nbformat": 4,
 "nbformat_minor": 2
}