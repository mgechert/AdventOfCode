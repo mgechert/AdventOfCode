{
 "cells": [
  {
   "cell_type": "markdown",
   "source": [
    "## --- Day 13: Transparent Origami ---\r\n",
    "\r\n",
    "How many dots are visible after completing just the first fold instruction on your transparent paper?"
   ],
   "metadata": {}
  },
  {
   "cell_type": "code",
   "execution_count": 1,
   "source": [
    "class DotMap:\r\n",
    "    def __init__(self, filename):\r\n",
    "        self._points = set()\r\n",
    "        self._folds = []\r\n",
    "\r\n",
    "        with open(filename) as f:\r\n",
    "            for line in f.readlines():\r\n",
    "                if line[0].isdigit():\r\n",
    "                    x, y = line.split(\",\")\r\n",
    "                    self._points.update([(int(x), int(y))])\r\n",
    "                elif line.startswith(\"fold along \"):\r\n",
    "                    axis, value = line[11:].split(\"=\")\r\n",
    "                    self._folds.append((axis, int(value)))\r\n",
    "\r\n",
    "    def _fold_x(self, x_axis):\r\n",
    "        transpose_points = list(filter(lambda point: point[0] > x_axis, self._points))\r\n",
    "        for point in transpose_points:\r\n",
    "            x, y = point\r\n",
    "            new_x = x_axis - (x - x_axis)\r\n",
    "            self._points.remove(point)\r\n",
    "            self._points.update([(new_x, y)])\r\n",
    "\r\n",
    "    def _fold_y(self, y_axis):\r\n",
    "        transpose_points = list(filter(lambda point: point[1] > y_axis, self._points))\r\n",
    "        for point in transpose_points:\r\n",
    "            x, y = point\r\n",
    "            new_y = y_axis - (y - y_axis)\r\n",
    "            self._points.remove(point)\r\n",
    "            self._points.update([(x, new_y)])\r\n",
    "\r\n",
    "    def do_fold(self):\r\n",
    "        if len(self._folds) == 0:\r\n",
    "            return\r\n",
    "            \r\n",
    "        axis, value = self._folds.pop(0)\r\n",
    "        if axis == \"x\":\r\n",
    "            self._fold_x(value)\r\n",
    "        elif axis == \"y\":\r\n",
    "            self._fold_y(value)\r\n",
    "        else:\r\n",
    "            raise ValueError(f\"Can not fold on axis {axis}\")\r\n",
    "\r\n",
    "    def do_folds(self):\r\n",
    "        while len(self._folds) > 0:\r\n",
    "            self.do_fold()\r\n",
    "\r\n",
    "    def count_visible(self):\r\n",
    "        return len(self._points)\r\n",
    "\r\n",
    "    def print_map(self, blank=\" \"):\r\n",
    "        width, height = 0, 0\r\n",
    "\r\n",
    "        for (x, y) in self._points:\r\n",
    "            width = max(x, width)\r\n",
    "            height = max(y, height)\r\n",
    "        \r\n",
    "        for y in range(height+1):\r\n",
    "            for x in range(width+1):\r\n",
    "                if (x, y) in self._points:\r\n",
    "                    print(\"#\", end=\"\")\r\n",
    "                else:\r\n",
    "                    print(blank, end=\"\")\r\n",
    "            print(\"\\n\", end=\"\")\r\n"
   ],
   "outputs": [],
   "metadata": {}
  },
  {
   "cell_type": "code",
   "execution_count": 2,
   "source": [
    "ex1_dotmap = DotMap(\"./inputs/Day13ex.txt\")\r\n",
    "ex1_solution = 17\r\n",
    "\r\n",
    "ex1_dotmap.do_fold()\r\n",
    "\r\n",
    "assert ex1_solution == ex1_dotmap.count_visible()"
   ],
   "outputs": [],
   "metadata": {}
  },
  {
   "cell_type": "code",
   "execution_count": 3,
   "source": [
    "# Part 1 solution\r\n",
    "p1_dotmap = DotMap(\"./inputs/Day13.txt\")\r\n",
    "p1_dotmap.do_fold()\r\n",
    "p1_dotmap.count_visible()"
   ],
   "outputs": [
    {
     "output_type": "execute_result",
     "data": {
      "text/plain": [
       "664"
      ]
     },
     "metadata": {},
     "execution_count": 3
    }
   ],
   "metadata": {}
  },
  {
   "cell_type": "markdown",
   "source": [
    "## Part 2\r\n",
    "Finish folding the transparent paper according to the instructions. The manual says the code is always eight capital letters.\r\n",
    "\r\n",
    "What code do you use to activate the infrared thermal imaging camera system?"
   ],
   "metadata": {}
  },
  {
   "cell_type": "code",
   "execution_count": 4,
   "source": [
    "p2_dotmap = DotMap(\"./inputs/Day13.txt\")\r\n",
    "p2_dotmap.do_folds()\r\n",
    "p2_dotmap.count_visible()"
   ],
   "outputs": [
    {
     "output_type": "execute_result",
     "data": {
      "text/plain": [
       "91"
      ]
     },
     "metadata": {},
     "execution_count": 4
    }
   ],
   "metadata": {}
  },
  {
   "cell_type": "code",
   "execution_count": 5,
   "source": [
    "p2_dotmap.print_map()"
   ],
   "outputs": [
    {
     "output_type": "stream",
     "name": "stdout",
     "text": [
      "#### ####   ## #  # #### #    ###  #   \n",
      "#    #       # # #     # #    #  # #   \n",
      "###  ###     # ##     #  #    ###  #   \n",
      "#    #       # # #   #   #    #  # #   \n",
      "#    #    #  # # #  #    #    #  # #   \n",
      "#### #     ##  #  # #### #### ###  ####\n"
     ]
    }
   ],
   "metadata": {}
  }
 ],
 "metadata": {
  "orig_nbformat": 4,
  "language_info": {
   "name": "python",
   "version": "3.7.6",
   "mimetype": "text/x-python",
   "codemirror_mode": {
    "name": "ipython",
    "version": 3
   },
   "pygments_lexer": "ipython3",
   "nbconvert_exporter": "python",
   "file_extension": ".py"
  },
  "kernelspec": {
   "name": "python3",
   "display_name": "Python 3.7.6 64-bit ('py3r': conda)"
  },
  "interpreter": {
   "hash": "a4d16f272948a56a74322b7d603a05d4f37e6ac5a8ca06c2aaf0ba1c89b36634"
  }
 },
 "nbformat": 4,
 "nbformat_minor": 2
}