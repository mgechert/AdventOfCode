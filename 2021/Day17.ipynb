{
 "cells": [
  {
   "cell_type": "markdown",
   "source": [
    "## --- Day 17: Trick Shot ---\r\n",
    "- The probe's x position increases by its x velocity.\r\n",
    "- The probe's y position increases by its y velocity.\r\n",
    "- Due to drag, the probe's x velocity changes by 1 toward the value 0; that is, it decreases by 1 if it is greater than 0, increases by 1 if it is less than 0, or does not change if it is already 0.\r\n",
    "- Due to gravity, the probe's y velocity decreases by 1.\r\n",
    "\r\n",
    "Find the initial velocity that causes the probe to reach the highest y position and still eventually be within the target area after any step. What is the highest y position it reaches on this trajectory?\r\n",
    "\r\n",
    "Helpful:\r\n",
    "__[/r/adventofcode: Never brute force when you can use math](https://www.reddit.com/r/adventofcode/comments/rily4v/2021_day_17_part_2_never_brute_force_when_you_can/)__\r\n"
   ],
   "metadata": {}
  },
  {
   "cell_type": "code",
   "execution_count": 1,
   "source": [
    "def find_max_vy(y_bounds):\r\n",
    "    return abs(min(y_bounds)) - 1\r\n",
    "\r\n",
    "def find_max_height(y_bounds):\r\n",
    "    max_vy = find_max_vy(y_bounds)\r\n",
    "    max_height = max_vy * (max_vy + 1) / 2\r\n",
    "\r\n",
    "    return int(max_height)"
   ],
   "outputs": [],
   "metadata": {}
  },
  {
   "cell_type": "code",
   "execution_count": 2,
   "source": [
    "# Example\r\n",
    "ex1_y_input = (-10, -5)\r\n",
    "assert 45 == find_max_height(ex1_y_input)"
   ],
   "outputs": [],
   "metadata": {}
  },
  {
   "cell_type": "code",
   "execution_count": 3,
   "source": [
    "# Part 1\r\n",
    "p1_y_input = (-102, -78)\r\n",
    "find_max_height(p1_y_input)"
   ],
   "outputs": [
    {
     "output_type": "execute_result",
     "data": {
      "text/plain": [
       "5151"
      ]
     },
     "metadata": {},
     "execution_count": 3
    }
   ],
   "metadata": {}
  },
  {
   "cell_type": "markdown",
   "source": [
    "## --- Part Two ---\r\n",
    "\r\n",
    "How many distinct initial velocity values cause the probe to be within the target area after any step?"
   ],
   "metadata": {}
  },
  {
   "cell_type": "code",
   "execution_count": 4,
   "source": [
    "from collections import defaultdict\r\n",
    "from itertools import product\r\n",
    "\r\n",
    "def y_pos_after_step(vy, step):\r\n",
    "    if step == 0:\r\n",
    "        return 0\r\n",
    "\r\n",
    "    drag = (step*(step-1)//2)\r\n",
    "    return step * vy - drag\r\n",
    "\r\n",
    "def find_step_vy(ymin, ymax):\r\n",
    "    step_vy = defaultdict(list)\r\n",
    "    vy_min = ymin\r\n",
    "    vy_max = find_max_vy((ymin, ymax))\r\n",
    "\r\n",
    "    for vy in range(vy_min, vy_max+1):\r\n",
    "        step, y_pos = 1, 0\r\n",
    "        while y_pos >= ymin:\r\n",
    "            y_pos = y_pos_after_step(vy, step)\r\n",
    "            if y_pos >= ymin and y_pos <= ymax:\r\n",
    "                step_vy[step].append(vy)\r\n",
    "            step += 1\r\n",
    "\r\n",
    "    return step_vy\r\n",
    "\r\n",
    "def x_pos_after_step(vx, step):\r\n",
    "    if step == 0:\r\n",
    "        return 0\r\n",
    "\r\n",
    "    if step < vx:\r\n",
    "        drag = (step*(step-1)//2)\r\n",
    "        return step * vx - drag\r\n",
    "    else:\r\n",
    "        # dx is constant after step >= vx because drag has overcome initial vx\r\n",
    "        drag = (vx*(vx-1)//2)\r\n",
    "        return vx**2 - drag\r\n",
    "\r\n",
    "def find_step_vx(xmin, xmax, y_steps):\r\n",
    "    steps = defaultdict(list)\r\n",
    "    # Maximum possible vx is xmax, otherwise out of range after s1\r\n",
    "    for vx, step in product(range(xmax+1), y_steps):\r\n",
    "        xpos = x_pos_after_step(vx, step)\r\n",
    "        if xpos >= xmin and xpos <= xmax:\r\n",
    "            steps[step].append(vx)\r\n",
    "\r\n",
    "            if xpos == vx+1:\r\n",
    "                steps[step].append(float('inf'))\r\n",
    "\r\n",
    "    return steps\r\n",
    "\r\n",
    "def find_vx_vy_pairs(xmin, xmax, ymin, ymax):\r\n",
    "    step_vy = find_step_vy(ymin, ymax)\r\n",
    "    step_vx = find_step_vx(xmin, xmax, y_steps=step_vy.keys())\r\n",
    "    \r\n",
    "    # Combine all pairs with matching step values\r\n",
    "    pairs = set()\r\n",
    "\r\n",
    "    for step in step_vy.keys():\r\n",
    "        pairs.update([(vx, vy) for vx, vy in product(step_vx[step], step_vy[step])])\r\n",
    "\r\n",
    "    return pairs\r\n"
   ],
   "outputs": [],
   "metadata": {}
  },
  {
   "cell_type": "code",
   "execution_count": 5,
   "source": [
    "# Example (same inputs)\r\n",
    "ex1_x_input = (20, 30)\r\n",
    "\r\n",
    "ex2_pairs = find_vx_vy_pairs(*ex1_x_input, *ex1_y_input)\r\n",
    "assert 112 == len(ex2_pairs)"
   ],
   "outputs": [],
   "metadata": {}
  },
  {
   "cell_type": "code",
   "execution_count": 6,
   "source": [
    "# Part 2 solution\r\n",
    "p2_pairs = find_vx_vy_pairs(135, 155, *p1_y_input)\r\n",
    "len(p2_pairs)"
   ],
   "outputs": [
    {
     "output_type": "execute_result",
     "data": {
      "text/plain": [
       "968"
      ]
     },
     "metadata": {},
     "execution_count": 6
    }
   ],
   "metadata": {}
  }
 ],
 "metadata": {
  "orig_nbformat": 4,
  "language_info": {
   "name": "python",
   "version": "3.7.6",
   "mimetype": "text/x-python",
   "codemirror_mode": {
    "name": "ipython",
    "version": 3
   },
   "pygments_lexer": "ipython3",
   "nbconvert_exporter": "python",
   "file_extension": ".py"
  },
  "kernelspec": {
   "name": "python3",
   "display_name": "Python 3.7.6 64-bit ('py3r': conda)"
  },
  "interpreter": {
   "hash": "a4d16f272948a56a74322b7d603a05d4f37e6ac5a8ca06c2aaf0ba1c89b36634"
  }
 },
 "nbformat": 4,
 "nbformat_minor": 2
}