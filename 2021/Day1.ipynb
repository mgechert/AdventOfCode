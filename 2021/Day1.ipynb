{
 "cells": [
  {
   "cell_type": "markdown",
   "source": [
    "### Day 1, part 1\r\n",
    "\r\n",
    "You're minding your own business on a ship at sea when the overboard alarm goes off! You rush to see if you can help. Apparently, one of the Elves tripped and accidentally sent the sleigh keys flying into the ocean!\r\n",
    "\r\n",
    "Before you know it, you're inside a submarine the Elves keep ready for situations like this. It's covered in Christmas lights (because of course it is), and it even has an experimental antenna that should be able to track the keys if you can boost its signal strength high enough; there's a little meter that indicates the antenna's signal strength by displaying 0-50 stars.\r\n",
    "\r\n",
    "Your instincts tell you that in order to save Christmas, you'll need to get all fifty stars by December 25th.\r\n",
    "\r\n",
    "Collect stars by solving puzzles. Two puzzles will be made available on each day in the Advent calendar; the second puzzle is unlocked when you complete the first. Each puzzle grants one star. Good luck!\r\n",
    "\r\n",
    "As the submarine drops below the surface of the ocean, it automatically performs a sonar sweep of the nearby sea floor. On a small screen, the sonar sweep report (your puzzle input) appears: each line is a measurement of the sea floor depth as the sweep looks further and further away from the submarine.\r\n",
    "\r\n",
    "For example, suppose you had the following report:\r\n",
    "```\r\n",
    "199\r\n",
    "200\r\n",
    "208\r\n",
    "210\r\n",
    "200\r\n",
    "207\r\n",
    "240\r\n",
    "269\r\n",
    "260\r\n",
    "263\r\n",
    "```\r\n",
    "This report indicates that, scanning outward from the submarine, the sonar sweep found depths of 199, 200, 208, 210, and so on.\r\n",
    "\r\n",
    "The first order of business is to figure out how quickly the depth increases, just so you know what you're dealing with - you never know if the keys will get carried into deeper water by an ocean current or a fish or something.\r\n",
    "\r\n",
    "To do this, count the number of times a depth measurement increases from the previous measurement. (There is no measurement before the first measurement.) In the example above, the changes are as follows:\r\n",
    "```\r\n",
    "199 (N/A - no previous measurement)\r\n",
    "200 (increased)\r\n",
    "208 (increased)\r\n",
    "210 (increased)\r\n",
    "200 (decreased)\r\n",
    "207 (increased)\r\n",
    "240 (increased)\r\n",
    "269 (increased)\r\n",
    "260 (decreased)\r\n",
    "263 (increased)\r\n",
    "```\r\n",
    "In this example, there are 7 measurements that are larger than the previous measurement.\r\n",
    "\r\n",
    "How many measurements are larger than the previous measurement?"
   ],
   "metadata": {}
  },
  {
   "cell_type": "code",
   "execution_count": 4,
   "source": [
    "def count_increases(value_list):\r\n",
    "    increases = 0\r\n",
    "    for i in range(1, len(value_list)):\r\n",
    "        if value_list[i] > value_list[i-1]:\r\n",
    "            increases += 1\r\n",
    "    \r\n",
    "    return increases"
   ],
   "outputs": [],
   "metadata": {}
  },
  {
   "cell_type": "code",
   "execution_count": 6,
   "source": [
    "example_input = [199, 200, 208, 210, 200, 207, 240, 269, 260, 263]\r\n",
    "example_answer = 7\r\n",
    "\r\n",
    "assert example_answer == count_increases(example_input)"
   ],
   "outputs": [],
   "metadata": {}
  },
  {
   "cell_type": "code",
   "execution_count": 11,
   "source": [
    "# Read part1 input and validate some assumptions\r\n",
    "problem1_input_length = 2000\r\n",
    "with open(\"./inputs/Day1a.txt\") as f:\r\n",
    "    problem1_input = [int(line) for line in f.readlines()]\r\n",
    "\r\n",
    "assert problem1_input_length == len(problem1_input)\r\n",
    "assert min(problem1_input) >= 0"
   ],
   "outputs": [],
   "metadata": {}
  },
  {
   "cell_type": "code",
   "execution_count": 10,
   "source": [
    "problem1_solution = count_increases(problem1_input)\r\n",
    "print(\"Part 1 solution is\", problem1_solution)"
   ],
   "outputs": [
    {
     "output_type": "stream",
     "name": "stdout",
     "text": [
      "Part 1 solution is 1482\n"
     ]
    }
   ],
   "metadata": {}
  },
  {
   "cell_type": "markdown",
   "source": [
    "### Part 2\r\n",
    "\r\n",
    "Considering every single measurement isn't as useful as you expected: there's just too much noise in the data.\r\n",
    "\r\n",
    "Instead, consider sums of a three-measurement sliding window. Again considering the above example:\r\n",
    "```\r\n",
    "199  A      \r\n",
    "200  A B    \r\n",
    "208  A B C  \r\n",
    "210    B C D\r\n",
    "200  E   C D\r\n",
    "207  E F   D\r\n",
    "240  E F G  \r\n",
    "269    F G H\r\n",
    "260      G H\r\n",
    "263        H\r\n",
    "```\r\n",
    "Start by comparing the first and second three-measurement windows. The measurements in the first window are marked A (199, 200, 208); their sum is 199 + 200 + 208 = 607. The second window is marked B (200, 208, 210); its sum is 618. The sum of measurements in the second window is larger than the sum of the first, so this first comparison increased.\r\n",
    "\r\n",
    "Your goal now is to count the number of times the sum of measurements in this sliding window increases from the previous sum. So, compare A with B, then compare B with C, then C with D, and so on. Stop when there aren't enough measurements left to create a new three-measurement sum.\r\n",
    "\r\n",
    "In the above example, the sum of each three-measurement window is as follows:\r\n",
    "```\r\n",
    "A: 607 (N/A - no previous sum)\r\n",
    "B: 618 (increased)\r\n",
    "C: 618 (no change)\r\n",
    "D: 617 (decreased)\r\n",
    "E: 647 (increased)\r\n",
    "F: 716 (increased)\r\n",
    "G: 769 (increased)\r\n",
    "H: 792 (increased)\r\n",
    "```\r\n",
    "In this example, there are 5 sums that are larger than the previous sum.\r\n",
    "\r\n",
    "Consider sums of a three-measurement sliding window. How many sums are larger than the previous sum?"
   ],
   "metadata": {}
  },
  {
   "cell_type": "code",
   "execution_count": 16,
   "source": [
    "def count_increase_sliding(value_list, window_size):\r\n",
    "    increases = 0\r\n",
    "    for i in range(window_size, len(value_list)):\r\n",
    "        if value_list[i] > value_list[i-window_size]:\r\n",
    "            increases += 1\r\n",
    "    \r\n",
    "    return increases"
   ],
   "outputs": [],
   "metadata": {}
  },
  {
   "cell_type": "code",
   "execution_count": 18,
   "source": [
    "example2_input = example_input\r\n",
    "example2_answer = 5\r\n",
    "\r\n",
    "assert example2_answer == count_increase_sliding(example2_input, 3)"
   ],
   "outputs": [],
   "metadata": {}
  },
  {
   "cell_type": "code",
   "execution_count": 19,
   "source": [
    "# Input for part 2 is the same as part 1\r\n",
    "problem2_solution = count_increase_sliding(problem1_input, 3)\r\n",
    "print('Part 2 solution is', problem2_solution)"
   ],
   "outputs": [
    {
     "output_type": "stream",
     "name": "stdout",
     "text": [
      "Part 2 solution is 1518\n"
     ]
    }
   ],
   "metadata": {}
  }
 ],
 "metadata": {
  "orig_nbformat": 4,
  "language_info": {
   "name": "python",
   "version": "3.7.6",
   "mimetype": "text/x-python",
   "codemirror_mode": {
    "name": "ipython",
    "version": 3
   },
   "pygments_lexer": "ipython3",
   "nbconvert_exporter": "python",
   "file_extension": ".py"
  },
  "kernelspec": {
   "name": "python3",
   "display_name": "Python 3.7.6 64-bit ('py3r': conda)"
  },
  "interpreter": {
   "hash": "a4d16f272948a56a74322b7d603a05d4f37e6ac5a8ca06c2aaf0ba1c89b36634"
  }
 },
 "nbformat": 4,
 "nbformat_minor": 2
}