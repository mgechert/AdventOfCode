{
 "cells": [
  {
   "cell_type": "markdown",
   "source": [
    "## --- Day 20: Trench Map ---\r\n",
    "Start with the original input image and apply the image enhancement algorithm twice, being careful to account for the infinite size of the images. How many pixels are lit in the resulting image?"
   ],
   "metadata": {}
  },
  {
   "cell_type": "code",
   "execution_count": 19,
   "source": [
    "class ImageEnhancer:\r\n",
    "    def __init__(self, algorithm, input_img):\r\n",
    "        self.algorithm = algorithm\r\n",
    "        self.input_img = input_img\r\n",
    "        self.image = self.ImageMap(input_img)\r\n",
    "\r\n",
    "    @classmethod\r\n",
    "    def from_file(cls, filename):\r\n",
    "        with open(filename) as f:\r\n",
    "            algorithm = f.readline().strip()\r\n",
    "            _ = f.readline() # skip blank line\r\n",
    "            input_img = []\r\n",
    "            for line in f.readlines():\r\n",
    "                input_img.append(list(line.strip()))\r\n",
    "\r\n",
    "        return ImageEnhancer(algorithm, input_img)\r\n",
    "\r\n",
    "    def enhance(self, iterations=1, verbose=False):\r\n",
    "        def _enhance(verbose=False):\r\n",
    "            enhanced_input = []\r\n",
    "            for r in range(-1, self.image.last_row+2):\r\n",
    "                row = []\r\n",
    "                for c in range(-1, self.image.last_col+2):\r\n",
    "                    pixel_index = self.image.get_pixel_index(r, c)\r\n",
    "                    row.append(self.algorithm[pixel_index])\r\n",
    "                if verbose:\r\n",
    "                    print(\" \".join(row))\r\n",
    "                enhanced_input.append(row)\r\n",
    "\r\n",
    "            # The background \"fill\" pixel that extends from the canvas\r\n",
    "            # to infinity in all directions may flip depending on the\r\n",
    "            # algorithm (specifically, the 0 and last indices)\r\n",
    "            background = self.algorithm[0] if self.image.bg_pixel == \".\" else self.algorithm[-1]\r\n",
    "            self.image = self.ImageMap(enhanced_input, background)\r\n",
    "\r\n",
    "        for _ in range(iterations):\r\n",
    "            _enhance(verbose=verbose)\r\n",
    "\r\n",
    "    \r\n",
    "    class ImageMap:\r\n",
    "        def __init__(self, input_img, background=\".\"):\r\n",
    "            self.pixel_map = {}\r\n",
    "            for r in range(len(input_img)):\r\n",
    "                for c in range(len(input_img[r])):\r\n",
    "                    self.pixel_map[(r, c)] = input_img[r][c]\r\n",
    "            self.bg_pixel = background\r\n",
    "            self.last_row = r\r\n",
    "            self.last_col = c\r\n",
    "        \r\n",
    "        def get_pixel_index(self, row, col):\r\n",
    "            # Calculate the index as a binary number derived from all 9 adjacent pixels (including itself)\r\n",
    "            adjacent_pixels = []\r\n",
    "            for r in range(row-1, row+2):\r\n",
    "                for c in range(col-1, col+2):\r\n",
    "                    adjacent_pixels.append((r, c))\r\n",
    "            \r\n",
    "            result = 0\r\n",
    "            for r, c in adjacent_pixels:\r\n",
    "                pixel_value = self.pixel_map.get((r, c), self.bg_pixel)\r\n",
    "                result = (result << 1) + (1 if pixel_value == \"#\" else 0)\r\n",
    "\r\n",
    "            return result\r\n",
    "\r\n",
    "        def count_active_pixels(self):\r\n",
    "            return len([v for v in self.pixel_map.values() if v == \"#\"])\r\n"
   ],
   "outputs": [],
   "metadata": {}
  },
  {
   "cell_type": "code",
   "execution_count": 20,
   "source": [
    "# Example\r\n",
    "ex1 = ImageEnhancer.from_file(\"./inputs/Day20ex.txt\")\r\n",
    "ex1.image.count_active_pixels()\r\n",
    "ex1.enhance(verbose=True)\r\n",
    "ex1.enhance(verbose=True)\r\n",
    "assert 35 == ex1.image.count_active_pixels()"
   ],
   "outputs": [
    {
     "output_type": "stream",
     "name": "stdout",
     "text": [
      ". # # . # # .\n",
      "# . . # . # .\n",
      "# # . # . . #\n",
      "# # # # . . #\n",
      ". # . . # # .\n",
      ". . # # . . #\n",
      ". . . # . # .\n",
      ". . . . . . . # .\n",
      ". # . . # . # . .\n",
      "# . # . . . # # #\n",
      "# . . . # # . # .\n",
      "# . . . . . # . #\n",
      ". # . # # # # # .\n",
      ". . # . # # # # #\n",
      ". . . # # . # # .\n",
      ". . . . # # # . .\n"
     ]
    }
   ],
   "metadata": {}
  },
  {
   "cell_type": "code",
   "execution_count": 21,
   "source": [
    "# Part 1 solution\r\n",
    "p1 = ImageEnhancer.from_file(\"./inputs/Day20.txt\")\r\n",
    "p1.enhance(iterations=2)\r\n",
    "p1.image.count_active_pixels()"
   ],
   "outputs": [
    {
     "output_type": "execute_result",
     "data": {
      "text/plain": [
       "5081"
      ]
     },
     "metadata": {},
     "execution_count": 21
    }
   ],
   "metadata": {}
  },
  {
   "cell_type": "markdown",
   "source": [
    "## --- Part Two ---\r\n",
    "\r\n",
    "Start again with the original input image and apply the image enhancement algorithm 50 times. How many pixels are lit in the resulting image?"
   ],
   "metadata": {}
  },
  {
   "cell_type": "code",
   "execution_count": 26,
   "source": [
    "# Example\r\n",
    "ex2 = ImageEnhancer.from_file(\"./inputs/Day20ex.txt\")\r\n",
    "ex2.enhance(iterations=50)\r\n",
    "assert 3351 == ex2.image.count_active_pixels()\r\n"
   ],
   "outputs": [],
   "metadata": {}
  },
  {
   "cell_type": "code",
   "execution_count": 27,
   "source": [
    "# Part 2 solution\r\n",
    "p2 = ImageEnhancer.from_file(\"./inputs/Day20.txt\")\r\n",
    "p2.enhance(iterations=50)\r\n",
    "p2.image.count_active_pixels()"
   ],
   "outputs": [
    {
     "output_type": "execute_result",
     "data": {
      "text/plain": [
       "15088"
      ]
     },
     "metadata": {},
     "execution_count": 27
    }
   ],
   "metadata": {}
  }
 ],
 "metadata": {
  "orig_nbformat": 4,
  "language_info": {
   "name": "python",
   "version": "3.7.6",
   "mimetype": "text/x-python",
   "codemirror_mode": {
    "name": "ipython",
    "version": 3
   },
   "pygments_lexer": "ipython3",
   "nbconvert_exporter": "python",
   "file_extension": ".py"
  },
  "kernelspec": {
   "name": "python3",
   "display_name": "Python 3.7.6 64-bit ('py3r': conda)"
  },
  "interpreter": {
   "hash": "a4d16f272948a56a74322b7d603a05d4f37e6ac5a8ca06c2aaf0ba1c89b36634"
  }
 },
 "nbformat": 4,
 "nbformat_minor": 2
}