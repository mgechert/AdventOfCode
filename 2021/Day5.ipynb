{
 "cells": [
  {
   "cell_type": "markdown",
   "metadata": {},
   "source": [
    "## --- Day 5: Hydrothermal Venture ---\n",
    "\n",
    "You come across a field of hydrothermal vents on the ocean floor! These vents constantly produce large, opaque clouds, so it would be best to avoid them if possible.\n",
    "\n",
    "They tend to form in lines; the submarine helpfully produces a list of nearby lines of vents (your puzzle input) for you to review. For example:\n",
    "```\n",
    "0,9 -> 5,9\n",
    "8,0 -> 0,8\n",
    "9,4 -> 3,4\n",
    "2,2 -> 2,1\n",
    "7,0 -> 7,4\n",
    "6,4 -> 2,0\n",
    "0,9 -> 2,9\n",
    "3,4 -> 1,4\n",
    "0,0 -> 8,8\n",
    "5,5 -> 8,2\n",
    "```\n",
    "Each line of vents is given as a line segment in the format x1,y1 -> x2,y2 where x1,y1 are the coordinates of one end the line segment and x2,y2 are the coordinates of the other end. These line segments include the points at both ends. In other words:\n",
    "\n",
    "    An entry like 1,1 -> 1,3 covers points 1,1, 1,2, and 1,3.\n",
    "    An entry like 9,7 -> 7,7 covers points 9,7, 8,7, and 7,7.\n",
    "\n",
    "For now, only consider horizontal and vertical lines: lines where either x1 = x2 or y1 = y2.\n",
    "\n",
    "So, the horizontal and vertical lines from the above list would produce the following diagram:\n",
    "```\n",
    ".......1..\n",
    "..1....1..\n",
    "..1....1..\n",
    ".......1..\n",
    ".112111211\n",
    "..........\n",
    "..........\n",
    "..........\n",
    "..........\n",
    "222111....\n",
    "```\n",
    "In this diagram, the top left corner is 0,0 and the bottom right corner is 9,9. Each position is shown as the number of lines which cover that point or . if no line covers that point. The top-left pair of 1s, for example, comes from 2,2 -> 2,1; the very bottom row is formed by the overlapping lines 0,9 -> 5,9 and 0,9 -> 2,9.\n",
    "\n",
    "To avoid the most dangerous areas, you need to determine the number of points where at least two lines overlap. In the above example, this is anywhere in the diagram with a 2 or larger - a total of 5 points.\n",
    "\n",
    "Consider only horizontal and vertical lines. At how many points do at least two lines overlap?"
   ]
  },
  {
   "cell_type": "code",
   "execution_count": 1,
   "metadata": {},
   "outputs": [],
   "source": [
    "class PointMap:\n",
    "  def __init__(self, filename, read_angled=False):\n",
    "    self._points = {}\n",
    "    self._read_angled = read_angled\n",
    "    self.read_file(filename)\n",
    "\n",
    "  def add_line(self, line_points):\n",
    "    (x1, y1), (x2, y2) = line_points\n",
    "    if x1 == x2: # Vertical line\n",
    "      for y in range(min(y1, y2), max(y1, y2)+1):\n",
    "        self.add_point(x1, y)\n",
    "    elif y1 == y2: # Horizontal line\n",
    "      for x in range(min(x1, x2), max(x1, x2)+1):\n",
    "        self.add_point(x, y1)\n",
    "    elif self._read_angled: # 45-deg line (slope 1 or -1)\n",
    "      if x1 > x2:\n",
    "        # Always add points L->R\n",
    "        x1, x2 = x2, x1\n",
    "        y1, y2 = y2, y1\n",
    "\n",
    "      slope = 1 if y2 > y1 else -1\n",
    "\n",
    "      for i in range(x2 - x1 + 1):\n",
    "        self.add_point(x1+i, y1+(i*slope))\n",
    "\n",
    "  def add_point(self, x, y):\n",
    "    point = (x, y)\n",
    "    if point in self._points:\n",
    "      self._points[point] += 1\n",
    "    else:\n",
    "      self._points[point] = 1\n",
    "\n",
    "  def filter_points(self, min_lines):\n",
    "    return {point: num for point, num in self._points.items() if num >= min_lines}\n",
    "\n",
    "  def read_file(self, filename):\n",
    "    with open(filename) as f:\n",
    "      for line in f.readlines():\n",
    "        p1, p2 = line.rstrip().split(' -> ')\n",
    "        x1, y1 = p1.split(',')\n",
    "        x2, y2 = p2.split(',')\n",
    "        self.add_line([(int(x1), int(y1)), (int(x2), int(y2))])"
   ]
  },
  {
   "cell_type": "code",
   "execution_count": 2,
   "metadata": {},
   "outputs": [],
   "source": [
    "example1_map = PointMap(\"./inputs/Day5ex.txt\")\n",
    "example1_solution = 5\n",
    "\n",
    "assert example1_solution == len(example1_map.filter_points(2))"
   ]
  },
  {
   "cell_type": "code",
   "execution_count": 3,
   "metadata": {},
   "outputs": [
    {
     "data": {
      "text/plain": [
       "8350"
      ]
     },
     "execution_count": 3,
     "metadata": {},
     "output_type": "execute_result"
    }
   ],
   "source": [
    "problem1_map = PointMap(\"./inputs/Day5.txt\")\n",
    "len(problem1_map.filter_points(2))"
   ]
  },
  {
   "cell_type": "markdown",
   "metadata": {},
   "source": [
    "### --- Part Two ---\n",
    "\n",
    "Unfortunately, considering only horizontal and vertical lines doesn't give you the full picture; you need to also consider diagonal lines.\n",
    "\n",
    "Because of the limits of the hydrothermal vent mapping system, the lines in your list will only ever be horizontal, vertical, or a diagonal line at exactly 45 degrees. In other words:\n",
    "\n",
    "    An entry like 1,1 -> 3,3 covers points 1,1, 2,2, and 3,3.\n",
    "    An entry like 9,7 -> 7,9 covers points 9,7, 8,8, and 7,9.\n",
    "\n",
    "Considering all lines from the above example would now produce the following diagram:\n",
    "```\n",
    "1.1....11.\n",
    ".111...2..\n",
    "..2.1.111.\n",
    "...1.2.2..\n",
    ".112313211\n",
    "...1.2....\n",
    "..1...1...\n",
    ".1.....1..\n",
    "1.......1.\n",
    "222111....\n",
    "```\n",
    "You still need to determine the number of points where at least two lines overlap. In the above example, this is still anywhere in the diagram with a 2 or larger - now a total of 12 points.\n",
    "\n",
    "Consider all of the lines. At how many points do at least two lines overlap?"
   ]
  },
  {
   "cell_type": "code",
   "execution_count": 4,
   "metadata": {},
   "outputs": [
    {
     "data": {
      "text/plain": [
       "[(7, 9), (8, 8), (9, 7)]"
      ]
     },
     "execution_count": 4,
     "metadata": {},
     "output_type": "execute_result"
    }
   ],
   "source": [
    "x1, y1 = 9,7\n",
    "x2, y2 = 7,9\n",
    "points = []\n",
    "\n",
    "if x1 > x2:\n",
    "  # Always build L->R\n",
    "  x1, x2 = x2, x1\n",
    "  y1, y2 = y2, y1\n",
    "\n",
    "slope = 1 if y2 > y1 else -1\n",
    "\n",
    "for i in range(x2 - x1 + 1):\n",
    "  points.append((x1+i, y1+(i*slope)))\n",
    "\n",
    "points\n"
   ]
  },
  {
   "cell_type": "code",
   "execution_count": 5,
   "metadata": {},
   "outputs": [],
   "source": [
    "example2_map = PointMap(\"./inputs/Day5ex.txt\", read_angled=True)\n",
    "example2_solution = 12\n",
    "\n",
    "assert example2_solution == len(example2_map.filter_points(2))"
   ]
  },
  {
   "cell_type": "code",
   "execution_count": 6,
   "metadata": {},
   "outputs": [
    {
     "data": {
      "text/plain": [
       "19374"
      ]
     },
     "execution_count": 6,
     "metadata": {},
     "output_type": "execute_result"
    }
   ],
   "source": [
    "problem2_map = PointMap('./inputs/Day5.txt', read_angled=True)\n",
    "\n",
    "len(problem2_map.filter_points(2))"
   ]
  }
 ],
 "metadata": {
  "interpreter": {
   "hash": "70b38d7a306a849643e446cd70466270a13445e5987dfa1344ef2b127438fa4d"
  },
  "kernelspec": {
   "display_name": "Python 3.7.4 64-bit",
   "language": "python",
   "name": "python3"
  },
  "language_info": {
   "codemirror_mode": {
    "name": "ipython",
    "version": 3
   },
   "file_extension": ".py",
   "mimetype": "text/x-python",
   "name": "python",
   "nbconvert_exporter": "python",
   "pygments_lexer": "ipython3",
   "version": "3.7.4"
  },
  "orig_nbformat": 4
 },
 "nbformat": 4,
 "nbformat_minor": 2
}
