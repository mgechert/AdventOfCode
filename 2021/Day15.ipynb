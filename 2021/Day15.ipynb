{
 "cells": [
  {
   "cell_type": "markdown",
   "source": [
    "## --- Day 15: Chiton ---\n",
    "What is the lowest total risk of any path from the top left to the bottom right?"
   ],
   "metadata": {}
  },
  {
   "cell_type": "code",
   "execution_count": 1,
   "source": [
    "import aoc_utils\r\n",
    "\r\n",
    "class ChitonGraph:\r\n",
    "    def __init__(self, filename):\r\n",
    "        with open(filename) as f:\r\n",
    "            raw = f.read()\r\n",
    "        \r\n",
    "        self.weights = aoc_utils.str_to_2d_array(raw)\r\n",
    "        self.vertices = set()\r\n",
    "        self.end_vertex = (len(self.weights)-1, len(self.weights[0])-1)\r\n",
    "\r\n",
    "        for r in range(len(self.weights)):\r\n",
    "            for c in range(len(self.weights[0])):\r\n",
    "                self.vertices.add((r, c))\r\n",
    "\r\n",
    "    def find_shortest_path(self, verbose=False):\r\n",
    "        # Distance of every vertex from the origin (0, 0)\r\n",
    "        distance = {v: float(\"inf\") for v in self.vertices}\r\n",
    "\r\n",
    "        # Start at origin, distance=0\r\n",
    "        curr_vertex = (0, 0)\r\n",
    "        curr_distance = 0\r\n",
    "\r\n",
    "        while curr_vertex != self.end_vertex:\r\n",
    "            del(distance[curr_vertex])\r\n",
    "            r, c = curr_vertex\r\n",
    "\r\n",
    "            if verbose and len(distance.keys()) % 1000 == 0:\r\n",
    "                print(f\"{len(distance.keys())} unvisited nodes to go, entering {curr_vertex}\")\r\n",
    "\r\n",
    "            # For every adjacent unvisited vertex, update distance from origin\r\n",
    "            # (note that not all of these vertices necessarily exist)\r\n",
    "            adjacent_vertices = [(r, c-1), (r, c+1), (r-1, c), (r+1, c)]\r\n",
    "            for adj_v in adjacent_vertices:\r\n",
    "                if adj_v in distance:\r\n",
    "                    dist_to_v = self.weight_to(adj_v)\r\n",
    "                    distance[adj_v] = min(distance[adj_v], curr_distance + dist_to_v)\r\n",
    "\r\n",
    "            # Get the next vertex with the shortest distance\r\n",
    "            min_dist = min(distance.values())\r\n",
    "            curr_vertex, curr_distance =\\\r\n",
    "                next((v, d) for v, d in distance.items() if d == min_dist)\r\n",
    "        \r\n",
    "        return curr_distance\r\n",
    "\r\n",
    "    def weight_to(self, vertex):\r\n",
    "        # Get the weight of any edge leading into vertex\r\n",
    "        r, c = vertex\r\n",
    "\r\n",
    "        return self.weights[r][c]"
   ],
   "outputs": [],
   "metadata": {}
  },
  {
   "cell_type": "code",
   "execution_count": 2,
   "source": [
    "ex1_graph = ChitonGraph(\"./inputs/Day15ex.txt\")\r\n",
    "ex1_solution = 40\r\n",
    "\r\n",
    "assert ex1_solution == ex1_graph.find_shortest_path()"
   ],
   "outputs": [],
   "metadata": {}
  },
  {
   "cell_type": "code",
   "execution_count": 3,
   "source": [
    "p1_graph = ChitonGraph(\"./inputs/Day15.txt\")\r\n",
    "p1_graph.find_shortest_path(verbose=True)"
   ],
   "outputs": [
    {
     "output_type": "stream",
     "name": "stdout",
     "text": [
      "9000 unvisited nodes to go, entering (16, 33)\n",
      "8000 unvisited nodes to go, entering (38, 28)\n",
      "7000 unvisited nodes to go, entering (47, 34)\n",
      "6000 unvisited nodes to go, entering (68, 10)\n",
      "5000 unvisited nodes to go, entering (79, 12)\n",
      "4000 unvisited nodes to go, entering (64, 53)\n",
      "3000 unvisited nodes to go, entering (92, 7)\n",
      "2000 unvisited nodes to go, entering (97, 14)\n",
      "1000 unvisited nodes to go, entering (47, 99)\n"
     ]
    },
    {
     "output_type": "execute_result",
     "data": {
      "text/plain": [
       "390"
      ]
     },
     "metadata": {},
     "execution_count": 3
    }
   ],
   "metadata": {}
  },
  {
   "cell_type": "markdown",
   "source": [
    "## Part 2\n",
    "Using the full map, what is the lowest total risk of any path from the top left to the bottom right?"
   ],
   "metadata": {}
  },
  {
   "cell_type": "code",
   "execution_count": 4,
   "source": [
    "from heapq import heappush, heappop\r\n",
    "import itertools\r\n",
    "\r\n",
    "class VertexQueue:\r\n",
    "    \"\"\"Priority queue to hold vertices and lengths https://docs.python.org/3/library/heapq.html\"\"\"\r\n",
    "    def __init__(self):\r\n",
    "        self.pq = []\r\n",
    "        self.entry_finder = {}\r\n",
    "        self.counter = itertools.count()\r\n",
    "\r\n",
    "    def add_vertex(self, vertex, distance=float(\"inf\")):\r\n",
    "        \"\"\"Add a vertex to the queue (remove/replace if it is already there)\"\"\"\r\n",
    "        if vertex in self.entry_finder:\r\n",
    "            self.remove_vertex(vertex)\r\n",
    "        count = next(self.counter)\r\n",
    "        entry = [distance, count, vertex]\r\n",
    "        self.entry_finder[vertex] = entry\r\n",
    "        heappush(self.pq, entry)\r\n",
    "\r\n",
    "    def remove_vertex(self, vertex):\r\n",
    "        \"\"\"Mark a queue entry as removed by removing it from the entry_finder and setting the vertex to None in the pq\"\"\"\r\n",
    "        entry = self.entry_finder.pop(vertex)\r\n",
    "        entry[-1] = None    # entry is a reference to a list, so this updates the item in the pq\r\n",
    "\r\n",
    "    def pop(self):\r\n",
    "        \"\"\"\r\n",
    "        Remove entries from the queue until one references a vertex,\r\n",
    "        returns tuple of (vertex, distance)\r\n",
    "        \"\"\"\r\n",
    "        while self.pq:\r\n",
    "            distance, _, vertex = heappop(self.pq)\r\n",
    "            if vertex is not None:\r\n",
    "                del(self.entry_finder[vertex])\r\n",
    "                return (vertex, distance)\r\n",
    "        raise KeyError(\"Can not pop when queue is empty\")\r\n",
    "\r\n",
    "    def contains(self, vertex):\r\n",
    "        return vertex in self.entry_finder\r\n",
    "\r\n",
    "    def __getitem__(self, vertex):\r\n",
    "        \"\"\"Return the distance to vertex\"\"\"\r\n",
    "        return self.entry_finder[vertex][0]\r\n",
    "\r\n",
    "    def __setitem__(self, vertex, distance):\r\n",
    "        \"\"\"Update the vertex distance only if it already exists\"\"\"\r\n",
    "        if vertex in self.entry_finder:\r\n",
    "            self.add_vertex(vertex, distance=distance)\r\n",
    "        else:\r\n",
    "            raise KeyError\r\n",
    "\r\n",
    "    def __len__(self):\r\n",
    "        # Length of the queue is the number of vertices, not the pq length\r\n",
    "        return len(self.entry_finder)"
   ],
   "outputs": [],
   "metadata": {}
  },
  {
   "cell_type": "code",
   "execution_count": 5,
   "source": [
    "class BigChitonGraph(ChitonGraph):\r\n",
    "    def __init__(self, filename, scale):\r\n",
    "        ChitonGraph.__init__(self, filename)\r\n",
    "\r\n",
    "        # Resize: Add more vertices, update destination\r\n",
    "        orig_r, orig_c = self.end_vertex\r\n",
    "        for r in range((orig_r+1)*scale):\r\n",
    "            for c in range((orig_c+1)*scale):\r\n",
    "                self.vertices.add((r, c))\r\n",
    "\r\n",
    "        self.end_vertex = (r, c)\r\n",
    "\r\n",
    "    def weight_to(self, vertex):\r\n",
    "        # Translate edge weights as they increase across self.scale # of map tiles\r\n",
    "        # in both directions, increasing by 1 with each additional tile to the right\r\n",
    "        # and each tile down. Values over 9 wrap back to 1\r\n",
    "        r, c = vertex\r\n",
    "        tile_size = len(self.weights)\r\n",
    "        tile_r = r // tile_size\r\n",
    "        tile_c = c // tile_size\r\n",
    "        weight = self.weights[r % tile_size][c % tile_size]\r\n",
    "\r\n",
    "        offset_weight = weight + tile_r + tile_c\r\n",
    "        if offset_weight > 9:\r\n",
    "            offset_weight -= 9\r\n",
    "\r\n",
    "        return offset_weight\r\n",
    "\r\n",
    "    def find_shortest_path(self, verbose=False):\r\n",
    "        # Build a queue of every vertex\r\n",
    "        vq = VertexQueue()\r\n",
    "        for v in self.vertices:\r\n",
    "            vq.add_vertex(v)\r\n",
    "\r\n",
    "        # Start by visiting the origin, distance=0\r\n",
    "        curr_vertex = (0, 0)\r\n",
    "        curr_distance = 0\r\n",
    "        vq.remove_vertex(curr_vertex)\r\n",
    "\r\n",
    "        while curr_vertex != self.end_vertex:\r\n",
    "            r, c = curr_vertex\r\n",
    "\r\n",
    "            if verbose and len(vq) % 1000 == 0:\r\n",
    "                print(f\"{len(vq)} unvisited nodes to go, entering {curr_vertex}\")\r\n",
    "\r\n",
    "            # For every adjacent unvisited vertex, update distance from origin\r\n",
    "            # (note that not all of these vertices necessarily exist)\r\n",
    "            adjacent_vertices = [(r, c-1), (r, c+1), (r-1, c), (r+1, c)]\r\n",
    "            for adj_v in adjacent_vertices:\r\n",
    "                if vq.contains(adj_v):\r\n",
    "                    dist_to_v = self.weight_to(adj_v)\r\n",
    "                    if curr_distance + dist_to_v < vq[adj_v]:\r\n",
    "                        vq[adj_v] = curr_distance + dist_to_v\r\n",
    "\r\n",
    "            # Get the next vertex with the shortest distance\r\n",
    "            curr_vertex, curr_distance = vq.pop()\r\n",
    "        \r\n",
    "        return curr_distance\r\n"
   ],
   "outputs": [],
   "metadata": {}
  },
  {
   "cell_type": "code",
   "execution_count": 6,
   "source": [
    "ex2_graph = BigChitonGraph(\"./inputs/Day15ex.txt\", scale=5)\r\n",
    "ex2_solution = 315\r\n",
    "\r\n",
    "assert ex2_solution == ex2_graph.find_shortest_path()"
   ],
   "outputs": [],
   "metadata": {}
  },
  {
   "cell_type": "code",
   "execution_count": 7,
   "source": [
    "# Part 2 solution\r\n",
    "p2_graph = BigChitonGraph(\"./inputs/Day15.txt\", scale=5)\r\n",
    "p2_graph.find_shortest_path()"
   ],
   "outputs": [
    {
     "output_type": "execute_result",
     "data": {
      "text/plain": [
       "2814"
      ]
     },
     "metadata": {},
     "execution_count": 7
    }
   ],
   "metadata": {}
  }
 ],
 "metadata": {
  "interpreter": {
   "hash": "a4d16f272948a56a74322b7d603a05d4f37e6ac5a8ca06c2aaf0ba1c89b36634"
  },
  "kernelspec": {
   "display_name": "Python 3.7.6 64-bit ('py3r': conda)",
   "name": "python3"
  },
  "language_info": {
   "codemirror_mode": {
    "name": "ipython",
    "version": 3
   },
   "file_extension": ".py",
   "mimetype": "text/x-python",
   "name": "python",
   "nbconvert_exporter": "python",
   "pygments_lexer": "ipython3",
   "version": "3.7.3"
  },
  "orig_nbformat": 4
 },
 "nbformat": 4,
 "nbformat_minor": 2
}