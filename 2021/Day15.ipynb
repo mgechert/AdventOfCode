{
 "cells": [
  {
   "cell_type": "markdown",
   "metadata": {},
   "source": [
    "## --- Day 15: Chiton ---\n",
    "What is the lowest total risk of any path from the top left to the bottom right?"
   ]
  },
  {
   "cell_type": "code",
   "execution_count": 11,
   "metadata": {},
   "outputs": [],
   "source": [
    "import aoc_utils\n",
    "\n",
    "class ChitonGraph:\n",
    "    def __init__(self, filename):\n",
    "        with open(filename) as f:\n",
    "            raw = f.read()\n",
    "        \n",
    "        self.weights = aoc_utils.str_to_2d_array(raw)\n",
    "        self.vertices = set()\n",
    "        self.end_vertex = (len(self.weights)-1, len(self.weights[0])-1)\n",
    "\n",
    "        for r in range(len(self.weights)):\n",
    "            for c in range(len(self.weights[0])):\n",
    "                self.vertices.add((r, c))\n",
    "\n",
    "    def find_shortest_path(self):\n",
    "        # Distance of every vertex from the origin (0, 0)\n",
    "        distance = {v: float(\"inf\") for v in self.vertices}\n",
    "\n",
    "        # Start at origin, distance=0\n",
    "        curr_vertex = (0, 0)\n",
    "        curr_distance = 0\n",
    "\n",
    "        while curr_vertex != self.end_vertex:\n",
    "            del(distance[curr_vertex])\n",
    "            r, c = curr_vertex\n",
    "\n",
    "            # For every adjacent unvisited vertex, update distance from origin\n",
    "            # (note that not all of these vertices exist)\n",
    "            adjacent_vertices = [(r, c-1), (r, c+1), (r-1, c), (r+1, c)]\n",
    "            for adj_v in adjacent_vertices:\n",
    "                if adj_v in distance:\n",
    "                    adj_r, adj_c = adj_v\n",
    "                    dist_to_v = self.weights[adj_r][adj_c]\n",
    "                    distance[adj_v] = min(distance[adj_v], curr_distance + dist_to_v)\n",
    "\n",
    "            # Get the next vertex with the shortest distance\n",
    "            min_dist = min(distance.values())\n",
    "            curr_vertex, curr_distance =\\\n",
    "                next((v, d) for v, d in distance.items() if d == min_dist)\n",
    "        \n",
    "        return curr_distance"
   ]
  },
  {
   "cell_type": "code",
   "execution_count": 13,
   "metadata": {},
   "outputs": [],
   "source": [
    "ex1_graph = ChitonGraph(\"./inputs/Day15ex.txt\")\n",
    "ex1_solution = 40\n",
    "\n",
    "assert ex1_solution == ex1_graph.find_shortest_path()"
   ]
  },
  {
   "cell_type": "code",
   "execution_count": 14,
   "metadata": {},
   "outputs": [
    {
     "data": {
      "text/plain": [
       "390"
      ]
     },
     "execution_count": 14,
     "metadata": {},
     "output_type": "execute_result"
    }
   ],
   "source": [
    "p1_graph = ChitonGraph(\"./inputs/Day15.txt\")\n",
    "p1_graph.find_shortest_path()"
   ]
  },
  {
   "cell_type": "markdown",
   "metadata": {},
   "source": [
    "## Part 2\n",
    "Using the full map, what is the lowest total risk of any path from the top left to the bottom right?"
   ]
  },
  {
   "cell_type": "code",
   "execution_count": 3,
   "metadata": {},
   "outputs": [
    {
     "data": {
      "text/plain": [
       "((0, 0), 100)"
      ]
     },
     "execution_count": 3,
     "metadata": {},
     "output_type": "execute_result"
    }
   ],
   "source": []
  }
 ],
 "metadata": {
  "interpreter": {
   "hash": "a4d16f272948a56a74322b7d603a05d4f37e6ac5a8ca06c2aaf0ba1c89b36634"
  },
  "kernelspec": {
   "display_name": "Python 3.7.6 64-bit ('py3r': conda)",
   "name": "python3"
  },
  "language_info": {
   "codemirror_mode": {
    "name": "ipython",
    "version": 3
   },
   "file_extension": ".py",
   "mimetype": "text/x-python",
   "name": "python",
   "nbconvert_exporter": "python",
   "pygments_lexer": "ipython3",
   "version": "3.7.3"
  },
  "orig_nbformat": 4
 },
 "nbformat": 4,
 "nbformat_minor": 2
}
