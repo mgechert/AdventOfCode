{
 "cells": [
  {
   "cell_type": "markdown",
   "metadata": {},
   "source": [
    "## --- Day 19: Beacon Scanner ---"
   ]
  },
  {
   "cell_type": "code",
   "execution_count": 1,
   "metadata": {},
   "outputs": [],
   "source": [
    "from collections import Counter\n",
    "from itertools import product\n",
    "import re\n",
    "from scipy.spatial.transform import Rotation\n",
    "from typing import List, Tuple\n",
    "\n",
    "class Scanner:\n",
    "    # Must match this many beacons with another Scanner to be considered \"overlapping\"\n",
    "    MIN_MATCHING = 12\n",
    "\n",
    "    def __init__(self, name: str, beacons: list) -> None:\n",
    "        \"\"\"\n",
    "        Initialize from a list of beacons represented as \n",
    "        (x, y, z) points relative to the scanner\n",
    "        \"\"\"\n",
    "        self.name = name\n",
    "        self.beacons = beacons\n",
    "        self.absolute_position = None      \n",
    "\n",
    "    def set_origin(self) -> None:\n",
    "        \"\"\"Sets this scanner as the origin, 'aligning' it to itself\"\"\"\n",
    "        self.absolute_position = (0, 0, 0)\n",
    "\n",
    "    def is_aligned(self) -> bool:\n",
    "        return self.absolute_position is not None\n",
    "\n",
    "    def try_align_to_scanner(self, other: \"Scanner\") -> None:\n",
    "        if not other.is_aligned():\n",
    "            return\n",
    "\n",
    "        oriented_beacons, v_diff = self._find_aligned_beacon_set(other)\n",
    "\n",
    "        if oriented_beacons is None:\n",
    "            return\n",
    "\n",
    "        # Save the orientation that aligned (still relative to me)\n",
    "        self.beacons = oriented_beacons\n",
    "\n",
    "        # Calculate absolute position relative to origin\n",
    "        other_x, other_y, other_z = other.absolute_position\n",
    "        dx, dy, dz = v_diff\n",
    "        self.absolute_position = (other_x-dx, other_y-dy, other_z-dz)\n",
    "\n",
    "    def _find_aligned_beacon_set(self, other: \"Scanner\") -> Tuple[list, Tuple[int]]:\n",
    "        \"\"\"\n",
    "        Rotate all my beacons and compare them to the other Scanner to see\n",
    "        if at least MIN_MATCHING beacons are overlapping. Returns MY beacons in the\n",
    "        rotated orientation that aligns with the other Scanner's beacons, or None\n",
    "        if there is no match\n",
    "        \"\"\"\n",
    "        for rotation in Rotation.create_group(group=\"O\"):\n",
    "            rotated_beacons = rotation.apply(self.beacons)\n",
    "\n",
    "            # Compare rotated beacons to the other Scanner's beacons\n",
    "            differences = []\n",
    "\n",
    "            for (ax, ay, az), (bx, by, bz) in product(rotated_beacons.astype(int), other.beacons):\n",
    "                differences.append((int(ax-bx), int(ay-by), int(az-bz)))\n",
    "\n",
    "            # If there were at least MIN_MATCHING common vectors, can align to this orientation\n",
    "            v_diff, count = Counter(differences).most_common(1)[0]\n",
    "            if count >= self.MIN_MATCHING:\n",
    "                # print(f\"Most common diff was {v_diff}\")\n",
    "                # print(f\"Intersection of {other.name} and {self.name} is {count}\")\n",
    "\n",
    "                return rotated_beacons.astype(int), v_diff\n",
    "\n",
    "        return None, None\n",
    "\n",
    "    def get_absolute_beacons(self) -> List[Tuple[int]]:\n",
    "        \"\"\"Return a list of all beacons relative to the origin scanner\"\"\"\n",
    "        absolute_beacons = []\n",
    "        dx, dy, dz = self.absolute_position\n",
    "        for beacon in self.beacons:\n",
    "            x, y, z = beacon\n",
    "            absolute_beacons.append((x+dx, y+dy, z+dz))\n",
    "\n",
    "        return absolute_beacons\n",
    "\n",
    "    @classmethod\n",
    "    def read_scanners_file(cls, filename: str) -> List[\"Scanner\"]:\n",
    "        \"\"\"Load all scanners represented in filename and return a list of Scanner objects\"\"\"\n",
    "        scanners = []\n",
    "        beacons = []        # Set of beacons for the current Scanner object\n",
    "        with open(filename) as f:\n",
    "            for line in f.readlines():\n",
    "                match = re.search(r\"scanner \\d+\", line)\n",
    "                if not match and len(line.rstrip()) > 0:\n",
    "                    # Read beacon for current scanner\n",
    "                    points = tuple(int(c) for c in line.split(\",\"))\n",
    "                    beacons.append(points)\n",
    "                elif match:\n",
    "                    if len(beacons) > 0:\n",
    "                        # Create the Scanner for the last set of beacons\n",
    "                        scanners.append(Scanner(scanner_name, beacons))\n",
    "                    # Next read a new scanner's list of beacons\n",
    "                    beacons = []\n",
    "                    scanner_name = match[0]\n",
    "        # Add the last scanner read\n",
    "        scanners.append(Scanner(scanner_name, beacons))\n",
    "\n",
    "        return scanners\n"
   ]
  },
  {
   "cell_type": "code",
   "execution_count": 2,
   "metadata": {},
   "outputs": [],
   "source": [
    "filename = \"./inputs/Day19ex.txt\"\n",
    "scanners = Scanner.read_scanners_file(filename)\n",
    "scanner0 = scanners[0]\n",
    "scanner1 = scanners[1]\n",
    "\n",
    "scanner0.set_origin()\n",
    "scanner1.try_align_to_scanner(scanner0)\n",
    "intersect_0_1 = set(scanner0.get_absolute_beacons()).intersection(set(scanner1.get_absolute_beacons()))\n",
    "assert (68, -1246, -43) == scanner1.absolute_position\n",
    "assert 12 == len(intersect_0_1)"
   ]
  },
  {
   "cell_type": "code",
   "execution_count": 3,
   "metadata": {},
   "outputs": [],
   "source": [
    "scanner4 = scanners[4]\n",
    "scanner4.try_align_to_scanner(scanner1)\n",
    "assert (-20, -1133, 1061) == scanner4.absolute_position"
   ]
  },
  {
   "cell_type": "code",
   "execution_count": 4,
   "metadata": {},
   "outputs": [],
   "source": [
    "def align_all(filename: str, verbose: bool=True) -> Tuple[list, set]:\n",
    "    \"\"\"Load scanners from given file and return list of aligned scanners, tuple of common beacons\"\"\"\n",
    "    unknown_scanners = Scanner.read_scanners_file(filename)\n",
    "\n",
    "    # Pop the first unknown scanner and mark it as the origin\n",
    "    curr_scanner = unknown_scanners.pop(0)\n",
    "    curr_scanner.set_origin()\n",
    "\n",
    "    # Create a list of known scanners, starting with the origin\n",
    "    known_scanners = [curr_scanner]\n",
    "\n",
    "    # Set of all beacons relative to the origin\n",
    "    all_beacons = set(curr_scanner.beacons)\n",
    "    beacons_aligned = 0     # for debugging only\n",
    "\n",
    "    # Process until all unknown scanners are known (assumes they can all be solved!)\n",
    "    while len(unknown_scanners) > 0:\n",
    "        curr_scanner = unknown_scanners.pop(0)\n",
    "\n",
    "        # Try to align this unknown scanner to each known scanner until one aligns\n",
    "        i = 0\n",
    "        while not curr_scanner.is_aligned() and i < len(known_scanners):\n",
    "            curr_scanner.try_align_to_scanner(known_scanners[i])\n",
    "            i += 1\n",
    "\n",
    "        if curr_scanner.is_aligned():\n",
    "            # Move it to the \"known\" list and add its beacons (relative to origin) to the all_beacons set\n",
    "            beacons_aligned += len(curr_scanner.beacons)\n",
    "            all_beacons.update(curr_scanner.get_absolute_beacons())\n",
    "            known_scanners.append(curr_scanner)\n",
    "        else:\n",
    "            # Put it back at the end of the queue and try again later\n",
    "            unknown_scanners.append(curr_scanner)\n",
    "\n",
    "    if verbose:\n",
    "        for s in known_scanners:\n",
    "            print(f\"{s.name} absolute position: {s.absolute_position}\")\n",
    "\n",
    "        print(f\"{len(all_beacons)} common beacons out of {beacons_aligned} total\")\n",
    "\n",
    "    return known_scanners, all_beacons\n",
    "\n",
    "def find_unique_beacons(filename: str, verbose: bool=True) -> int:\n",
    "    _, unique_beacons = align_all(filename, verbose=verbose)\n",
    "    \n",
    "    return unique_beacons"
   ]
  },
  {
   "cell_type": "code",
   "execution_count": 5,
   "metadata": {},
   "outputs": [
    {
     "name": "stdout",
     "output_type": "stream",
     "text": [
      "scanner 0 absolute position: (0, 0, 0)\n",
      "scanner 1 absolute position: (68, -1246, -43)\n",
      "scanner 3 absolute position: (-92, -2380, -20)\n",
      "scanner 4 absolute position: (-20, -1133, 1061)\n",
      "scanner 2 absolute position: (1105, -1205, 1229)\n",
      "79 common beacons out of 102 total\n"
     ]
    }
   ],
   "source": [
    "## Example\n",
    "ex1_filename = \"./inputs/Day19ex.txt\"\n",
    "ex1_beacons = find_unique_beacons(filename) \n",
    "assert 79 == len(ex1_beacons)"
   ]
  },
  {
   "cell_type": "code",
   "execution_count": 6,
   "metadata": {},
   "outputs": [
    {
     "name": "stdout",
     "output_type": "stream",
     "text": [
      "381 total beacons\n"
     ]
    }
   ],
   "source": [
    "## Part 1 solution\n",
    "p1_beacons = find_unique_beacons(\"./inputs/Day19.txt\", verbose=False)\n",
    "print(len(p1_beacons), \"total beacons\")"
   ]
  },
  {
   "cell_type": "markdown",
   "metadata": {},
   "source": [
    "### --- Part Two ---\n",
    "\n",
    "What is the largest Manhattan distance between any two scanners?\n",
    "\n",
    "In the above example, scanners 2 `(1105,-1205,1229)` and 3 `(-92,-2380,-20)` are the largest Manhattan distance apart. In total, they are 1197 + 1175 + 1249 = __3621__ units apart."
   ]
  },
  {
   "cell_type": "code",
   "execution_count": 7,
   "metadata": {},
   "outputs": [],
   "source": [
    "def manhattan_dist(point_a: Tuple[int], point_b: Tuple[int]) -> int:\n",
    "    ax, ay, az = point_a\n",
    "    bx, by, bz = point_b\n",
    "    return abs(ax-bx) + abs(ay-by) + abs(az-bz)\n",
    "\n",
    "def find_max_dist(known_scanners: List[\"Scanner\"]):\n",
    "    if not known_scanners or len(known_scanners) == 0:\n",
    "        return None\n",
    "\n",
    "    max_dist = 0\n",
    "\n",
    "    while len(known_scanners) > 0:\n",
    "        curr_scanner = known_scanners.pop(0)\n",
    "        for scanner in known_scanners:\n",
    "            curr_dist = manhattan_dist(curr_scanner.absolute_position, scanner.absolute_position)\n",
    "            # print(f\"Dist from {curr_scanner.name} to {scanner.name} is {curr_dist}\")\n",
    "            max_dist = max(max_dist, curr_dist)\n",
    "\n",
    "    return max_dist\n",
    "\n",
    "assert 3621 == manhattan_dist((1105, -1205, 1229), (-92, -2380, -20))"
   ]
  },
  {
   "cell_type": "code",
   "execution_count": 8,
   "metadata": {},
   "outputs": [],
   "source": [
    "# ex1 inputs\n",
    "known_scanners, _ = align_all(\"./inputs/Day19ex.txt\", verbose=False)\n",
    "assert 3621 == find_max_dist(known_scanners)"
   ]
  },
  {
   "cell_type": "code",
   "execution_count": 9,
   "metadata": {},
   "outputs": [
    {
     "name": "stdout",
     "output_type": "stream",
     "text": [
      "Aligned 31 scanners\n",
      "Largest Manhattan distance is 12201\n"
     ]
    }
   ],
   "source": [
    "# P2 solution\n",
    "known_scanners, _ = align_all(\"./inputs/Day19.txt\", verbose=False)\n",
    "print(f\"Aligned {len(known_scanners)} scanners\")\n",
    "print(f\"Largest Manhattan distance is {find_max_dist(known_scanners)}\")"
   ]
  }
 ],
 "metadata": {
  "interpreter": {
   "hash": "a4d16f272948a56a74322b7d603a05d4f37e6ac5a8ca06c2aaf0ba1c89b36634"
  },
  "kernelspec": {
   "display_name": "Python 3.7.6 64-bit ('py3r': conda)",
   "name": "python3"
  },
  "language_info": {
   "codemirror_mode": {
    "name": "ipython",
    "version": 3
   },
   "file_extension": ".py",
   "mimetype": "text/x-python",
   "name": "python",
   "nbconvert_exporter": "python",
   "pygments_lexer": "ipython3",
   "version": "3.7.6"
  },
  "orig_nbformat": 4
 },
 "nbformat": 4,
 "nbformat_minor": 2
}
